{
 "cells": [
  {
   "cell_type": "markdown",
   "metadata": {},
   "source": [
    "## 1. 373 - Find K Pairs with Smallest Sums\n",
    "You are given two integer arrays nums1 and nums2 sorted in ascending order and an integer k.  \n",
    "Define a pair (u,v) which consists of one element from the first array and one element from the second array.  \n",
    "Find the k pairs (u1,v1),(u2,v2) ...(uk,vk) with the smallest sums.\n",
    "\n",
    "**idea** heap  \n",
    "notes: heap can record tuple/list and it's sorted by the first value\n",
    "\n",
    "if we have a table:  \n",
    "nums1: 1,7,11  \n",
    "nums2: 2,4,6  \n",
    "3  9  13  \n",
    "5  11 15  \n",
    "7  13 17  \n",
    "for (0,0) next step would be either (0,1) or (1,0)  \n",
    "for (1,0) next step would be either (0,1) or (1,1) or (2,0)  \n",
    "\n",
    "i.e. if j != 0, we add (i,j+1) into heap  \n",
    "if j == 0: we also add (i+1,0) into heap"
   ]
  },
  {
   "cell_type": "code",
   "execution_count": 1,
   "metadata": {
    "collapsed": true
   },
   "outputs": [],
   "source": [
    "class Solution(object):\n",
    "    def kSmallestPairs(self, nums1, nums2, k):\n",
    "        \"\"\"\n",
    "        :type nums1: List[int]\n",
    "        :type nums2: List[int]\n",
    "        :type k: int\n",
    "        :rtype: List[List[int]]\n",
    "        \"\"\"\n",
    "        def push(i,j):\n",
    "            if i < len(nums1) and j < len(nums2):\n",
    "                heapq.heappush(queue, [nums1[i]+nums2[j],i,j])\n",
    "        queue, ret = [], []\n",
    "        push(0,0)\n",
    "        while queue and len(ret)<k:\n",
    "            s, i, j = heapq.heappop(queue)\n",
    "            ret.append((nums1[i],nums2[j]))\n",
    "            push(i,j+1)\n",
    "            if j == 0: push(i+1,j)\n",
    "        return ret"
   ]
  },
  {
   "cell_type": "markdown",
   "metadata": {},
   "source": [
    "### 2. 374 - Guess Number Higher or Lower\n",
    "\n",
    "**idea** binary search"
   ]
  },
  {
   "cell_type": "code",
   "execution_count": 2,
   "metadata": {
    "collapsed": true
   },
   "outputs": [],
   "source": [
    "class Solution(object):\n",
    "    def guessNumber(self, n):\n",
    "        \"\"\"\n",
    "        :type n: int\n",
    "        :rtype: int\n",
    "        \"\"\"\n",
    "        l,r = 1,n\n",
    "        while l < r:\n",
    "            mid = (l+r)/2\n",
    "            result = guess(mid)  # if we are gonna call this value multiple times, it's better to name it\n",
    "            if result == 0:\n",
    "                return mid\n",
    "            elif result < 0:\n",
    "                r = mid-1\n",
    "            else:\n",
    "                l = mid+1\n",
    "        return l"
   ]
  },
  {
   "cell_type": "markdown",
   "metadata": {},
   "source": [
    "## 3. 375 - Guess Number Higher or Lower II\n",
    "if we guess wrong, we will lose money. how many money should we have to gurantee win?\n",
    "\n",
    "**idea** minimax\n",
    "1. max cost when k fixed: we set a start guess k, it every guess we made is wrong until we have one possible value left\n",
    "2. min cost when we compare all the k. we should decide a best strategy to ensure if the wrost case occur, we have enough money.  \n",
    "\n",
    "dp matrix  \n",
    "the money we need in the range of (i,j)\n",
    "\n",
    "notes: i starts from tail and j starts from start, to ensure everytime we measure (i,j), (i,k) and (k+1,j) is already measured."
   ]
  },
  {
   "cell_type": "code",
   "execution_count": 3,
   "metadata": {
    "collapsed": true
   },
   "outputs": [],
   "source": [
    "class Solution(object):\n",
    "    def getMoneyAmount(self, n):\n",
    "        \"\"\"\n",
    "        :type n: int\n",
    "        :rtype: int\n",
    "        \"\"\"\n",
    "        # costs: cost for every possible range\n",
    "        costs = [[0]*(n+1) for i in range(n+1)]\n",
    "        for i in range(n,0,-1):\n",
    "            for j in range(i+1,n+1):\n",
    "                # min: best strategy, i.e. we choose where we start\n",
    "                # max: wrost case, i.e. even if we choose the best strategy\n",
    "                # every guess we made is wrong until there is only one choice left\n",
    "                # k: our current choice\n",
    "                costs[i][j] = min(k + max(costs[i][k-1] if k-1 >= 0 else 0, costs[k+1][j] if k+1 <= n else 0) for k in range(i,j+1))\n",
    "        return costs[1][n]"
   ]
  },
  {
   "cell_type": "markdown",
   "metadata": {},
   "source": [
    "## 4. 376 - Wiggle Subsequence\n",
    "A sequence of numbers is called a wiggle sequence if the differences between successive numbers strictly alternate between positive and negative. The first difference (if one exists) may be either positive or negative. A sequence with fewer than two elements is trivially a wiggle sequence.  \n",
    "Given a sequence of integers, return the length of the longest subsequence that is a wiggle sequence. A subsequence is obtained by deleting some number of elements (eventually, also zero) from the original sequence, leaving the remaining elements in their original order.\n",
    "\n",
    "**idea** dp  \n",
    "status: longest subsequence end with an up/down  \n",
    "function: up=down+1; down=up+1"
   ]
  },
  {
   "cell_type": "code",
   "execution_count": 4,
   "metadata": {
    "collapsed": true
   },
   "outputs": [],
   "source": [
    "# dictionary\n",
    "class Solution(object):\n",
    "    def wiggleMaxLength(self, nums):\n",
    "        \"\"\"\n",
    "        :type nums: List[int]\n",
    "        :rtype: int\n",
    "        \"\"\"\n",
    "        n = len(nums)\n",
    "        if n < 2: return n\n",
    "        dp = {'+':1, '-':1}\n",
    "        for i in range(1,n):\n",
    "            if nums[i] > nums[i-1]:\n",
    "                dp['+'] = dp['-']+1\n",
    "                # no need to max(dp['+'], dp['-']+1) since dp['-']+1 >= dp['+']\n",
    "                # if '-' -> '+': dp['-']+1 = (dp['+']-1)+1\n",
    "                # elif '+' -> '-': dp['-']+1 = (dp['+']+1)+1\n",
    "            elif nums[i] < nums[i-1]:\n",
    "                dp['-'] = dp['+']+1\n",
    "        return max(dp['+'],dp['-'])"
   ]
  },
  {
   "cell_type": "code",
   "execution_count": 5,
   "metadata": {
    "collapsed": true
   },
   "outputs": [],
   "source": [
    "# up and down\n",
    "class Solution(object):\n",
    "    def wiggleMaxLength(self, nums):\n",
    "        \"\"\"\n",
    "        :type nums: List[int]\n",
    "        :rtype: int\n",
    "        \"\"\"\n",
    "        if not nums: return 0\n",
    "        up = down = 1\n",
    "        for i in range(1,len(nums)):\n",
    "            if nums[i] > nums[i-1]:\n",
    "                up = down+1\n",
    "            elif nums[i] < nums[i-1]:\n",
    "                down = up+1\n",
    "        return max(up,down)"
   ]
  },
  {
   "cell_type": "markdown",
   "metadata": {},
   "source": [
    "## 5. 39 - Combination Sum\n",
    "Given a set of candidate numbers (candidates) (without duplicates) and a target number (target), find all unique combinations in candidates where the candidate numbers sums to target.  \n",
    "The same repeated number may be chosen from candidates unlimited number of times.\n",
    "\n",
    "**idea** \n",
    "### backtracking\n",
    "1. return none when we come across stop condition\n",
    "2. path.pop() when we get back"
   ]
  },
  {
   "cell_type": "code",
   "execution_count": 6,
   "metadata": {
    "collapsed": true
   },
   "outputs": [],
   "source": [
    "class Solution(object):\n",
    "    def combinationSum(self, candidates, target):\n",
    "        \"\"\"\n",
    "        :type candidates: List[int]\n",
    "        :type target: int\n",
    "        :rtype: List[List[int]]\n",
    "        \"\"\"\n",
    "        c = sorted(candidates)\n",
    "        ret = []\n",
    "        def find(c,target,path):\n",
    "            if not c: return \n",
    "            if c[0]>target:\n",
    "                if path: path.pop()\n",
    "                return \n",
    "            if c[0] == target:\n",
    "                ret.append(path+[c[0]]) # can't append(path) since path change ret will also change\n",
    "                return \n",
    "            else:\n",
    "                find(c,target-c[0],path+[c[0]])\n",
    "                find(c[1:],target,path)\n",
    "        find(c,target,[])\n",
    "        return ret"
   ]
  }
 ],
 "metadata": {
  "kernelspec": {
   "display_name": "Python 2",
   "language": "python",
   "name": "python2"
  },
  "language_info": {
   "codemirror_mode": {
    "name": "ipython",
    "version": 2
   },
   "file_extension": ".py",
   "mimetype": "text/x-python",
   "name": "python",
   "nbconvert_exporter": "python",
   "pygments_lexer": "ipython2",
   "version": "2.7.14"
  }
 },
 "nbformat": 4,
 "nbformat_minor": 2
}
