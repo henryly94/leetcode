{
 "cells": [
  {
   "cell_type": "markdown",
   "metadata": {},
   "source": [
    "## 1. 209 - Minimum Size Subarray Sum\n",
    "Given an array of n positive integers and a positive integer s, find the minimal length of a contiguous subarray of which the sum ≥ s. If there isn't one, return 0 instead.\n",
    "\n",
    "**idea** two pointers, one pass  \n",
    "if sum < s, move fast pointer to right  \n",
    "if sum >= s, move slow pointer to right  \n",
    "remember to memorize the total value"
   ]
  },
  {
   "cell_type": "code",
   "execution_count": 1,
   "metadata": {
    "collapsed": true
   },
   "outputs": [],
   "source": [
    "class Solution(object):\n",
    "    def minSubArrayLen(self, s, nums):\n",
    "        \"\"\"\n",
    "        :type s: int\n",
    "        :type nums: List[int]\n",
    "        :rtype: int\n",
    "        \"\"\"\n",
    "        if not nums: return 0\n",
    "        i, j, total, minlen = 0, 1, 0, len(nums)+1\n",
    "        while i < j <= len(nums):\n",
    "            total += nums[j-1]\n",
    "            while total >= s:\n",
    "                minlen = min(j-i, minlen)\n",
    "                total -= nums[i]\n",
    "                i += 1\n",
    "            j += 1\n",
    "        return 0 if minlen == len(nums)+1 else minlen"
   ]
  },
  {
   "cell_type": "markdown",
   "metadata": {},
   "source": [
    "**idea** dfs  \n",
    "for every num in the array, take it as the right end  \n",
    "find the left end of it"
   ]
  },
  {
   "cell_type": "code",
   "execution_count": 2,
   "metadata": {
    "collapsed": true
   },
   "outputs": [],
   "source": [
    "class Solution(object):\n",
    "    def minSubArrayLen(self, s, nums):\n",
    "        \"\"\"\n",
    "        :type s: int\n",
    "        :type nums: List[int]\n",
    "        :rtype: int\n",
    "        \"\"\"\n",
    "        if not nums: return 0\n",
    "        for i,x in enumerate(nums[1:],1):\n",
    "            nums[i] = nums[i-1] + x\n",
    "        minlen = len(nums)+1\n",
    "        for r,x in enumerate(nums):\n",
    "            if x >= s:\n",
    "                l = self.bs(nums,s,r,x)\n",
    "                minlen = min(r-l+1, minlen)\n",
    "        return minlen if minlen <= len(nums) else 0\n",
    "        \n",
    "    def bs(self,nums,s,r,x):\n",
    "        l = 0\n",
    "        while l<r:\n",
    "            mid = (l+r)/2\n",
    "            if x-nums[mid] >= s:\n",
    "                l = mid + 1\n",
    "            else:\n",
    "                r = mid\n",
    "        return l           "
   ]
  },
  {
   "cell_type": "markdown",
   "metadata": {},
   "source": [
    "## 2. 211 - Add and Search Word - Data structure design\n",
    "Design a data structure that supports the following two operations:  \n",
    "void addWord(word)  \n",
    "bool search(word)  \n",
    "search(word) can search a literal word or a regular expression string containing only letters a-z or .. A . means it can represent any one letter.\n",
    "\n",
    "**idea** dictionary  \n",
    "key: length of word, value: word  \n",
    "search every word with corresponding length"
   ]
  },
  {
   "cell_type": "code",
   "execution_count": 3,
   "metadata": {
    "collapsed": true
   },
   "outputs": [],
   "source": [
    "class WordDictionary(object):\n",
    "\n",
    "    def __init__(self):\n",
    "        \"\"\"\n",
    "        Initialize your data structure here.\n",
    "        \"\"\"\n",
    "        self.dic = collections.defaultdict(list)\n",
    "\n",
    "    def addWord(self, word):\n",
    "        \"\"\"\n",
    "        Adds a word into the data structure.\n",
    "        :type word: str\n",
    "        :rtype: void\n",
    "        \"\"\"\n",
    "        self.dic[len(word)].append(word)\n",
    "\n",
    "    def search(self, word):\n",
    "        \"\"\"\n",
    "        Returns if the word is in the data structure. A word could contain the dot character '.' to represent any one letter.\n",
    "        :type word: str\n",
    "        :rtype: bool\n",
    "        \"\"\"\n",
    "        for v in self.dic[len(word)]:\n",
    "            for i,ch in enumerate(word):\n",
    "                if ch != '.' and ch != v[i]:\n",
    "                    break\n",
    "                # we see a wrong word, break this loop, search another word\n",
    "            else: return True\n",
    "        return False\n",
    "\n",
    "\n",
    "# Your WordDictionary object will be instantiated and called as such:\n",
    "# obj = WordDictionary()\n",
    "# obj.addWord(word)\n",
    "# param_2 = obj.search(word)"
   ]
  },
  {
   "cell_type": "markdown",
   "metadata": {},
   "source": [
    "**idea** trie"
   ]
  },
  {
   "cell_type": "code",
   "execution_count": 4,
   "metadata": {
    "collapsed": true
   },
   "outputs": [],
   "source": [
    "class TrieNode(object):\n",
    "    \n",
    "    def __init__(self):\n",
    "        self.isword = False\n",
    "        self.children = {}\n",
    "    \n",
    "class WordDictionary(object):\n",
    "\n",
    "    def __init__(self):\n",
    "        \"\"\"\n",
    "        Initialize your data structure here.\n",
    "        \"\"\"\n",
    "        self.root = TrieNode()\n",
    "\n",
    "    def addWord(self, word):\n",
    "        \"\"\"\n",
    "        Adds a word into the data structure.\n",
    "        :type word: str\n",
    "        :rtype: void\n",
    "        \"\"\"\n",
    "        node = self.root\n",
    "        for ch in word:\n",
    "            if ch not in node.children:\n",
    "                node.children[ch] = TrieNode()\n",
    "            node = node.children[ch]\n",
    "        node.isword = True\n",
    "            \n",
    "\n",
    "    def search(self, word):\n",
    "        \"\"\"\n",
    "        Returns if the word is in the data structure. A word could contain the dot character '.' to represent any one letter.\n",
    "        :type word: str\n",
    "        :rtype: bool\n",
    "        \"\"\"\n",
    "        return self.helper(self.root, word)\n",
    "    \n",
    "    def helper(self, node, word):\n",
    "        for i,ch in enumerate(word):\n",
    "            if ch != '.' and ch not in node.children:\n",
    "                return False\n",
    "            elif ch in node.children:\n",
    "                node = node.children[ch]\n",
    "            elif ch == '.':\n",
    "                for child in node.children:\n",
    "                    if self.helper(node.children[child], word[i+1:]):\n",
    "                        return True\n",
    "                return False\n",
    "        return node.isword\n",
    "                \n",
    "\n",
    "\n",
    "# Your WordDictionary object will be instantiated and called as such:\n",
    "# obj = WordDictionary()\n",
    "# obj.addWord(word)\n",
    "# param_2 = obj.search(word)"
   ]
  },
  {
   "cell_type": "markdown",
   "metadata": {},
   "source": [
    "## 3. 213 - House Robber II\n",
    "You are a professional robber planning to rob houses along a street. Each house has a certain amount of money stashed. All houses at this place are **arranged in a circle**. That means the first house is the neighbor of the last one. Meanwhile, adjacent houses have security system connected and it will automatically contact the police if two adjacent houses were broken into on the same night.  \n",
    "Given a list of non-negative integers representing the amount of money of each house, determine the maximum amount of money you can rob tonight without alerting the police.\n",
    "\n",
    "**idea** dp, but divide into two cases:  \n",
    "1. rob the first house\n",
    "2. don't rob the first house"
   ]
  },
  {
   "cell_type": "code",
   "execution_count": 5,
   "metadata": {
    "collapsed": true
   },
   "outputs": [],
   "source": [
    "class Solution(object):\n",
    "    def rob(self, nums):\n",
    "        \"\"\"\n",
    "        :type nums: List[int]\n",
    "        :rtype: int\n",
    "        \"\"\"\n",
    "        if len(nums) == 1: return nums[0]\n",
    "        # divide into two cases: house 0 is robbed or not\n",
    "        return max(self.helper(nums[1:]), self.helper(nums[:-1]))\n",
    "        \n",
    "    def helper(self, nums):\n",
    "        pre, cur = 0, 0\n",
    "        for num in nums:\n",
    "            pre, cur = cur, max(pre+num, cur)\n",
    "        return cur"
   ]
  },
  {
   "cell_type": "markdown",
   "metadata": {},
   "source": [
    "## 4. 337 - House Robber III\n",
    "The thief has found himself a new place for his thievery again. There is only one entrance to this area, called the \"root.\" Besides the root, each house has one and only one parent house. After a tour, the smart thief realized that \"all houses in this place forms a binary tree\". It will automatically contact the police **if two directly-linked houses** were broken into on the same night. Determine the maximum amount of money the thief can rob tonight without alerting the police.\n",
    "\n",
    "**idea** dfs. Define a subrob function, first param is optimal if we can rob root, second param is optimal if we don't rob root at all  \n",
    "0. if we rob root, and don't rob left and right node\n",
    "1. if we don'r rob root, and can rob left and right node"
   ]
  },
  {
   "cell_type": "code",
   "execution_count": 6,
   "metadata": {
    "collapsed": true
   },
   "outputs": [],
   "source": [
    "# Definition for a binary tree node.\n",
    "# class TreeNode(object):\n",
    "#     def __init__(self, x):\n",
    "#         self.val = x\n",
    "#         self.left = None\n",
    "#         self.right = None\n",
    "\n",
    "class Solution(object):\n",
    "    def rob(self, root):\n",
    "        \"\"\"\n",
    "        :type root: TreeNode\n",
    "        :rtype: int\n",
    "        \"\"\"\n",
    "        return self.subrob(root)[0]\n",
    "    \n",
    "    \n",
    "    def subrob(self, root):\n",
    "        # 0: with root\n",
    "        # 1: without root\n",
    "        if not root:\n",
    "            return (0,0)\n",
    "        left = self.subrob(root.left)\n",
    "        right = self.subrob(root.right)\n",
    "        return (max(left[1]+right[1]+root.val, left[0]+right[0]), left[0]+right[0])"
   ]
  },
  {
   "cell_type": "markdown",
   "metadata": {},
   "source": [
    "### 5. 414 - Third Maximum Number\n",
    "**idea** memorize three largest number, compare every new number to the third largest one"
   ]
  },
  {
   "cell_type": "code",
   "execution_count": 7,
   "metadata": {
    "collapsed": true
   },
   "outputs": [],
   "source": [
    "class Solution(object):\n",
    "    def thirdMax(self, nums):\n",
    "        \"\"\"\n",
    "        :type nums: List[int]\n",
    "        :rtype: int\n",
    "        \"\"\"\n",
    "        ret, mini = [], 0\n",
    "        for num in nums:\n",
    "            if num not in ret:\n",
    "                if len(ret) < 3:\n",
    "                    ret.append(num)\n",
    "                    mini = min(ret)\n",
    "                else:\n",
    "                    if num > mini:\n",
    "                        ret.remove(mini)\n",
    "                        ret.append(num)\n",
    "                        mini = min(ret)\n",
    "        return mini if len(ret) == 3 else max(nums)"
   ]
  }
 ],
 "metadata": {
  "kernelspec": {
   "display_name": "Python 2",
   "language": "python",
   "name": "python2"
  },
  "language_info": {
   "codemirror_mode": {
    "name": "ipython",
    "version": 2
   },
   "file_extension": ".py",
   "mimetype": "text/x-python",
   "name": "python",
   "nbconvert_exporter": "python",
   "pygments_lexer": "ipython2",
   "version": "2.7.14"
  }
 },
 "nbformat": 4,
 "nbformat_minor": 2
}
