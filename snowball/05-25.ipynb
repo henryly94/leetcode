{
 "cells": [
  {
   "cell_type": "markdown",
   "metadata": {},
   "source": [
    "## 459 - repeated substring pattern"
   ]
  },
  {
   "cell_type": "markdown",
   "metadata": {},
   "source": [
    "** idea **  loop through first substring  \n",
    "** condition **  \n",
    "length i no more than n/2  \n",
    "length i satisfy n % i == 0 so i can be a substring"
   ]
  },
  {
   "cell_type": "code",
   "execution_count": 29,
   "metadata": {},
   "outputs": [],
   "source": [
    "class Solution:\n",
    "    def repeatedSubstringPattern(self, s):\n",
    "        \"\"\"\n",
    "        :type s: str\n",
    "        :rtype: bool\n",
    "        \"\"\"\n",
    "        n = len(s)\n",
    "        flag = False\n",
    "        for i in range(1,int(n/2)+1):\n",
    "            if n % i == 0:\n",
    "                # whether the string can be \n",
    "                # constructed by repeated substring\n",
    "                if s[:i] * (n//i) == s: \n",
    "                    flag = True\n",
    "        return flag"
   ]
  },
  {
   "cell_type": "markdown",
   "metadata": {},
   "source": [
    "## 686 - repeated string match"
   ]
  },
  {
   "cell_type": "markdown",
   "metadata": {},
   "source": [
    "** idea ** loop through int i  \n",
    "** condition **  \n",
    "a * i >= b so b can be in a  \n",
    "only need to try i and $i + 1$ since $a \\times (i+1)$ let b try every position"
   ]
  },
  {
   "cell_type": "code",
   "execution_count": 31,
   "metadata": {},
   "outputs": [],
   "source": [
    "class Solution:\n",
    "    def repeatedStringMatch(self, A, B):\n",
    "        \"\"\"\n",
    "        :type A: str\n",
    "        :type B: str\n",
    "        :rtype: int\n",
    "        \"\"\"\n",
    "        n = (len(B)-1) // len(A) + 1\n",
    "        for i in range(n,n+2):\n",
    "            if B in A*i:\n",
    "                return i\n",
    "        return -1"
   ]
  },
  {
   "cell_type": "markdown",
   "metadata": {},
   "source": [
    "## 344 - reverse string"
   ]
  },
  {
   "cell_type": "code",
   "execution_count": 35,
   "metadata": {},
   "outputs": [],
   "source": [
    "class Solution:\n",
    "    def reverseString(self, s):\n",
    "        \"\"\"\n",
    "        :type s: str\n",
    "        :rtype: str\n",
    "        \"\"\"\n",
    "        result = str()\n",
    "        for i in range(1,len(s)+1):\n",
    "            result += s[-i]\n",
    "        return result "
   ]
  },
  {
   "cell_type": "code",
   "execution_count": 36,
   "metadata": {},
   "outputs": [],
   "source": [
    "class Solution:\n",
    "    def reverseString(self, s):\n",
    "        \"\"\"\n",
    "        :type s: str\n",
    "        :rtype: str\n",
    "        \"\"\"\n",
    "        return s[::-1]  #from end to start, stride=-1"
   ]
  },
  {
   "cell_type": "markdown",
   "metadata": {},
   "source": [
    "## 13 - roman to integer"
   ]
  },
  {
   "cell_type": "markdown",
   "metadata": {},
   "source": [
    "** idea **  use a dict to store value  \n",
    "if former latter's value is smaller than the latter one, substract it, like 'IV'= 1-5 =4"
   ]
  },
  {
   "cell_type": "code",
   "execution_count": null,
   "metadata": {
    "collapsed": true
   },
   "outputs": [],
   "source": [
    "class Solution:\n",
    "    def romanToInt(self, s):\n",
    "        \"\"\"\n",
    "        :type s: str\n",
    "        :rtype: int\n",
    "        \"\"\"\n",
    "        d = {'I':1,'V':5,'X':10,'L':50,'C':100,'D':500,'M':1000}\n",
    "        value = 0\n",
    "        for i in range(len(s)-1):\n",
    "            if d[s[i]] < d[s[i+1]]:\n",
    "                value -= d[s[i]]\n",
    "            else:\n",
    "                value += d[s[i]]\n",
    "        return value+d[s[-1]]"
   ]
  },
  {
   "cell_type": "markdown",
   "metadata": {},
   "source": [
    "## 189 - rotate array"
   ]
  },
  {
   "cell_type": "markdown",
   "metadata": {},
   "source": [
    "** idea ** \n",
    "reverse the first n-k elements  \n",
    "reverse the last k elements  \n",
    "reverse the entire array  \n",
    "\n",
    "For example: [1,2,3,4,5,6,7], k=3  \n",
    "[1,2,3,4, | 5,6,7] > [4,3,2,1, | 7,6,5] > [5,6,7,1,2,3,4]   \n",
    "4 would be the last one, 5 will be the first one  \n",
    "first let 4 be the first one, and 5 be the last  \n",
    "then reverse the whole array"
   ]
  },
  {
   "cell_type": "code",
   "execution_count": 47,
   "metadata": {},
   "outputs": [],
   "source": [
    "class Solution(object):\n",
    "    def rotate(self, nums, k):\n",
    "        \"\"\"\n",
    "        :type nums: List[int]\n",
    "        :type k: int\n",
    "        :rtype: void Do not return anything, modify nums in-place instead.\n",
    "        \"\"\"\n",
    "        k = k % len(nums)\n",
    "        n = len(nums) - 1 \n",
    "        self.reverse(nums,0,n-k)\n",
    "        self.reverse(nums,n-k+1,n)\n",
    "        self.reverse(nums,0,n)\n",
    "    \n",
    "    # reverse an array\n",
    "    def reverse(self,nums,start,end):\n",
    "        while start < end:\n",
    "            nums[start],nums[end] = nums[end],nums[start]\n",
    "            start += 1\n",
    "            end -= 1"
   ]
  }
 ],
 "metadata": {
  "kernelspec": {
   "display_name": "Python 3",
   "language": "python",
   "name": "python3"
  },
  "language_info": {
   "codemirror_mode": {
    "name": "ipython",
    "version": 3
   },
   "file_extension": ".py",
   "mimetype": "text/x-python",
   "name": "python",
   "nbconvert_exporter": "python",
   "pygments_lexer": "ipython3",
   "version": "3.5.4"
  }
 },
 "nbformat": 4,
 "nbformat_minor": 2
}
