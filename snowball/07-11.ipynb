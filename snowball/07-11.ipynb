{
 "cells": [
  {
   "cell_type": "markdown",
   "metadata": {},
   "source": [
    "## 1. 148 - Sort List\n",
    "Sort a linked list in O(n log n) time using constant space complexity.\n",
    "\n",
    "**idea** merge sort (kind of recursion)  \n",
    "split the list by mid point, sort and merge"
   ]
  },
  {
   "cell_type": "code",
   "execution_count": 1,
   "metadata": {
    "collapsed": true
   },
   "outputs": [],
   "source": [
    "class Solution(object):\n",
    "    def sortList(self, head):\n",
    "        \"\"\"\n",
    "        :type head: ListNode\n",
    "        :rtype: ListNode\n",
    "        \"\"\"\n",
    "        # stop condition\n",
    "        if not head: return \n",
    "        if not head.next: return head\n",
    "        \n",
    "        # find mid point\n",
    "        dummy = ListNode(None)\n",
    "        dummy.next = head\n",
    "        slow, fast = dummy, dummy\n",
    "        while fast and fast.next:\n",
    "            slow = slow.next\n",
    "            fast = fast.next.next\n",
    "        \n",
    "        # sort two lists seperately\n",
    "        head1 = self.sortList(slow.next)\n",
    "        slow.next = None\n",
    "        head2 = self.sortList(head)\n",
    "        \n",
    "        # merge\n",
    "        return self.merge(head1, head2)         \n",
    "        \n",
    "    def merge(self, head1, head2):\n",
    "        dummy = ListNode(None)\n",
    "        \n",
    "        # update tail\n",
    "        tail = dummy\n",
    "        \n",
    "        # add element one by one, one from head1, one from head2\n",
    "        while head1 and head2:\n",
    "            if head1.val <= head2.val:\n",
    "                tail.next = head1\n",
    "                tail = tail.next\n",
    "                head1 = head1.next\n",
    "            else:\n",
    "                tail.next = head2\n",
    "                tail = tail.next\n",
    "                head2 = head2.next\n",
    "                \n",
    "        # merge the rest part\n",
    "        if not head1:\n",
    "            tail.next = head2\n",
    "        if not head2:\n",
    "            tail.next = head1\n",
    "            \n",
    "        return dummy.next    "
   ]
  },
  {
   "cell_type": "markdown",
   "metadata": {},
   "source": [
    "## 2. 150 - Evaluate Reverse Polish Notation\n",
    "Evaluate the value of an arithmetic expression in Reverse Polish Notation.  \n",
    "Valid operators are +, -, *, /. Each operand may be an integer or another expression.  \n",
    "Each operation takes effect on the two integers right before it.\n",
    "\n",
    "**idea** stack  \n",
    "process two integers each time we meet an operation\n",
    "\n",
    "trick: try and except to determine whether this token is digit  \n",
    "isdigit() does not recognize negative integers"
   ]
  },
  {
   "cell_type": "code",
   "execution_count": 2,
   "metadata": {
    "collapsed": true
   },
   "outputs": [],
   "source": [
    "class Solution(object):\n",
    "    def evalRPN(self, tokens):\n",
    "        \"\"\"\n",
    "        :type tokens: List[str]\n",
    "        :rtype: int\n",
    "        \"\"\"\n",
    "        if not tokens: return \n",
    "        stack = []\n",
    "        operator = {\n",
    "            '+': lambda a, b: a+b,\n",
    "            '-': lambda a, b: a-b,\n",
    "            '*': lambda a, b: a*b,\n",
    "            '/': lambda a, b: abs(a)/abs(b) * (1 if a*b>=0 else -1) \n",
    "            # handle the situation in leetcode, 6/(-132) = 0\n",
    "            # in python, 6/(-132) = -1\n",
    "        }\n",
    "        for token in tokens:\n",
    "            try:\n",
    "                stack.append(int(token))\n",
    "            except ValueError:\n",
    "                # order matters, first integer +-*/ second integer\n",
    "                tmp = stack.pop()\n",
    "                stack.append(operator[token](stack.pop(),tmp))\n",
    "        return stack[-1]"
   ]
  },
  {
   "cell_type": "markdown",
   "metadata": {},
   "source": [
    "## 3. 151 - Reverse Words in a String\n",
    "Given an input string, reverse the string word by word.\n",
    "\n",
    "**idea** split and join......  \n",
    "split() put nothing inside, it will handle extra spaces for us"
   ]
  },
  {
   "cell_type": "code",
   "execution_count": 3,
   "metadata": {
    "collapsed": true
   },
   "outputs": [],
   "source": [
    "class Solution(object):\n",
    "    def reverseWords(self, s):\n",
    "        \"\"\"\n",
    "        :type s: str\n",
    "        :rtype: str\n",
    "        \"\"\"\n",
    "        return ' '.join(s.split()[::-1])"
   ]
  },
  {
   "cell_type": "markdown",
   "metadata": {},
   "source": [
    "**idea** store the words in a list, then combine them together"
   ]
  },
  {
   "cell_type": "code",
   "execution_count": 4,
   "metadata": {
    "collapsed": true
   },
   "outputs": [],
   "source": [
    "class Solution(object):\n",
    "    def reverseWords(self, s):\n",
    "        \"\"\"\n",
    "        :type s: str\n",
    "        :rtype: str\n",
    "        \"\"\"\n",
    "        if not s: return ''\n",
    "        \n",
    "        word, words = '', []\n",
    "        for i in s:\n",
    "            if i is not ' ':\n",
    "                word += i\n",
    "            else:\n",
    "                # handle continuous spaces\n",
    "                # we only care about REAL word, not ''\n",
    "                if word is not '':\n",
    "                    words += [word]\n",
    "                    # initialize word again\n",
    "                    word = ''\n",
    "        if word is not '':\n",
    "            words += [word]\n",
    "                \n",
    "        ret = ''\n",
    "        for word in words[::-1]:\n",
    "            ret += word + ' '\n",
    "            \n",
    "        # delete last space\n",
    "        return ret[:-1]"
   ]
  },
  {
   "cell_type": "markdown",
   "metadata": {},
   "source": [
    "## 4. 152 - Maximum Product Subarray\n",
    "**idea** dp  \n",
    "subproblem: what is the maximum product subarray ending in position i  \n",
    "need to memorize two things: \n",
    "1. global maximum\n",
    "2. tail maximum (max product for subarray ending in this position)"
   ]
  },
  {
   "cell_type": "code",
   "execution_count": 12,
   "metadata": {
    "collapsed": true
   },
   "outputs": [],
   "source": [
    "class Solution(object):\n",
    "    def maxProduct(self, nums):\n",
    "        \"\"\"\n",
    "        :type nums: List[int]\n",
    "        :rtype: int\n",
    "        \"\"\"\n",
    "        if not nums: return \n",
    "        if len(nums) == 1: return nums[0]\n",
    "        \n",
    "        maxi, tailmaxi, tailmini = nums[0], nums[0], nums[0]\n",
    "        for num in nums[1:]:\n",
    "            # tailmini for negative situation\n",
    "            # num itself maybe max or min product!\n",
    "            tailmaxi, tailmini = max(tailmaxi*num, tailmini*num, num), min(tailmaxi*num, tailmini*num, num)\n",
    "            maxi = max(maxi, tailmaxi)\n",
    "        return maxi"
   ]
  }
 ],
 "metadata": {
  "kernelspec": {
   "display_name": "Python 2",
   "language": "python",
   "name": "python2"
  },
  "language_info": {
   "codemirror_mode": {
    "name": "ipython",
    "version": 2
   },
   "file_extension": ".py",
   "mimetype": "text/x-python",
   "name": "python",
   "nbconvert_exporter": "python",
   "pygments_lexer": "ipython2",
   "version": "2.7.14"
  }
 },
 "nbformat": 4,
 "nbformat_minor": 2
}
