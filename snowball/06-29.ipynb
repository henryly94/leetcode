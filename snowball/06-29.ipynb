{
 "cells": [
  {
   "cell_type": "markdown",
   "metadata": {},
   "source": [
    "## 1. 91 - decode ways\n",
    "Input: \"226\"  \n",
    "Output: 3  \n",
    "Explanation: It could be decoded as \"BZ\" (2 26), \"VF\" (22 6), or \"BBF\" (2 2 6).\n",
    "\n",
    "**idea** dp: use a list to store decode ways of s[:i]"
   ]
  },
  {
   "cell_type": "code",
   "execution_count": 1,
   "metadata": {
    "collapsed": true
   },
   "outputs": [],
   "source": [
    "class Solution(object):\n",
    "    def numDecodings(self, s):\n",
    "        \"\"\"\n",
    "        :type s: str\n",
    "        :rtype: int\n",
    "        \"\"\"\n",
    "        if not s: return 0\n",
    "        cnt = [0] * (len(s)+1)\n",
    "        cnt[0] = 1\n",
    "        for i in range(1,len(s)+1):\n",
    "            if s[i-1] != '0':  \n",
    "            # single solution (0 if it has '0' else 1)\n",
    "                cnt[i] += cnt[i-1] \n",
    "            if i != 1 and '09' < s[i-2:i] < '27':\n",
    "            # += ways to reach s[i-2:i]\n",
    "                cnt[i] += cnt[i-2]\n",
    "        return cnt[len(s)]"
   ]
  },
  {
   "cell_type": "markdown",
   "metadata": {},
   "source": [
    "## 2. 92 - reverse linked list II\n",
    "Reverse a linked list from position m to n. Do it in one-pass.\n",
    "\n",
    "**idea** change pre>cur>post to pre<cur post in each step"
   ]
  },
  {
   "cell_type": "code",
   "execution_count": 2,
   "metadata": {
    "collapsed": true
   },
   "outputs": [],
   "source": [
    "class Solution(object):\n",
    "    def reverseBetween(self, head, m, n):\n",
    "        \"\"\"\n",
    "        :type head: ListNode\n",
    "        :type m: int\n",
    "        :type n: int\n",
    "        :rtype: ListNode\n",
    "        \"\"\"\n",
    "        if m == n: return head  # do not need to change\n",
    "        dummy = ListNode(0)\n",
    "        dummy.next = head\n",
    "        pt, cnt = dummy, 0\n",
    "        while cnt < m - 1:  # pass first m-1 nodes\n",
    "            pt = pt.next\n",
    "            cnt += 1\n",
    "        start, end, prev = pt, pt.next, pt  # memory node in position m-1 and m \n",
    "        while cnt <= n:  # reverse the order between prev and curr\n",
    "            curr = pt\n",
    "            pt = pt.next\n",
    "            cnt += 1\n",
    "            curr.next = prev\n",
    "            prev = curr\n",
    "        start.next = prev  # connect position m-1 and n\n",
    "        end.next = pt  # connect position m and n+1\n",
    "        return dummy.next"
   ]
  },
  {
   "cell_type": "markdown",
   "metadata": {},
   "source": [
    "## 3. 93 - restore ip addresses\n",
    "Given a string containing only digits, restore it by returning all possible valid IP address combinations.(4 parts, all<256)  \n",
    "Input: \"25525511135\"  \n",
    "Output: [\"255.255.11.135\", \"255.255.111.35\"] \n",
    "\n",
    "**idea** backtracking"
   ]
  },
  {
   "cell_type": "code",
   "execution_count": 3,
   "metadata": {
    "collapsed": true
   },
   "outputs": [],
   "source": [
    "class Solution(object):\n",
    "    def restoreIpAddresses(self, s):\n",
    "        \"\"\"\n",
    "        :type s: str\n",
    "        :rtype: List[str]\n",
    "        \"\"\"\n",
    "        self.res = []\n",
    "        self.backtracing(s, [])\n",
    "        return ['.'.join(c) for c in self.res]\n",
    "        \n",
    "    def backtracing(self, lst, cur):  \n",
    "        if len(cur) == 4 and not lst:\n",
    "            self.res.append(map(lambda x:x, cur)) # valid result\n",
    "            return\n",
    "        if len(cur) >= 4: return\n",
    "        num = ''\n",
    "        for i, ch in enumerate(lst):\n",
    "            num += ch  # num will be 2,25,255\n",
    "            if int(num) > 255: return # num not valid\n",
    "            if num[0] == '0' and len(num) > 1: return # num not valid\n",
    "            cur.append(num)\n",
    "            self.backtracing(lst[i+1:], cur)\n",
    "            cur.pop()  \n",
    "            # pop out current level(2/25/255)\n",
    "            # cur is the same before and after backtracing lst[i+1]"
   ]
  },
  {
   "cell_type": "markdown",
   "metadata": {},
   "source": [
    "## backtracking\n",
    "go through all the possible outcomes\n",
    "1. lst: the list we are backtracking\n",
    "2. cur: current state\n",
    "3. remember to destroy current state when we finish this level\n",
    "4. stop condition"
   ]
  },
  {
   "cell_type": "markdown",
   "metadata": {},
   "source": [
    "## 4. 94 - binary tree inorder traversal\n",
    "Given a binary tree, return the inorder traversal of its nodes' values. (left-node-right)\n",
    "\n",
    "**idea** recursive"
   ]
  },
  {
   "cell_type": "code",
   "execution_count": 5,
   "metadata": {
    "collapsed": true
   },
   "outputs": [],
   "source": [
    "class Solution(object):\n",
    "    def inorderTraversal(self, root):\n",
    "        \"\"\"\n",
    "        :type root: TreeNode\n",
    "        :rtype: List[int]\n",
    "        \"\"\"\n",
    "        self.res = []\n",
    "        self.traversal(root)\n",
    "        return self.res\n",
    "    \n",
    "    def traversal(self, node):\n",
    "        if node:\n",
    "            self.traversal(node.left)\n",
    "            self.res.append(node.val)\n",
    "            self.traversal(node.right)"
   ]
  },
  {
   "cell_type": "markdown",
   "metadata": {},
   "source": [
    "**idea** iteration  \n",
    "use stack to remember the nodes I visited  \n",
    "append its val in second visit"
   ]
  },
  {
   "cell_type": "code",
   "execution_count": 4,
   "metadata": {
    "collapsed": true
   },
   "outputs": [],
   "source": [
    "class Solution(object):\n",
    "    def inorderTraversal(self, root):\n",
    "        \"\"\"\n",
    "        :type root: TreeNode\n",
    "        :rtype: List[int]\n",
    "        \"\"\"\n",
    "        stack, res = [], []\n",
    "        while True:\n",
    "            while root:\n",
    "                stack.append(root)\n",
    "                root = root.left  # find the end of its left part\n",
    "            if not stack: return res # stop condition\n",
    "            node = stack.pop()  # append its val in second visit\n",
    "            res.append(node.val)\n",
    "            root = node.right  # search the right part"
   ]
  },
  {
   "cell_type": "markdown",
   "metadata": {},
   "source": [
    "## 5. 144 - binary tree preorder traversal\n",
    "Given a binary tree, return the preorder traversal of its nodes' values. (node-left-right)\n",
    "\n",
    "**idea** recursive"
   ]
  },
  {
   "cell_type": "code",
   "execution_count": 6,
   "metadata": {
    "collapsed": true
   },
   "outputs": [],
   "source": [
    "class Solution(object):\n",
    "    def preorderTraversal(self, root):\n",
    "        \"\"\"\n",
    "        :type root: TreeNode\n",
    "        :rtype: List[int]\n",
    "        \"\"\"\n",
    "        res = []\n",
    "        self.traversal(root,res)\n",
    "        return res\n",
    "        \n",
    "    def traversal(self, node, res):\n",
    "        if node:\n",
    "            res.append(node.val)\n",
    "            self.traversal(node.left,res)\n",
    "            self.traversal(node.right,res)"
   ]
  },
  {
   "cell_type": "markdown",
   "metadata": {},
   "source": [
    "**idea** iteration  \n",
    "append node val when first visit"
   ]
  },
  {
   "cell_type": "code",
   "execution_count": 7,
   "metadata": {
    "collapsed": true
   },
   "outputs": [],
   "source": [
    "class Solution(object):\n",
    "    def preorderTraversal(self, root):\n",
    "        \"\"\"\n",
    "        :type root: TreeNode\n",
    "        :rtype: List[int]\n",
    "        \"\"\"\n",
    "        stack, res = [], []\n",
    "        while True:\n",
    "            while root:\n",
    "                res.append(root.val)\n",
    "                stack.append(root)\n",
    "                root = root.left   \n",
    "            if not stack: return res \n",
    "            node = stack.pop()\n",
    "            root = node.right"
   ]
  }
 ],
 "metadata": {
  "kernelspec": {
   "display_name": "Python 2",
   "language": "python",
   "name": "python2"
  },
  "language_info": {
   "codemirror_mode": {
    "name": "ipython",
    "version": 2
   },
   "file_extension": ".py",
   "mimetype": "text/x-python",
   "name": "python",
   "nbconvert_exporter": "python",
   "pygments_lexer": "ipython2",
   "version": "2.7.14"
  }
 },
 "nbformat": 4,
 "nbformat_minor": 2
}
