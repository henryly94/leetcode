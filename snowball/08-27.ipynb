{
 "cells": [
  {
   "cell_type": "markdown",
   "metadata": {},
   "source": [
    "## 1. 357 - Count Numbers with Unique Digits\n",
    "Given a non-negative integer n, count all numbers with unique digits, x, where 0 ≤ x < 10n.\n",
    "\n",
    "**idea** dp  \n",
    "ret[i] = ret[i-1] * (11-i)"
   ]
  },
  {
   "cell_type": "code",
   "execution_count": 1,
   "metadata": {
    "collapsed": true
   },
   "outputs": [],
   "source": [
    "class Solution(object):\n",
    "    ret = [1,9,81] + [0] * 8\n",
    "    for i in range(2,11):\n",
    "        ret[i] = ret[i-1] * (11-i)\n",
    "    \n",
    "    def countNumbersWithUniqueDigits(self, n):\n",
    "        \"\"\"\n",
    "        :type n: int\n",
    "        :rtype: int\n",
    "        \"\"\"\n",
    "        return sum(self.ret[:min(n,10) + 1])"
   ]
  },
  {
   "cell_type": "markdown",
   "metadata": {},
   "source": [
    "**idea** generator"
   ]
  },
  {
   "cell_type": "code",
   "execution_count": 2,
   "metadata": {
    "collapsed": true
   },
   "outputs": [],
   "source": [
    "class Solution(object):\n",
    "    def find(self,n):\n",
    "        cnt = 9\n",
    "        for i in range(n+1):\n",
    "            if i == 0:\n",
    "                yield 1\n",
    "            elif i == 1:\n",
    "                yield 9\n",
    "            else:\n",
    "                cnt *= 11-i\n",
    "                yield cnt\n",
    "    \n",
    "    def countNumbersWithUniqueDigits(self, n):\n",
    "        \"\"\"\n",
    "        :type n: int\n",
    "        :rtype: int\n",
    "        \"\"\"\n",
    "        return sum(self.find(n))"
   ]
  },
  {
   "cell_type": "markdown",
   "metadata": {},
   "source": [
    "## 2. 365 - Water and Jug Problem\n",
    "You are given two jugs with capacities x and y litres. There is an infinite amount of water supply available. You need to determine whether it is possible to measure exactly z litres using these two jugs.  \n",
    "If z liters of water is measurable, you must have z liters of water contained within one or both buckets by the end.  \n",
    "Operations allowed:  \n",
    "Fill any of the jugs completely with water.  \n",
    "Empty any of the jugs.  \n",
    "Pour water from one jug into another till the other jug is completely full or the first jug itself is empty.\n",
    "\n",
    "**idea**  \n",
    "If x and y are coprime,  then we can and only can reach every integer z in [0, x + y].  \n",
    "Then for a GCD g, from gx and gy, we can and only can reach every z in {i * g | i in [0, x + y] }"
   ]
  },
  {
   "cell_type": "code",
   "execution_count": 3,
   "metadata": {
    "collapsed": true
   },
   "outputs": [],
   "source": [
    "class Solution(object):\n",
    "    def canMeasureWater(self, x, y, z):\n",
    "        \"\"\"\n",
    "        :type x: int\n",
    "        :type y: int\n",
    "        :type z: int\n",
    "        :rtype: bool\n",
    "        \"\"\"\n",
    "        # gcd: Greatest common divisor \n",
    "        from fractions import gcd\n",
    "        return z == 0 or x+y >= z and z % gcd(x,y) == 0"
   ]
  },
  {
   "cell_type": "markdown",
   "metadata": {},
   "source": [
    "### 3. 367 - Valid Perfect Square\n",
    "\n",
    "**idea** binary search"
   ]
  },
  {
   "cell_type": "code",
   "execution_count": 4,
   "metadata": {
    "collapsed": true
   },
   "outputs": [],
   "source": [
    "class Solution(object):\n",
    "    def isPerfectSquare(self, num):\n",
    "        \"\"\"\n",
    "        :type num: int\n",
    "        :rtype: bool\n",
    "        \"\"\"\n",
    "        l, r = 0, num\n",
    "        while l <= r: ###\n",
    "            mid = (l+r) /2\n",
    "            square = mid**2\n",
    "            if square == num:\n",
    "                return True\n",
    "            elif square < num:\n",
    "                l = mid+1\n",
    "            else:\n",
    "                r = mid-1\n",
    "        return False"
   ]
  },
  {
   "cell_type": "markdown",
   "metadata": {},
   "source": [
    "**idea** verify x**0.5 is integer or not"
   ]
  },
  {
   "cell_type": "code",
   "execution_count": 5,
   "metadata": {
    "collapsed": true
   },
   "outputs": [],
   "source": [
    "class Solution(object):\n",
    "    def isPerfectSquare(self, num):\n",
    "        \"\"\"\n",
    "        :type num: int\n",
    "        :rtype: bool\n",
    "        \"\"\"\n",
    "        s = num**0.5\n",
    "        return s.is_integer()"
   ]
  },
  {
   "cell_type": "markdown",
   "metadata": {},
   "source": [
    "## 4. 368 - Largest Divisible Subset\n",
    "Given a set of distinct positive integers, find the largest subset such that every pair (Si, Sj) of elements in this subset satisfies:  \n",
    "Si % Sj = 0 or Sj % Si = 0.  \n",
    "If there are multiple solutions, return any subset is fine.\n",
    "\n",
    "**idea** dp  \n",
    "status: s[d]: every possible num in nums that can be divided by d"
   ]
  },
  {
   "cell_type": "code",
   "execution_count": 6,
   "metadata": {
    "collapsed": true
   },
   "outputs": [],
   "source": [
    "class Solution(object):\n",
    "    def largestDivisibleSubset(self, nums):\n",
    "        \"\"\"\n",
    "        :type nums: List[int]\n",
    "        :rtype: List[int]\n",
    "        \"\"\"\n",
    "        nums.sort()\n",
    "        s = {-1:set()}\n",
    "        for num in nums:\n",
    "            s[num] = max((s[d] for d in s if num % d == 0), key = len) | {num}  ### key = len\n",
    "        return list(max(s.values(), key = len))"
   ]
  },
  {
   "cell_type": "markdown",
   "metadata": {},
   "source": [
    "## 5. 372 - Super Pow\n",
    "Your task is to calculate ab mod 1337 where a is a positive integer and b is an extremely large positive integer given in the form of an array.\n",
    "\n",
    "**idea**  \n",
    "pow(a,b,1337) = a**b%1337"
   ]
  },
  {
   "cell_type": "code",
   "execution_count": 7,
   "metadata": {
    "collapsed": true
   },
   "outputs": [],
   "source": [
    "class Solution(object):\n",
    "    def superPow(self, a, b):\n",
    "        \"\"\"\n",
    "        :type a: int\n",
    "        :type b: List[int]\n",
    "        :rtype: int\n",
    "        \"\"\"\n",
    "        # n1*n2 %1337 = (n1%1337) * (n2%1337) %1337\n",
    "        # n1**n2 %1337 = (n1%1337) ** n2 %1337\n",
    "        \n",
    "        # a**b %1337 = self.superPow(a,b) b is a list\n",
    "        # a**b %1337 = pow(a,b,1337) b is a single digit\n",
    "        \n",
    "        # a**b %1337 = a**(10*m+d) %1337 = ((a**d %1337) * (((a**10)**m) %1337)) % 1337\n",
    "        \n",
    "        if not b: return 1\n",
    "        return pow(a, b.pop(), 1337) * self.superPow(pow(a,10,1337), b)%1337"
   ]
  }
 ],
 "metadata": {
  "kernelspec": {
   "display_name": "Python 2",
   "language": "python",
   "name": "python2"
  },
  "language_info": {
   "codemirror_mode": {
    "name": "ipython",
    "version": 2
   },
   "file_extension": ".py",
   "mimetype": "text/x-python",
   "name": "python",
   "nbconvert_exporter": "python",
   "pygments_lexer": "ipython2",
   "version": "2.7.14"
  }
 },
 "nbformat": 4,
 "nbformat_minor": 2
}
