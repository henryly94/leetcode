{
 "cells": [
  {
   "cell_type": "markdown",
   "metadata": {},
   "source": [
    "## 1. 24 - swap nodes in pairs \n",
    "linked list, swap every two nodes\n",
    "\n",
    "**idea** change pre > a > b > b.next to pre > b > a > b.next  \n",
    "pre is a pointer, and self is used to store the list"
   ]
  },
  {
   "cell_type": "code",
   "execution_count": 1,
   "metadata": {
    "collapsed": true
   },
   "outputs": [],
   "source": [
    "class Solution(object):\n",
    "    def swapPairs(self, head):\n",
    "        \"\"\"\n",
    "        :type head: ListNode\n",
    "        :rtype: ListNode\n",
    "        \"\"\"\n",
    "        pre, pre.next = self, head\n",
    "        while pre.next and pre.next.next:\n",
    "            a = pre.next\n",
    "            b = a.next\n",
    "            pre.next, b.next, a.next = b, a, b.next\n",
    "            pre = a \n",
    "        return self.next"
   ]
  },
  {
   "cell_type": "markdown",
   "metadata": {},
   "source": [
    "## 2. 29 - divide two integers\n",
    "**idea** try if $divisor * 2^k < dividend$, find the largest k and decrease it from dividend"
   ]
  },
  {
   "cell_type": "code",
   "execution_count": 2,
   "metadata": {
    "collapsed": true
   },
   "outputs": [],
   "source": [
    "class Solution(object):\n",
    "    def divide(self, dividend, divisor):\n",
    "        \"\"\"\n",
    "        :type dividend: int\n",
    "        :type divisor: int\n",
    "        :rtype: int\n",
    "        \"\"\"\n",
    "        # try divisor * 1,2,4,8... <= dividend?\n",
    "        flag = (dividend > 0) is (divisor > 0)\n",
    "        dividend, divisor, res = abs(dividend), abs(divisor), 0\n",
    "\n",
    "        while divisor <= dividend:\n",
    "            i = 1\n",
    "            while divisor * i * 2 <= dividend:\n",
    "                i <<= 1\n",
    "            dividend -= divisor * i\n",
    "            res += i\n",
    "            \n",
    "        if not flag:\n",
    "            res = -res\n",
    "        return min(max(-2147483648, res), 2147483647)"
   ]
  },
  {
   "cell_type": "markdown",
   "metadata": {},
   "source": [
    "## 3. 31 - next permutation\n",
    "rearranges numbers into the lexicographically next greater permutation of numbers\n",
    "\n",
    "**idea**\n",
    "1. find the largest index where the higher position part is reversely sorted\n",
    "2. swap it with the smallest number that is larger than it\n",
    "3. re-sort the higher part"
   ]
  },
  {
   "cell_type": "code",
   "execution_count": 3,
   "metadata": {
    "collapsed": true
   },
   "outputs": [],
   "source": [
    "class Solution(object):\n",
    "    def nextPermutation(self, nums):\n",
    "        \"\"\"\n",
    "        :type nums: List[int]\n",
    "        :rtype: void Do not return anything, modify nums in-place instead.\n",
    "        \"\"\"\n",
    "        i = len(nums) - 2\n",
    "        while i >= 0 and nums[i] >= nums[i+1]:\n",
    "            i -= 1\n",
    "        val = nums[i]\n",
    "        \n",
    "        j = len(nums) - 1\n",
    "        while j > i and nums[j] <= val:\n",
    "            j -= 1\n",
    "        nums[i] = nums[j]\n",
    "        nums[j] = val\n",
    "   \n",
    "        nums[i+1:] = sorted(nums[i+1:])"
   ]
  },
  {
   "cell_type": "markdown",
   "metadata": {},
   "source": [
    "## 4. 48 - rotate image\n",
    "You are given an n x n 2D matrix representing an image.\n",
    "Rotate the image by 90 degrees (clockwise).  \n",
    "You have to rotate the image in-place, which means you have to modify the input 2D matrix directly. DO NOT allocate another 2D matrix and do the rotation.\n",
    "\n",
    "**idea** goal: matrix[i,j] = matrix[j,n-i]  \n",
    "1. transpose: matrix[i,j] = matrix[j,i]\n",
    "2. reverse it horizontally: matrix[j,i] = matrix[j,n-i]"
   ]
  },
  {
   "cell_type": "code",
   "execution_count": 4,
   "metadata": {
    "collapsed": true
   },
   "outputs": [],
   "source": [
    "class Solution(object):\n",
    "    def rotate(self, matrix):\n",
    "        \"\"\"\n",
    "        :type matrix: List[List[int]]\n",
    "        :rtype: void Do not return anything, modify matrix in-place instead.\n",
    "        \"\"\"\n",
    "        for i in range(len(matrix)):\n",
    "            # to avoid repetition\n",
    "            for j in range(i+1,len(matrix)):\n",
    "                tmp = matrix[j][i]\n",
    "                matrix[j][i] = matrix[i][j]\n",
    "                matrix[i][j] = tmp\n",
    "                \n",
    "        for m in range(len(matrix)):\n",
    "            for k in range(len(matrix)/2):\n",
    "                tmp = matrix[m][k]\n",
    "                matrix[m][k] = matrix[m][len(matrix)-1-k]\n",
    "                matrix[m][len(matrix)-1-k] = tmp"
   ]
  },
  {
   "cell_type": "markdown",
   "metadata": {},
   "source": [
    "### 5. 67 - add binary\n",
    "\n",
    "**idea** divide the problem into nums[:-1] and nums[-1], handle add a[-1] and b[-1] at once"
   ]
  },
  {
   "cell_type": "code",
   "execution_count": 6,
   "metadata": {
    "collapsed": true
   },
   "outputs": [],
   "source": [
    "class Solution(object):\n",
    "    def addBinary(self, a, b):\n",
    "        \"\"\"\n",
    "        :type a: str\n",
    "        :type b: str\n",
    "        :rtype: str\n",
    "        \"\"\"\n",
    "        if len(a) == 0: return b\n",
    "        if len(b) == 0: return a\n",
    "        if a[-1] == '1' and b[-1] == '1': # need carry\n",
    "            return self.addBinary(self.addBinary(a[:-1],b[:-1]),'1') + '0'\n",
    "        elif a[-1] == '0' and b[-1] == '0':\n",
    "            return self.addBinary(a[:-1],b[:-1]) + '0'\n",
    "        else:\n",
    "            return self.addBinary(a[:-1],b[:-1]) + '1'"
   ]
  }
 ],
 "metadata": {
  "kernelspec": {
   "display_name": "Python 2",
   "language": "python",
   "name": "python2"
  },
  "language_info": {
   "codemirror_mode": {
    "name": "ipython",
    "version": 2
   },
   "file_extension": ".py",
   "mimetype": "text/x-python",
   "name": "python",
   "nbconvert_exporter": "python",
   "pygments_lexer": "ipython2",
   "version": "2.7.14"
  }
 },
 "nbformat": 4,
 "nbformat_minor": 2
}
