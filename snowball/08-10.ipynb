{
 "cells": [
  {
   "cell_type": "markdown",
   "metadata": {},
   "source": [
    "### 1. 232 - Implement Queue using Stacks"
   ]
  },
  {
   "cell_type": "code",
   "execution_count": 1,
   "metadata": {
    "collapsed": true
   },
   "outputs": [],
   "source": [
    "class MyQueue(object):\n",
    "\n",
    "    def __init__(self):\n",
    "        \"\"\"\n",
    "        Initialize your data structure here.\n",
    "        \"\"\"\n",
    "        self.queue = []\n",
    "        \n",
    "\n",
    "    def push(self, x):\n",
    "        \"\"\"\n",
    "        Push element x to the back of queue.\n",
    "        :type x: int\n",
    "        :rtype: void\n",
    "        \"\"\"\n",
    "        self.queue.append(x)\n",
    "        \n",
    "\n",
    "    def pop(self):\n",
    "        \"\"\"\n",
    "        Removes the element from in front of queue and returns that element.\n",
    "        :rtype: int\n",
    "        \"\"\"\n",
    "        ret = self.queue[0]\n",
    "        self.queue = self.queue[1:]\n",
    "        return ret\n",
    "\n",
    "    def peek(self):\n",
    "        \"\"\"\n",
    "        Get the front element.\n",
    "        :rtype: int\n",
    "        \"\"\"\n",
    "        return self.queue[0]\n",
    "\n",
    "    def empty(self):\n",
    "        \"\"\"\n",
    "        Returns whether the queue is empty.\n",
    "        :rtype: bool\n",
    "        \"\"\"\n",
    "        return not self.queue\n",
    "\n",
    "\n",
    "# Your MyQueue object will be instantiated and called as such:\n",
    "# obj = MyQueue()\n",
    "# obj.push(x)\n",
    "# param_2 = obj.pop()\n",
    "# param_3 = obj.peek()\n",
    "# param_4 = obj.empty()"
   ]
  },
  {
   "cell_type": "markdown",
   "metadata": {},
   "source": [
    "### 2. 234 - Palindrome Linked List\n",
    "Given a singly linked list, determine if it is a palindrome.\n",
    "\n",
    "**idea** record values in the first half in a list, see if it's the same with the second half.  \n",
    "time: two-pass; space: n/2"
   ]
  },
  {
   "cell_type": "code",
   "execution_count": 2,
   "metadata": {
    "collapsed": true
   },
   "outputs": [],
   "source": [
    "class Solution(object):\n",
    "    def isPalindrome(self, head):\n",
    "        \"\"\"\n",
    "        :type head: ListNode\n",
    "        :rtype: bool\n",
    "        \"\"\"\n",
    "        ### can use two pointers to find mid, and record the values in the same time\n",
    "        # count length\n",
    "        pt, cnt = head, 0\n",
    "        while pt:\n",
    "            cnt += 1\n",
    "            pt = pt.next\n",
    "        \n",
    "        # store first half into list\n",
    "        pt, stack = head, []\n",
    "        for i in range(cnt/2):\n",
    "            stack.append(pt.val)\n",
    "            pt = pt.next\n",
    "        \n",
    "        # deal with odd case\n",
    "        if cnt%2 == 1: \n",
    "            pt = pt.next\n",
    "        \n",
    "        # compare values\n",
    "        while pt:\n",
    "            if pt.val != stack.pop():\n",
    "                return False\n",
    "            pt = pt.next\n",
    "            \n",
    "        return True"
   ]
  },
  {
   "cell_type": "markdown",
   "metadata": {},
   "source": [
    "**idea** record all the value in a list, see if l == l[::-1]  \n",
    "time: one-pass; space: n"
   ]
  },
  {
   "cell_type": "code",
   "execution_count": 3,
   "metadata": {
    "collapsed": true
   },
   "outputs": [],
   "source": [
    "class Solution(object):\n",
    "    def isPalindrome(self, head):\n",
    "        \"\"\"\n",
    "        :type head: ListNode\n",
    "        :rtype: bool\n",
    "        \"\"\"\n",
    "        pt, val = head, []\n",
    "        while pt:\n",
    "            val.append(pt.val)\n",
    "            pt = pt.next\n",
    "            \n",
    "        return val == val[::-1]"
   ]
  },
  {
   "cell_type": "markdown",
   "metadata": {},
   "source": [
    "**idea** two pointers to find mid, **reverse** the second half, to see if it's the same with first half  \n",
    "time: three pass; space: constant"
   ]
  },
  {
   "cell_type": "code",
   "execution_count": 4,
   "metadata": {
    "collapsed": true
   },
   "outputs": [],
   "source": [
    "class Solution(object):\n",
    "    def isPalindrome(self, head):\n",
    "        \"\"\"\n",
    "        :type head: ListNode\n",
    "        :rtype: bool\n",
    "        \"\"\"\n",
    "        slow, fast = head, head\n",
    "        while fast and fast.next:\n",
    "            slow = slow.next\n",
    "            fast = fast.next.next\n",
    "        prev = None\n",
    "        while slow:\n",
    "            slow.next, prev, slow = prev, slow, slow.next\n",
    "        while prev:\n",
    "            if prev.val != head.val:\n",
    "                return False\n",
    "            prev = prev.next\n",
    "            head = head.next\n",
    "        return True"
   ]
  },
  {
   "cell_type": "markdown",
   "metadata": {},
   "source": [
    "### 3. 235 - Lowest Common Ancestor of a Binary Search Tree\n",
    "Given a **binary search tree (BST)**, find the lowest common ancestor (LCA) of two given nodes in the BST.\n",
    "\n",
    "**idea** use property of BST, all the elements in left subtree is smaller than root, and all the elements is bigger than root in right subtree.  \n",
    "1. p, q less than root, search left \n",
    "2. p, q bigger than root, search right\n",
    "3. one of p, q is smaller and the other is bigger, return root"
   ]
  },
  {
   "cell_type": "code",
   "execution_count": 5,
   "metadata": {
    "collapsed": true
   },
   "outputs": [],
   "source": [
    "class Solution(object):\n",
    "    def lowestCommonAncestor(self, root, p, q):\n",
    "        \"\"\"\n",
    "        :type root: TreeNode\n",
    "        :type p: TreeNode\n",
    "        :type q: TreeNode\n",
    "        :rtype: TreeNode\n",
    "        \"\"\"\n",
    "        if p.val <= root.val <= q.val or q.val <= root.val <= p.val:\n",
    "            return root\n",
    "        if p.val < root.val:\n",
    "            return self.lowestCommonAncestor(root.left,p,q)\n",
    "        else:\n",
    "            return self.lowestCommonAncestor(root.right,p,q)"
   ]
  },
  {
   "cell_type": "markdown",
   "metadata": {},
   "source": [
    "## 4. 236 - Lowest Common Ancestor of a Binary Tree\n",
    "Given a **binary tree**, find the lowest common ancestor (LCA) of two given nodes in the tree.\n",
    "\n",
    "**idea** recursive, record **path** to p and q, compare to find the last common node  \n",
    "no pattern in values, need to traversal the whole tree\n",
    "\n",
    "REMEMBER to tell your parents if you find the targets, pop if not."
   ]
  },
  {
   "cell_type": "code",
   "execution_count": 6,
   "metadata": {
    "collapsed": true
   },
   "outputs": [],
   "source": [
    "class Solution(object):\n",
    "    def lowestCommonAncestor(self, root, p, q):\n",
    "        \"\"\"\n",
    "        :type root: TreeNode\n",
    "        :type p: TreeNode\n",
    "        :type q: TreeNode\n",
    "        :rtype: TreeNode\n",
    "        \"\"\"\n",
    "        p1, p2 = [], []\n",
    "        # pointer pass, it modify p1 and p2 in function, don't need return \n",
    "        self.traversal(root,p1,p)\n",
    "        self.traversal(root,p2,q)\n",
    "        for i in range(min([len(p1),len(p2)])):\n",
    "            if p1[i] != p2[i]:\n",
    "                return p1[i-1]\n",
    "        return p1[min([len(p1),len(p2)])-1]\n",
    "                \n",
    "    def traversal(self,root,path,t):\n",
    "        if not root: return False\n",
    "        path.append(root)\n",
    "        if root == t:\n",
    "            return True\n",
    "        # you need to tell your parents whether you find the target or not\n",
    "        if not self.traversal(root.left,path,t) and not self.traversal(root.right,path,t):\n",
    "            # if don't find in any kid, pop current root\n",
    "            path.pop()\n",
    "        else:\n",
    "            # if find in kid\n",
    "            return True"
   ]
  },
  {
   "cell_type": "markdown",
   "metadata": {},
   "source": [
    "**idea** recursive\n",
    "1. if node is one of the targets, return itself\n",
    "2. if only left or only right exist, return the existing value\n",
    "3. if left and right all exist, return root\n",
    "\n",
    "return value would be target, None, or our answer"
   ]
  },
  {
   "cell_type": "code",
   "execution_count": 7,
   "metadata": {
    "collapsed": true
   },
   "outputs": [],
   "source": [
    "class Solution(object):\n",
    "    def lowestCommonAncestor(self, root, p, q):\n",
    "        if root in (None,p,q): return root\n",
    "        left = self.lowestCommonAncestor(root.left,p,q)\n",
    "        right = self.lowestCommonAncestor(root.right,p,q)\n",
    "        return root if left and right else left or right"
   ]
  },
  {
   "cell_type": "markdown",
   "metadata": {},
   "source": [
    "## 5. 238 - Product of Array Except Self\n",
    "Given an array nums of n integers where n > 1,  return an array output such that output[i] is equal to the product of all the elements of nums except nums[i].  \n",
    "Note: Please solve it without division and in O(n).\n",
    "\n",
    "**idea** two lists: product from index 0 to k-1; product from index -1 to -k.  \n",
    "O(1) space: multiply second list to ret(first list) in-place\n",
    "\n",
    "we need to add an extra 1 in both lists to deal with the first and last element, and they will not contain the whole product(nums[0]*...*nums[-1])    \n",
    "nums[k] = (nums[0]*...*nums[k-1]) * (nums[k+1]*...*nums[n-1]) = list1[k] * list2[n-1-k]   \n",
    "\n",
    "original [1,2,3,4]  \n",
    "list1 [1,1,2,6]  \n",
    "list2 [1,4,12,24] > [24,12,4,1]  \n",
    "output [24,12,8,6]"
   ]
  },
  {
   "cell_type": "code",
   "execution_count": 8,
   "metadata": {
    "collapsed": true
   },
   "outputs": [],
   "source": [
    "class Solution(object):\n",
    "    def productExceptSelf(self, nums):\n",
    "        \"\"\"\n",
    "        :type nums: List[int]\n",
    "        :rtype: List[int]\n",
    "        \"\"\"\n",
    "        n = len(nums)\n",
    "        ret = [1]\n",
    "        for i in range(1,n):\n",
    "            ret.append(ret[i-1] * nums[i-1]) \n",
    "            \n",
    "        tmp = 1\n",
    "        for i in range(n-1):\n",
    "            tmp *= nums[n-1-i]\n",
    "            ret[n-2-i] *= tmp\n",
    "            \n",
    "        return ret"
   ]
  }
 ],
 "metadata": {
  "kernelspec": {
   "display_name": "Python 2",
   "language": "python",
   "name": "python2"
  },
  "language_info": {
   "codemirror_mode": {
    "name": "ipython",
    "version": 2
   },
   "file_extension": ".py",
   "mimetype": "text/x-python",
   "name": "python",
   "nbconvert_exporter": "python",
   "pygments_lexer": "ipython2",
   "version": "2.7.14"
  }
 },
 "nbformat": 4,
 "nbformat_minor": 2
}
