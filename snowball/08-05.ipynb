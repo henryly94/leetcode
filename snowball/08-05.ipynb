{
 "cells": [
  {
   "cell_type": "markdown",
   "metadata": {},
   "source": [
    "## 1. 222 - Count Complete Tree Nodes\n",
    "Given a complete binary tree, count the number of nodes.  \n",
    "Definition of a complete binary tree from Wikipedia:  \n",
    "In a complete binary tree every level, except possibly the last, is completely filled, and all nodes in the last level are as far left as possible. It can have between 1 and 2h nodes inclusive at the last level h.\n",
    "\n",
    "**idea** recursive O(logn)^2   \n",
    "**criteria:** depth; **move:** countNodes(left or right) \n",
    "\n",
    "if leftdepth == rightdepth, left side of last level is complete, we only need to count right side  \n",
    "if leftdepth > rightdepth, left side is not complete, count left side."
   ]
  },
  {
   "cell_type": "code",
   "execution_count": 1,
   "metadata": {
    "collapsed": true
   },
   "outputs": [],
   "source": [
    "class Solution(object):\n",
    "    def countNodes(self, root):\n",
    "        \"\"\"\n",
    "        :type root: TreeNode\n",
    "        :rtype: int\n",
    "        \"\"\"\n",
    "        if not root: \n",
    "            return 0\n",
    "        leftdepth = self.depth(root.left)\n",
    "        rightdepth = self.depth(root.right)\n",
    "        if leftdepth == rightdepth:\n",
    "            return 2**leftdepth + self.countNodes(root.right)\n",
    "        else:\n",
    "            return 2**rightdepth + self.countNodes(root.left)\n",
    "\n",
    "    \n",
    "    def depth(self, root):\n",
    "        if not root:\n",
    "            return 0\n",
    "        return 1 + self.depth(root.left)       "
   ]
  },
  {
   "cell_type": "markdown",
   "metadata": {},
   "source": [
    "**idea** binary search O(logn)^2  \n",
    "**criteria:** the middle point exists or not; **move:** move cur node to left or right  \n",
    "\n",
    "search the right-most kid of current node's left child  \n",
    "if the right-most node of left subtree exist, then left subtree is complete, move cur to right  \n",
    "if not exist, move cur to left"
   ]
  },
  {
   "cell_type": "code",
   "execution_count": 2,
   "metadata": {
    "collapsed": true
   },
   "outputs": [],
   "source": [
    "class Solution(object):\n",
    "    def countNodes(self, root):\n",
    "        \"\"\"\n",
    "        :type root: TreeNode\n",
    "        :rtype: int\n",
    "        \"\"\"\n",
    "        if not root: \n",
    "            return 0\n",
    "        \n",
    "        # cur: current node\n",
    "        # count: count for last level\n",
    "        cur, tmp = root, root\n",
    "        count, height = 0, 0\n",
    "        \n",
    "        # compute height\n",
    "        while tmp:\n",
    "            tmp = tmp.left\n",
    "            height += 1\n",
    "        \n",
    "        \n",
    "        i = h = height\n",
    "        while height >= 2:\n",
    "            tmp = cur.left\n",
    "            i = height\n",
    "            # find the right-most node\n",
    "            # this procedure is only valid for height > 2\n",
    "            while i > 2 and tmp:\n",
    "                tmp = tmp.right\n",
    "                i -= 1\n",
    "            if not tmp:\n",
    "                cur = cur.left\n",
    "            else:\n",
    "                cur = cur.right\n",
    "                count += 2**(height-2)\n",
    "            height -= 1\n",
    "        # add the last node\n",
    "        if cur: count += 1\n",
    "        return 2**(h-1) - 1 + count"
   ]
  },
  {
   "cell_type": "markdown",
   "metadata": {},
   "source": [
    "## 2. 223 - Rectangle Area\n",
    "Find the total area covered by two rectilinear rectangles in a 2D plane.  \n",
    "Each rectangle is defined by its bottom left corner and top right corner as shown in the figure.\n",
    "\n",
    "**idea** find the common space >> find the common length"
   ]
  },
  {
   "cell_type": "code",
   "execution_count": 3,
   "metadata": {
    "collapsed": true
   },
   "outputs": [],
   "source": [
    "class Solution(object):\n",
    "    def computeArea(self, A, B, C, D, E, F, G, H):\n",
    "        \"\"\"\n",
    "        :type A: int\n",
    "        :type B: int\n",
    "        :type C: int\n",
    "        :type D: int\n",
    "        :type E: int\n",
    "        :type F: int\n",
    "        :type G: int\n",
    "        :type H: int\n",
    "        :rtype: int\n",
    "        \"\"\"\n",
    "        common = self.findCommon(A,C,E,G) * self.findCommon(B,D,F,H)\n",
    "        return (C-A)*(D-B) + (G-E)*(H-F) - common\n",
    "        \n",
    "        \n",
    "    def findCommon(self,a,c,e,g):\n",
    "        if a > g or c < e:\n",
    "            return 0\n",
    "        else:\n",
    "            return min(c,g) - max(a,e)"
   ]
  },
  {
   "cell_type": "markdown",
   "metadata": {},
   "source": [
    "**idea** find left, right, bottom, top side seperately  \n",
    "if right side is smaller than left, the outer max would let right = left, which means they have no common length"
   ]
  },
  {
   "cell_type": "code",
   "execution_count": 4,
   "metadata": {
    "collapsed": true
   },
   "outputs": [],
   "source": [
    "class Solution(object):\n",
    "    def computeArea(self, A, B, C, D, E, F, G, H):\n",
    "        \"\"\"\n",
    "        :type A: int\n",
    "        :type B: int\n",
    "        :type C: int\n",
    "        :type D: int\n",
    "        :type E: int\n",
    "        :type F: int\n",
    "        :type G: int\n",
    "        :type H: int\n",
    "        :rtype: int\n",
    "        \"\"\"\n",
    "        left = max(A,E)\n",
    "        # contain the case of no common length\n",
    "        right = max(min(C,G),left)\n",
    "        bottom = max(B,F)\n",
    "        top = max(min(D,H),bottom)\n",
    "        common = (right-left)*(top-bottom)\n",
    "        return (C-A)*(D-B) + (G-E)*(H-F) - common"
   ]
  }
 ],
 "metadata": {
  "kernelspec": {
   "display_name": "Python 2",
   "language": "python",
   "name": "python2"
  },
  "language_info": {
   "codemirror_mode": {
    "name": "ipython",
    "version": 2
   },
   "file_extension": ".py",
   "mimetype": "text/x-python",
   "name": "python",
   "nbconvert_exporter": "python",
   "pygments_lexer": "ipython2",
   "version": "2.7.14"
  }
 },
 "nbformat": 4,
 "nbformat_minor": 2
}
