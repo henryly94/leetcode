{
 "cells": [
  {
   "cell_type": "markdown",
   "metadata": {},
   "source": [
    "## 1. 71 - simplify path\n",
    "Given an absolute path for a file (Unix-style), simplify it.  \n",
    ". current fold  \n",
    ".. last fold  \n",
    "\n",
    "**idea** stack, if go back to last fold, pop the last element out"
   ]
  },
  {
   "cell_type": "code",
   "execution_count": 63,
   "metadata": {
    "collapsed": true
   },
   "outputs": [],
   "source": [
    "class Solution(object):\n",
    "    def simplifyPath(self, path):\n",
    "        \"\"\"\n",
    "        :type path: str\n",
    "        :rtype: str\n",
    "        \"\"\"\n",
    "        stack = []\n",
    "        for i in path.split('/'):\n",
    "            if i == '..' :\n",
    "                if stack:  # if we reach root directory\n",
    "                    stack.pop()\n",
    "            elif not i or i == '.':\n",
    "                pass\n",
    "            else:\n",
    "                stack.append(i)\n",
    "        return '/' + '/'.join(stack)"
   ]
  },
  {
   "cell_type": "markdown",
   "metadata": {},
   "source": [
    "## 2. 73 - set matrix zeroes\n",
    "Given a m x n matrix, if an element is 0, set its entire row and column to 0. Do it in-place.  \n",
    "\n",
    "**idea** O(m+n) space  \n",
    "use m+n idicators to tell whether there is a zero in row/column"
   ]
  },
  {
   "cell_type": "code",
   "execution_count": 64,
   "metadata": {
    "collapsed": true
   },
   "outputs": [],
   "source": [
    "class Solution(object):\n",
    "    def setZeroes(self, matrix):\n",
    "        \"\"\"\n",
    "        :type matrix: List[List[int]]\n",
    "        :rtype: void Do not return anything, modify matrix in-place instead.\n",
    "        \"\"\"\n",
    "        m, n = len(matrix), len(matrix[0])\n",
    "        rows = [False] * m\n",
    "        cols = [False] * n\n",
    "        \n",
    "        for i in range(m):\n",
    "            for j in range(n):\n",
    "                if matrix[i][j] == 0:\n",
    "                    rows[i], cols[j] = True, True\n",
    "        \n",
    "        for i in range(m):\n",
    "            if rows[i] == True:\n",
    "                for j in range(n):\n",
    "                    matrix[i][j] = 0\n",
    "        \n",
    "        for j in range(n):\n",
    "            if cols[j] == True:\n",
    "                for i in range(m):\n",
    "                    matrix[i][j] = 0"
   ]
  },
  {
   "cell_type": "markdown",
   "metadata": {},
   "source": [
    "**idea** constant space  \n",
    "use first row and col as the idicators  \n",
    "remember to add a flag to show whether first row has zero  \n",
    "as for first column, we can do the columns reversely"
   ]
  },
  {
   "cell_type": "code",
   "execution_count": 65,
   "metadata": {
    "collapsed": true
   },
   "outputs": [],
   "source": [
    "class Solution(object):\n",
    "    def setZeroes(self, matrix):\n",
    "        \"\"\"\n",
    "        :type matrix: List[List[int]]\n",
    "        :rtype: void Do not return anything, modify matrix in-place instead.\n",
    "        \"\"\"\n",
    "        # use empty list/first row and col to store info\n",
    "        m, n, flag = len(matrix), len(matrix[0]), False\n",
    "            \n",
    "        for i in xrange(m):\n",
    "            for j in xrange(n):\n",
    "                if matrix[i][j] == 0:\n",
    "                    if i == 0: flag = True\n",
    "                    else: matrix[0][j] = matrix[i][0] = 0\n",
    "        \n",
    "        for i in xrange(1,m):\n",
    "            for j in xrange(n-1,-1,-1):\n",
    "                # if the first col has zero\n",
    "                # or if some rows has zero\n",
    "                # we already change (i,0) to zero before as it should be \n",
    "                if matrix[i][0] == 0 or matrix[0][j] == 0:\n",
    "                    matrix[i][j] = 0\n",
    "\n",
    "        if flag: matrix[0] = [0] * n"
   ]
  },
  {
   "cell_type": "markdown",
   "metadata": {},
   "source": [
    "## 3. 74 - search a 2D matrix\n",
    "Write an efficient algorithm that searches for a value in an m x n matrix. This matrix has the following properties:  \n",
    "Integers in each row are sorted from left to right.  \n",
    "The first integer of each row is greater than the last integer of the previous row.\n",
    "\n",
    "**idea** search first column first, then search the relative row, O(m+n)"
   ]
  },
  {
   "cell_type": "code",
   "execution_count": 66,
   "metadata": {
    "collapsed": true
   },
   "outputs": [],
   "source": [
    "class Solution(object):\n",
    "    def searchMatrix(self, matrix, target):\n",
    "        \"\"\"\n",
    "        :type matrix: List[List[int]]\n",
    "        :type target: int\n",
    "        :rtype: bool\n",
    "        \"\"\"\n",
    "        if not matrix: return False\n",
    "        for i in range(len(matrix)-1):\n",
    "            if matrix[i][0] <= target and matrix[i+1][0] > target:\n",
    "                for j in range(len(matrix[0])):\n",
    "                    if matrix[i][j] == target:\n",
    "                        return True\n",
    "        for j in range(len(matrix[0])):\n",
    "            if matrix[-1][j] == target:\n",
    "                return True\n",
    "        return False"
   ]
  },
  {
   "cell_type": "markdown",
   "metadata": {},
   "source": [
    "**idea** still search the first column then the relative row, but use binary search, return index"
   ]
  },
  {
   "cell_type": "code",
   "execution_count": 67,
   "metadata": {
    "collapsed": true
   },
   "outputs": [],
   "source": [
    "class Solution(object):\n",
    "    def searchMatrix(self, matrix, target):\n",
    "        \"\"\"\n",
    "        :type matrix: List[List[int]]\n",
    "        :type target: int\n",
    "        :rtype: bool\n",
    "        \"\"\"\n",
    "#         if not matrix: return False\n",
    "#         if not matrix[0]: return False\n",
    "#         lst = map(lambda x:x[0], matrix) # first column\n",
    "#         lst = matrix[self.bs(lst, target)] # relative row\n",
    "        \n",
    "        return lst[self.bs(lst, target)] == target\n",
    "        \n",
    "    def bs(self, lst, target):\n",
    "        left, right = 0, len(lst)\n",
    "\n",
    "        while left < right:\n",
    "            mid = (left + right)/2\n",
    "            if target < lst[mid]:\n",
    "                right = mid\n",
    "            else:\n",
    "                left = mid + 1\n",
    "\n",
    "        return left-1"
   ]
  },
  {
   "cell_type": "markdown",
   "metadata": {},
   "source": [
    "**idea** treat the whole list as a total, use binary search, return true or false"
   ]
  },
  {
   "cell_type": "code",
   "execution_count": 68,
   "metadata": {
    "collapsed": true
   },
   "outputs": [],
   "source": [
    "class Solution(object):\n",
    "    def searchMatrix(self, matrix, target):\n",
    "        \"\"\"\n",
    "        :type matrix: List[List[int]]\n",
    "        :type target: int\n",
    "        :rtype: bool\n",
    "        \"\"\"\n",
    "        if not matrix: return False\n",
    "        lst = [matrix[i][j] for i in range(len(matrix)) for j in range(len(matrix[0]))]\n",
    "        return self.bs(lst, target) \n",
    "            \n",
    "    def bs(self, lst, target):\n",
    "        left, right = 0, len(lst)-1\n",
    "        while left <= right:\n",
    "            mid = (left + right)/2\n",
    "            if target < lst[mid]:\n",
    "                right = mid - 1\n",
    "            elif target > lst[mid]:\n",
    "                left = mid + 1\n",
    "            else:\n",
    "                return True\n",
    "        return False"
   ]
  },
  {
   "cell_type": "markdown",
   "metadata": {},
   "source": [
    "**idea** do not copy matrix to a new big list, but reset the index, then use binary search"
   ]
  },
  {
   "cell_type": "code",
   "execution_count": 69,
   "metadata": {
    "collapsed": true
   },
   "outputs": [],
   "source": [
    "class Solution(object):\n",
    "    def searchMatrix(self, matrix, target):\n",
    "        \"\"\"\n",
    "        :type matrix: List[List[int]]\n",
    "        :type target: int\n",
    "        :rtype: bool\n",
    "        \"\"\"\n",
    "        if not matrix: return False\n",
    "        lst = matrix\n",
    "        m, n = len(matrix), len(matrix[0])\n",
    "        left, right = 0, m*n-1\n",
    "        while left <= right:  # we need to compare right with taraget\n",
    "            mid = (left + right)/2\n",
    "            num = lst[mid/n][mid%n]  # reset the index\n",
    "            if target < num:\n",
    "                right = mid - 1\n",
    "            elif target > num:\n",
    "                left = mid + 1\n",
    "            else:\n",
    "                return True\n",
    "        return False"
   ]
  },
  {
   "cell_type": "markdown",
   "metadata": {},
   "source": [
    "### binary search \n",
    "return the index of the first number smaller than target \n",
    "\n",
    "**1. initialize right as the farest location you want to go **  \n",
    "In this question, it's len(lst), so that left-1 can be len(lst)-1  \n",
    "**2. only right can equals to mid**   \n",
    "because when right-left=1, right is always larger than mid  \n",
    "**3. when target = lst[mid], how to choose **  \n",
    "In this question, when they are equal, move left pointer to the right, because we want to find the right most number that is less than target"
   ]
  },
  {
   "cell_type": "code",
   "execution_count": 40,
   "metadata": {},
   "outputs": [
    {
     "name": "stdout",
     "output_type": "stream",
     "text": [
      "-1\n",
      "0\n",
      "1\n",
      "2\n",
      "3\n"
     ]
    }
   ],
   "source": [
    "def bs(lst, target):\n",
    "    left, right = 0, len(lst)\n",
    "    \n",
    "    while left < right:  # right is always larger than target\n",
    "        mid = (left + right)/2\n",
    "        if target < lst[mid]:\n",
    "            right = mid  # we already compared right with target\n",
    "        else:\n",
    "            left = mid + 1\n",
    "            \n",
    "    return left-1\n",
    "\n",
    "print bs([1,2,3,4],0.5)\n",
    "print bs([1,2,3,4],1.5)\n",
    "print bs([1,2,3,4],2.5)\n",
    "print bs([1,2,3,4],3.5)\n",
    "print bs([1,2,3,4],4.5)"
   ]
  },
  {
   "cell_type": "markdown",
   "metadata": {},
   "source": [
    "## 4. 75 - sort colors\n",
    "sort list with only 0,1,2 in-place  \n",
    "\n",
    "**idea** \n",
    "1. counting sort: two-pass, one to count, the other to assign new values  \n",
    "2. one-pass: two pointers, l for 0 and r for 2. Also, i for loop.  \n",
    "a. Stop when i reaches 2_pointer.  \n",
    "b. when we see 0, swap with 0_pointer, move.  \n",
    "Since i >= l, the new value in position i must be 1, otherwise it should have been move to 0 or 2 pointer.  \n",
    "c. when we see 2, swap with 2_pointer, don't move, go to next round.  \n",
    "Since we don't know what the new value in position i is, we should verify it in next round.\n"
   ]
  },
  {
   "cell_type": "code",
   "execution_count": 70,
   "metadata": {
    "collapsed": true
   },
   "outputs": [],
   "source": [
    "class Solution(object):\n",
    "    def sortColors(self, nums):\n",
    "        \"\"\"\n",
    "        :type nums: List[int]\n",
    "        :rtype: void Do not return anything, modify nums in-place instead.\n",
    "        \"\"\"\n",
    "        i, l, r = 0, 0, len(nums)-1\n",
    "        while i <= r:\n",
    "            if nums[i] == 0:\n",
    "                nums[i] = nums[l]\n",
    "                nums[l] = 0\n",
    "                l += 1\n",
    "            elif nums[i] == 2:\n",
    "                nums[i] = nums[r]\n",
    "                nums[r] = 2\n",
    "                r -= 1\n",
    "                i -= 1\n",
    "            i += 1"
   ]
  },
  {
   "cell_type": "markdown",
   "metadata": {},
   "source": [
    "## 5. 80 -remove duplicates from sorted array II\n",
    "Given a sorted array nums, remove the duplicates in-place such that **duplicates appeared at most twice** and return the new length.\n",
    "\n",
    "**idea** count every different value, swap if needed"
   ]
  },
  {
   "cell_type": "code",
   "execution_count": 71,
   "metadata": {
    "collapsed": true
   },
   "outputs": [],
   "source": [
    "class Solution(object):\n",
    "    def removeDuplicates(self, nums):\n",
    "        \"\"\"\n",
    "        :type nums: List[int]\n",
    "        :rtype: int\n",
    "        \"\"\"\n",
    "        # if current num not equal to val or count of current num is less than 2: \n",
    "        # swap it with i(tail); move tail; change cnt\n",
    "        \n",
    "        # if count of current num is bigger or equal than 2: change cnt, tail stands still\n",
    "        # i: the number before i is ready\n",
    "        if not nums: return 0\n",
    "        i, cnt, val = 0, 0, nums[0]\n",
    "        for j in range(len(nums)):\n",
    "            if nums[j] == val and cnt < 2:\n",
    "                nums[i] = nums[j]\n",
    "                cnt += 1\n",
    "                i += 1\n",
    "            elif nums[j] == val and cnt >= 2:\n",
    "                cnt += 1\n",
    "            else:\n",
    "                nums[i] = nums[j]\n",
    "                i += 1\n",
    "                val, cnt = nums[j], 1\n",
    "        return i"
   ]
  },
  {
   "cell_type": "markdown",
   "metadata": {},
   "source": [
    "**idea** no need to count, only need to see whether this num is different with position tail-2  \n",
    "tail: position before tail is ready"
   ]
  },
  {
   "cell_type": "code",
   "execution_count": 72,
   "metadata": {
    "collapsed": true
   },
   "outputs": [],
   "source": [
    "class Solution(object):\n",
    "    def removeDuplicates(self, nums):\n",
    "        \"\"\"\n",
    "        :type nums: List[int]\n",
    "        :rtype: int\n",
    "        \"\"\"\n",
    "        tail = 0\n",
    "        for n in nums:\n",
    "            if tail<2 or n>nums[tail-2]:\n",
    "                nums[tail] = n\n",
    "                tail += 1\n",
    "        return tail"
   ]
  }
 ],
 "metadata": {
  "kernelspec": {
   "display_name": "Python 2",
   "language": "python",
   "name": "python2"
  },
  "language_info": {
   "codemirror_mode": {
    "name": "ipython",
    "version": 2
   },
   "file_extension": ".py",
   "mimetype": "text/x-python",
   "name": "python",
   "nbconvert_exporter": "python",
   "pygments_lexer": "ipython2",
   "version": "2.7.14"
  }
 },
 "nbformat": 4,
 "nbformat_minor": 2
}
