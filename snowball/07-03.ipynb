{
 "cells": [
  {
   "cell_type": "markdown",
   "metadata": {},
   "source": [
    "## 1. 103 - binary tree zigzag level order traversal\n",
    "\n",
    "**idea** update current level"
   ]
  },
  {
   "cell_type": "code",
   "execution_count": 1,
   "metadata": {
    "collapsed": true
   },
   "outputs": [],
   "source": [
    "class Solution(object):\n",
    "    def zigzagLevelOrder(self, root):\n",
    "        \"\"\"\n",
    "        :type root: TreeNode\n",
    "        :rtype: List[List[int]]\n",
    "        \"\"\"\n",
    "        if not root: return []\n",
    "        ret, curlevel, flag = [], [root], True\n",
    "        while curlevel:\n",
    "            ret.append([node.val for node in curlevel])\n",
    "            if flag:\n",
    "                curlevel = [kid for node in curlevel[::-1] for kid in (node.right, node.left) if kid]\n",
    "                flag = False\n",
    "            else:\n",
    "                curlevel = [kid for node in curlevel[::-1] for kid in (node.left, node.right) if kid]\n",
    "                flag = True\n",
    "        return ret"
   ]
  },
  {
   "cell_type": "markdown",
   "metadata": {},
   "source": [
    "### 2. 226 - invert binary tree\n",
    "**idea** recursive"
   ]
  },
  {
   "cell_type": "code",
   "execution_count": 2,
   "metadata": {
    "collapsed": true
   },
   "outputs": [],
   "source": [
    "class Solution(object):\n",
    "    def invertTree(self, root):\n",
    "        \"\"\"\n",
    "        :type root: TreeNode\n",
    "        :rtype: TreeNode\n",
    "        \"\"\"\n",
    "        if not root: return root\n",
    "        return self.invert(root)\n",
    "        \n",
    "    def invert(self, node):\n",
    "        node.left, node.right = node.right, node.left\n",
    "        if node.left:\n",
    "            self.invert(node.left)\n",
    "        if node.right:\n",
    "            self.invert(node.right)\n",
    "        return node"
   ]
  },
  {
   "cell_type": "code",
   "execution_count": 3,
   "metadata": {
    "collapsed": true
   },
   "outputs": [],
   "source": [
    "class Solution(object):\n",
    "    def invertTree(self, root):\n",
    "        \"\"\"\n",
    "        :type root: TreeNode\n",
    "        :rtype: TreeNode\n",
    "        \"\"\"\n",
    "        if not root: return root\n",
    "        root.left, root.right = root.right, root.left\n",
    "        if root.left:\n",
    "            self.invertTree(root.left)\n",
    "        if root.right:\n",
    "            self.invertTree(root.right)\n",
    "        return root"
   ]
  },
  {
   "cell_type": "markdown",
   "metadata": {},
   "source": [
    "### 3. 104 - maximum depth of binary tree\n",
    "**idea** update current level"
   ]
  },
  {
   "cell_type": "code",
   "execution_count": 4,
   "metadata": {
    "collapsed": true
   },
   "outputs": [],
   "source": [
    "class Solution(object):\n",
    "    def maxDepth(self, root):\n",
    "        \"\"\"\n",
    "        :type root: TreeNode\n",
    "        :rtype: int\n",
    "        \"\"\"\n",
    "        if not root: return 0\n",
    "        cnt, curlevel = 0, [root]\n",
    "        while curlevel:\n",
    "            cnt += 1\n",
    "            curlevel = [kid for node in curlevel for kid in (node.left, node.right) if kid]\n",
    "        return cnt"
   ]
  },
  {
   "cell_type": "markdown",
   "metadata": {},
   "source": [
    "### 4. 107 - binary tree level order traversal II\n",
    "Given a binary tree, return the bottom-up level order traversal of its nodes' values. (ie, from left to right, level by level from leaf to root)\n",
    "\n",
    "**idea** ret[::-1]"
   ]
  },
  {
   "cell_type": "code",
   "execution_count": 5,
   "metadata": {
    "collapsed": true
   },
   "outputs": [],
   "source": [
    "class Solution(object):\n",
    "    def levelOrderBottom(self, root):\n",
    "        \"\"\"\n",
    "        :type root: TreeNode\n",
    "        :rtype: List[List[int]]\n",
    "        \"\"\"\n",
    "        if not root: return []\n",
    "        ret, curlevel = [], [root]\n",
    "        while curlevel:\n",
    "            ret.append([node.val for node in curlevel])\n",
    "            curlevel = [kid for node in curlevel for kid in (node.left, node.right) if kid]\n",
    "        return ret[::-1]"
   ]
  },
  {
   "cell_type": "markdown",
   "metadata": {},
   "source": [
    "## 5. 109 - convert sorted list to binary search tree\n",
    "\n",
    "**idea** copy linked list to array  O(n), but with O(n) extra memory  \n",
    "assign middle value to current node"
   ]
  },
  {
   "cell_type": "code",
   "execution_count": 6,
   "metadata": {
    "collapsed": true
   },
   "outputs": [],
   "source": [
    "class Solution(object):\n",
    "    def sortedListToBST(self, head):\n",
    "        \"\"\"\n",
    "        :type head: ListNode\n",
    "        :rtype: TreeNode\n",
    "        \"\"\"\n",
    "        lst = []\n",
    "        while head:\n",
    "            lst.append(head.val)\n",
    "            head = head.next\n",
    "        return self.lstToBST(lst)\n",
    "           \n",
    "    def lstToBST(self, lst):\n",
    "        if not lst: return None\n",
    "        mid = len(lst)/2\n",
    "        root = TreeNode(lst[mid])\n",
    "        root.left = self.lstToBST(lst[:mid])\n",
    "        root.right = self.lstToBST(lst[mid+1:])\n",
    "        return root"
   ]
  },
  {
   "cell_type": "markdown",
   "metadata": {},
   "source": [
    "**idea**  \n",
    "**top-down** O(nlogn)  \n",
    "level: logn, every level: one-pass, n  \n",
    "assign value to current node everytime  \n",
    "**two pointers**  \n",
    "slow = slow.next, go to the middle one  \n",
    "fast = fast.next.next, go to the last one"
   ]
  },
  {
   "cell_type": "code",
   "execution_count": 7,
   "metadata": {
    "collapsed": true
   },
   "outputs": [],
   "source": [
    "class Solution(object):\n",
    "    def sortedListToBST(self, head):\n",
    "        if not head: return \n",
    "        if not head.next: return TreeNode(head.val)\n",
    "        slow, fast = head, head.next.next\n",
    "        while fast and fast.next:\n",
    "            slow = slow.next\n",
    "            fast = fast.next.next\n",
    "        mid = slow.next\n",
    "        slow.next = None\n",
    "        root = TreeNode(mid.val)\n",
    "        root.left = self.sortedListToBST(head)\n",
    "        root.right = self.sortedListToBST(mid.next)\n",
    "        return root"
   ]
  },
  {
   "cell_type": "markdown",
   "metadata": {},
   "source": [
    "**idea**  \n",
    "**bottom-up** O(n)  \n",
    "1. everytime you assign a value to a node, move the pointer  \n",
    "2. order is decided by recursion  \n",
    "3. n is the stop condition"
   ]
  },
  {
   "cell_type": "code",
   "execution_count": 8,
   "metadata": {
    "collapsed": true
   },
   "outputs": [],
   "source": [
    "class Solution(object):\n",
    "    def sortedListToBST(self, head):\n",
    "        self.pt = head\n",
    "        return self.generate(self.count(head))\n",
    "    \n",
    "    def count(self, head):\n",
    "        cnt = 0\n",
    "        while head:\n",
    "            cnt += 1\n",
    "            head = head.next\n",
    "        return cnt\n",
    "    \n",
    "    def generate(self, n):\n",
    "        if n == 0: return\n",
    "        if n == 1: \n",
    "            val = self.pt.val\n",
    "            self.pt = self.pt.next\n",
    "            return TreeNode(val)  \n",
    "        left = self.generate(n/2)\n",
    "        node = TreeNode(self.pt.val)\n",
    "        self.pt = self.pt.next\n",
    "        right = self.generate(n-1-n/2)\n",
    "        node.left, node.right = left, right\n",
    "        return node"
   ]
  }
 ],
 "metadata": {
  "kernelspec": {
   "display_name": "Python 2",
   "language": "python",
   "name": "python2"
  },
  "language_info": {
   "codemirror_mode": {
    "name": "ipython",
    "version": 2
   },
   "file_extension": ".py",
   "mimetype": "text/x-python",
   "name": "python",
   "nbconvert_exporter": "python",
   "pygments_lexer": "ipython2",
   "version": "2.7.14"
  }
 },
 "nbformat": 4,
 "nbformat_minor": 2
}
