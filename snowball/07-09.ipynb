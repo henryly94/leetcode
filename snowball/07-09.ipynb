{
 "cells": [
  {
   "cell_type": "markdown",
   "metadata": {},
   "source": [
    "## 1. 131 - palindrome partitioning\n",
    "Given a string s, partition s such that every substring of the partition is a palindrome.\n",
    "\n",
    "**idea** dfs\n",
    "In each step, we ONLY CARE whether this string is empty  \n",
    "if is empty, add result  \n",
    "if not, do kid recursion, loop through all possible start words in order to find every possible partitions  \n",
    "\n",
    "ONLY do kid recursion if we find a valid palindrome"
   ]
  },
  {
   "cell_type": "code",
   "execution_count": 1,
   "metadata": {
    "collapsed": true
   },
   "outputs": [],
   "source": [
    "class Solution(object):\n",
    "    def partition(self, s):\n",
    "        \"\"\"\n",
    "        :type s: str\n",
    "        :rtype: List[List[str]]\n",
    "        \"\"\"\n",
    "        ret = []\n",
    "        self.dfs(s,[],ret)\n",
    "        return ret\n",
    "\n",
    "    def dfs(self, s, cur, ret):\n",
    "        if not s:\n",
    "            ret.append(cur)\n",
    "            return \n",
    "        for i in range(1,len(s)+1):\n",
    "            if self.ispalin(s[:i]):\n",
    "                self.dfs(s[i:], cur+[s[:i]], ret)\n",
    "        \n",
    "    def ispalin(self, s):\n",
    "        return s[::-1] == s"
   ]
  },
  {
   "cell_type": "markdown",
   "metadata": {},
   "source": [
    "## 2. 134 - gas station\n",
    "There are N gas stations along a circular route, where the amount of gas at station i is gas[i].\n",
    "\n",
    "You have a car with an unlimited gas tank and it costs cost[i] of gas to travel from station i to its next station (i+1). You begin the journey with an empty tank at one of the gas stations.\n",
    "\n",
    "Return the starting gas station's index if you can travel around the circuit once in the clockwise direction, otherwise return -1.\n",
    "\n",
    "**idea** \n",
    "if sum(gas) >= sum(cost), there must be a solution  \n",
    "if we reaches the minimum net sum i, start point would be right next to it (i+1).\n",
    "\n",
    "Proof:  \n",
    "minimum: gas[i+1] - cost[i+1] + ... + gas[k] - cost[k] >= 0, k is i+1,i+2,...,n,0,1,...,i-1\n",
    "sum of gas is larger: gas[i+1] - cost[i+1] + ... + gas[i] - cost[i] >= 0  \n",
    "thus i+1 is a valid start point\n",
    "\n",
    "find the minimum net sum  \n",
    "update min net sum and i+1"
   ]
  },
  {
   "cell_type": "code",
   "execution_count": 2,
   "metadata": {
    "collapsed": true
   },
   "outputs": [],
   "source": [
    "class Solution(object):\n",
    "    def canCompleteCircuit(self, gas, cost):\n",
    "        \"\"\"\n",
    "        :type gas: List[int]\n",
    "        :type cost: List[int]\n",
    "        :rtype: int\n",
    "        \"\"\"   \n",
    "        # if a point reaches minimum net sum\n",
    "        # start point would be right next to it\n",
    "        if sum(gas) < sum(cost): return -1\n",
    "        n, ret, total, Min = len(gas), 0, 0, float('inf')\n",
    "        for i in range(n):\n",
    "            total += gas[i] - cost[i]\n",
    "            if total < Min:\n",
    "                ret = (i+1)%n\n",
    "                Min = total\n",
    "        return ret"
   ]
  },
  {
   "cell_type": "markdown",
   "metadata": {},
   "source": [
    "## 3. 138 - copy list with random pointer\n",
    "A linked list is given such that each node contains an additional random pointer which could point to any node in the list or null.\n",
    "\n",
    "Return a deep copy of the list.\n",
    "\n",
    "**idea** insert the new list into original list\n",
    "1. a > a' > b > b' > ...\n",
    "2. a'.random = a.random.next\n",
    "3. a > b > ... & a' > b' > ..."
   ]
  },
  {
   "cell_type": "code",
   "execution_count": 3,
   "metadata": {
    "collapsed": true
   },
   "outputs": [],
   "source": [
    "class Solution(object):\n",
    "    def copyRandomList(self, head):\n",
    "        \"\"\"\n",
    "        :type head: RandomListNode\n",
    "        :rtype: RandomListNode\n",
    "        \"\"\"\n",
    "        if not head: return \n",
    "        \n",
    "        # a > a' > b > b' > ...\n",
    "        pt = head\n",
    "        while pt:\n",
    "            tmp = RandomListNode(pt.label)\n",
    "            tmp.next = pt.next\n",
    "            pt.next = tmp\n",
    "            pt = pt.next.next\n",
    "        \n",
    "        # a'.random = a.random.next\n",
    "        pt = head\n",
    "        while pt:\n",
    "            if pt.random:\n",
    "                pt.next.random = pt.random.next\n",
    "            else:\n",
    "                pt.next.random = None\n",
    "            pt = pt.next.next\n",
    "        \n",
    "        # a > b > ... & a' > b' > ...\n",
    "        pt1, pt2, start = head, head.next, head.next\n",
    "        while pt2.next:\n",
    "            pt1.next, pt2.next = pt1.next.next, pt2.next.next\n",
    "            pt1, pt2 = pt1.next, pt2.next\n",
    "        pt1.next = None\n",
    "        \n",
    "        return start"
   ]
  }
 ],
 "metadata": {
  "kernelspec": {
   "display_name": "Python 2",
   "language": "python",
   "name": "python2"
  },
  "language_info": {
   "codemirror_mode": {
    "name": "ipython",
    "version": 2
   },
   "file_extension": ".py",
   "mimetype": "text/x-python",
   "name": "python",
   "nbconvert_exporter": "python",
   "pygments_lexer": "ipython2",
   "version": "2.7.14"
  }
 },
 "nbformat": 4,
 "nbformat_minor": 2
}
