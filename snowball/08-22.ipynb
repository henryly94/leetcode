{
 "cells": [
  {
   "cell_type": "markdown",
   "metadata": {},
   "source": [
    "## 1. 331 - Verify Preorder Serialization of a Binary Tree\n",
    "For example, the above binary tree can be serialized to the string \"9,3,4,#,#,1,#,#,2,#,6,#,#\", where # represents a null node.  \n",
    "Given a string of comma separated values, verify whether it is a correct preorder traversal serialization of a binary tree. Find an algorithm without reconstructing the tree.\n",
    "\n",
    "**idea** stack, replace every 'X##' with '#'"
   ]
  },
  {
   "cell_type": "code",
   "execution_count": 1,
   "metadata": {
    "collapsed": true
   },
   "outputs": [],
   "source": [
    "class Solution(object):\n",
    "    def isValidSerialization(self, preorder):\n",
    "        \"\"\"\n",
    "        :type preorder: str\n",
    "        :rtype: bool\n",
    "        \"\"\"\n",
    "        stack = []\n",
    "        for x in preorder.split(','):\n",
    "            if x == '#':\n",
    "                while len(stack) >= 2 and stack[-1] == '#' and stack[-2] != '#':\n",
    "                    stack.pop()\n",
    "                    stack.pop()\n",
    "                stack.append('#')\n",
    "            else:\n",
    "                stack.append(x)\n",
    "        return stack == ['#']      "
   ]
  },
  {
   "cell_type": "markdown",
   "metadata": {},
   "source": [
    "**idea** recursive, to verify if this node leads a valid subtree"
   ]
  },
  {
   "cell_type": "code",
   "execution_count": 2,
   "metadata": {
    "collapsed": true
   },
   "outputs": [],
   "source": [
    "class Solution(object):\n",
    "    def isValidSerialization(self, preorder):\n",
    "        \"\"\"\n",
    "        :type preorder: str\n",
    "        :rtype: bool\n",
    "        \"\"\"\n",
    "        s = preorder.split(',')[::-1]\n",
    "        def helper(lst):\n",
    "            if not lst: return False\n",
    "            if lst.pop() == '#':\n",
    "                return True\n",
    "            return helper(lst) and helper(lst)\n",
    "        return helper(s) and not s"
   ]
  },
  {
   "cell_type": "markdown",
   "metadata": {},
   "source": [
    "## 2. 332 - Reconstruct Itinerary\n",
    "\n",
    "Given a list of airline tickets represented by pairs of departure and arrival airports [from, to], reconstruct the itinerary in order. All of the tickets belong to a man who departs from JFK. Thus, the itinerary must begin with JFK.  \n",
    "Note:  \n",
    "If there are multiple valid itineraries, you should return the itinerary that has the smallest lexical order when read as a single string. For example, the itinerary [\"JFK\", \"LGA\"] has a smaller lexical order than [\"JFK\", \"LGB\"].  \n",
    "All airports are represented by three capital letters (IATA code).  \n",
    "You may assume all tickets form at least one valid itinerary.\n",
    "\n",
    "**idea** stack  \n",
    "construct a graph using dict  \n",
    "notes: collections.defaultdict(list) is equal to d[key] = d.get(key,[]) + [val]\n",
    "\n",
    "### stack\n",
    "pairs problem: \n",
    "1. itinerary: from -> to\n",
    "2. operation: a + b\n",
    "3. parenthesis: ()"
   ]
  },
  {
   "cell_type": "code",
   "execution_count": 3,
   "metadata": {
    "collapsed": true
   },
   "outputs": [],
   "source": [
    "class Solution(object):\n",
    "    def findItinerary(self, tickets):\n",
    "        \"\"\"\n",
    "        :type tickets: List[List[str]]\n",
    "        :rtype: List[str]\n",
    "        \"\"\"\n",
    "        d = collections.defaultdict(list)\n",
    "        for f,t in sorted(tickets)[::-1]:\n",
    "            # when adding into dict, descending order\n",
    "            d[f] += t,  \n",
    "            \n",
    "        ret, stack = [],['JFK']\n",
    "        while stack:\n",
    "            while d[stack[-1]]:\n",
    "                # when adding into stack, pop, ascending order\n",
    "                stack += d[stack[-1]].pop(),\n",
    "            # add leaves first\n",
    "            # when adding into ret, pop, descending order\n",
    "            ret += stack.pop(),  \n",
    "        return ret[::-1] # ascending order"
   ]
  },
  {
   "cell_type": "markdown",
   "metadata": {},
   "source": [
    "## 3. 334 - Increasing Triplet Subsequence\n",
    "Given an unsorted array return whether an increasing subsequence of length 3 exists or not in the array.  \n",
    "Note: Your algorithm should run in O(n) time complexity and O(1) space complexity.\n",
    "\n",
    "**idea** dp  \n",
    "low: the smallest number  \n",
    "high: smallest number as tail to make a increasing subsequence of length 2"
   ]
  },
  {
   "cell_type": "code",
   "execution_count": 4,
   "metadata": {
    "collapsed": true
   },
   "outputs": [],
   "source": [
    "class Solution(object):\n",
    "    def increasingTriplet(self, nums):\n",
    "        \"\"\"\n",
    "        :type nums: List[int]\n",
    "        :rtype: bool\n",
    "        \"\"\"\n",
    "        low = high = float('inf')\n",
    "        for num in nums:\n",
    "            if num <= low:\n",
    "                low = num\n",
    "            elif num <= high:\n",
    "                high = num\n",
    "            else:\n",
    "                return True\n",
    "        return False"
   ]
  },
  {
   "cell_type": "markdown",
   "metadata": {},
   "source": [
    "## 4. 338 - Counting Bits\n",
    "Given a non negative integer number num. For every numbers i in the range 0 ≤ i ≤ num calculate the number of 1's in their binary representation and return them as an array. \n",
    "\n",
    "**idea** add highest bit into the number. 1,2,4,8...numbers at a time"
   ]
  },
  {
   "cell_type": "code",
   "execution_count": 5,
   "metadata": {
    "collapsed": true
   },
   "outputs": [],
   "source": [
    "class Solution(object):\n",
    "    def countBits(self, num):\n",
    "        \"\"\"\n",
    "        :type num: int\n",
    "        :rtype: List[int]\n",
    "        \"\"\"\n",
    "        ret = [0]\n",
    "        while len(ret) <= num:\n",
    "            ret += [i+1 for i in ret]\n",
    "        return ret[:num+1]"
   ]
  },
  {
   "cell_type": "markdown",
   "metadata": {},
   "source": [
    "**idea** f(k) = f(k/2) + k%2  \n",
    "k/2 = k >> 1, move one position to the right "
   ]
  },
  {
   "cell_type": "code",
   "execution_count": 6,
   "metadata": {
    "collapsed": true
   },
   "outputs": [],
   "source": [
    "class Solution(object):\n",
    "    def countBits(self, num):\n",
    "        \"\"\"\n",
    "        :type num: int\n",
    "        :rtype: List[int]\n",
    "        \"\"\"\n",
    "        ret = [0] * (num+1)\n",
    "        for i in range(1,num+1):\n",
    "            ret[i] = ret[i/2] + i%2\n",
    "        return ret"
   ]
  },
  {
   "cell_type": "markdown",
   "metadata": {},
   "source": [
    "**idea** f(k) = f(k&k-1) + 1  \n",
    "turn the right-most one to zero"
   ]
  },
  {
   "cell_type": "code",
   "execution_count": 7,
   "metadata": {
    "collapsed": true
   },
   "outputs": [],
   "source": [
    "class Solution(object):\n",
    "    def countBits(self, num):\n",
    "        \"\"\"\n",
    "        :type num: int\n",
    "        :rtype: List[int]\n",
    "        \"\"\"\n",
    "        ret = [0] * (num+1)\n",
    "        for i in range(1,num+1):\n",
    "            ret[i] = ret[i&(i-1)] + 1\n",
    "        return ret"
   ]
  }
 ],
 "metadata": {
  "kernelspec": {
   "display_name": "Python 2",
   "language": "python",
   "name": "python2"
  },
  "language_info": {
   "codemirror_mode": {
    "name": "ipython",
    "version": 2
   },
   "file_extension": ".py",
   "mimetype": "text/x-python",
   "name": "python",
   "nbconvert_exporter": "python",
   "pygments_lexer": "ipython2",
   "version": "2.7.14"
  }
 },
 "nbformat": 4,
 "nbformat_minor": 2
}
