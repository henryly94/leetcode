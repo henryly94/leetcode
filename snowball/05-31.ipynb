{
 "cells": [
  {
   "cell_type": "markdown",
   "metadata": {},
   "source": [
    "## 1. 350 - intersection of two arrays II\n",
    "unsorted array"
   ]
  },
  {
   "cell_type": "markdown",
   "metadata": {},
   "source": [
    "**idea** hash table to count"
   ]
  },
  {
   "cell_type": "code",
   "execution_count": 4,
   "metadata": {
    "collapsed": true
   },
   "outputs": [],
   "source": [
    "class Solution(object):\n",
    "    def intersect(self, nums1, nums2):\n",
    "        \"\"\"\n",
    "        :type nums1: List[int]\n",
    "        :type nums2: List[int]\n",
    "        :rtype: List[int]\n",
    "        \"\"\"\n",
    "        count = {}\n",
    "        output = []\n",
    "        \n",
    "        for num in nums1:\n",
    "            count[num] = count.get(num,0) + 1\n",
    "        \n",
    "        for num in nums2:\n",
    "            if num in count and count[num] > 0:\n",
    "                output.append(num)\n",
    "                count[num] -= 1\n",
    "        \n",
    "        return output"
   ]
  },
  {
   "cell_type": "markdown",
   "metadata": {},
   "source": [
    "**idea** two pointers for sorted array"
   ]
  },
  {
   "cell_type": "code",
   "execution_count": 5,
   "metadata": {
    "collapsed": true
   },
   "outputs": [],
   "source": [
    "class Solution(object):\n",
    "    def intersect(self, nums1, nums2):\n",
    "        \"\"\"\n",
    "        :type nums1: List[int]\n",
    "        :type nums2: List[int]\n",
    "        :rtype: List[int]\n",
    "        \"\"\"\n",
    "        output = []\n",
    "        nums1 = sorted(nums1)\n",
    "        nums2 = sorted(nums2)\n",
    "        i = j = 0\n",
    "        \n",
    "        while i < len(nums1) and j < len(nums2):\n",
    "            if nums1[i] < nums2[j]:\n",
    "                i += 1\n",
    "            elif nums1[i] > nums2[j]:\n",
    "                j += 1\n",
    "            else:\n",
    "                output.append(nums1[i])\n",
    "                i += 1\n",
    "                j += 1\n",
    "                \n",
    "        return output"
   ]
  },
  {
   "cell_type": "markdown",
   "metadata": {},
   "source": [
    "## 2. 160 - intersection of two linked lists\n",
    "find the node that the intersection begins  \n",
    "linked lists mush retain original structure  \n",
    "O(n) time O(1) memory"
   ]
  },
  {
   "cell_type": "markdown",
   "metadata": {},
   "source": [
    "**idea** two pointers, just compare two parts with same lenght at last, and ignore the remaining part."
   ]
  },
  {
   "cell_type": "code",
   "execution_count": 6,
   "metadata": {
    "collapsed": true
   },
   "outputs": [],
   "source": [
    "class Solution(object):\n",
    "    def getIntersectionNode(self, headA, headB):\n",
    "        \"\"\"\n",
    "        :type head1, head1: ListNode\n",
    "        :rtype: ListNode\n",
    "        \"\"\"\n",
    "        if headA is None or headB is None:\n",
    "            return None\n",
    "        pa, pb = headA, headB\n",
    "        lenA, lenB = 0, 0\n",
    "        while pa is not None:\n",
    "            lenA += 1\n",
    "            pa = pa.next\n",
    "        while pb is not None:\n",
    "            lenB += 1\n",
    "            pb = pb.next\n",
    "        pa, pb = headA, headB\n",
    "        if lenA > lenB:\n",
    "            for i in range(lenA-lenB):\n",
    "                pa = pa.next\n",
    "        elif lenA < lenB:\n",
    "            for j in range(lenB-lenA):\n",
    "                pb = pb.next\n",
    "        while pa is not pb:\n",
    "            pa = pa.next\n",
    "            pb = pb.next \n",
    "        return pa"
   ]
  },
  {
   "cell_type": "markdown",
   "metadata": {},
   "source": [
    "## 3. 169 - majority element\n",
    "Find the element that appears more than ⌊ n/2 ⌋ times.  \n",
    "The array is non-empty and the majority element always exist in the array."
   ]
  },
  {
   "cell_type": "markdown",
   "metadata": {},
   "source": [
    "** idea ** hash table to count， two pass"
   ]
  },
  {
   "cell_type": "code",
   "execution_count": 7,
   "metadata": {
    "collapsed": true
   },
   "outputs": [],
   "source": [
    "class Solution(object):\n",
    "    def majorityElement(self, nums):\n",
    "        \"\"\"\n",
    "        :type nums: List[int]\n",
    "        :rtype: int\n",
    "        \"\"\"\n",
    "        count = {}\n",
    "        for num in nums:\n",
    "            count[num] = count.get(num,0) + 1\n",
    "        return sorted(count, key=count.get, reverse=True)[0]"
   ]
  },
  {
   "cell_type": "markdown",
   "metadata": {},
   "source": [
    "one pass"
   ]
  },
  {
   "cell_type": "code",
   "execution_count": 18,
   "metadata": {},
   "outputs": [],
   "source": [
    "class Solution(object):\n",
    "    def majorityElement(self, nums):\n",
    "        \"\"\"\n",
    "        :type nums: List[int]\n",
    "        :rtype: int\n",
    "        \"\"\"\n",
    "        count = {}\n",
    "        n = len(nums)\n",
    "        for num in nums:\n",
    "            count[num] = count.get(num,0) + 1\n",
    "            if count[num] > n // 2:\n",
    "                return num"
   ]
  }
 ],
 "metadata": {
  "kernelspec": {
   "display_name": "Python 3",
   "language": "python",
   "name": "python3"
  },
  "language_info": {
   "codemirror_mode": {
    "name": "ipython",
    "version": 3
   },
   "file_extension": ".py",
   "mimetype": "text/x-python",
   "name": "python",
   "nbconvert_exporter": "python",
   "pygments_lexer": "ipython3",
   "version": "3.5.4"
  }
 },
 "nbformat": 4,
 "nbformat_minor": 2
}
