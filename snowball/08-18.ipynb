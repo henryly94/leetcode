{
 "cells": [
  {
   "cell_type": "markdown",
   "metadata": {},
   "source": [
    "## 1. 310 - Minimum Height Trees\n",
    "For a undirected graph with tree characteristics, we can choose any node as the root. The result graph is then a rooted tree. Among all possible rooted trees, those with minimum height are called minimum height trees (MHTs). Given such a graph, write a function to find all the MHTs and return a list of their root labels.\n",
    "\n",
    "**idea** search from leaves to root, like level traversal  \n",
    "The last level(contain one or two nodes) will be our target"
   ]
  },
  {
   "cell_type": "code",
   "execution_count": 1,
   "metadata": {
    "collapsed": true
   },
   "outputs": [],
   "source": [
    "class Solution(object):\n",
    "    def findMinHeightTrees(self, n, edges):\n",
    "        \"\"\"\n",
    "        :type n: int\n",
    "        :type edges: List[List[int]]\n",
    "        :rtype: List[int]\n",
    "        \"\"\"\n",
    "        if not edges: return [0]\n",
    "        d = [[] for i in range(n)]\n",
    "        for e in edges:\n",
    "            d[e[0]] += [e[1]]\n",
    "            d[e[1]] += [e[0]]\n",
    "        leaves = [i for i in range(n) if len(d[i]) == 1]\n",
    "        while n > 2:\n",
    "            n -= len(leaves)\n",
    "            newleaves = []\n",
    "            for i in leaves:\n",
    "                for j in d[i]:\n",
    "                    d[j].remove(i)\n",
    "                    if len(d[j]) == 1:\n",
    "                        newleaves.append(j)\n",
    "            leaves = newleaves   \n",
    "        return leaves"
   ]
  },
  {
   "cell_type": "markdown",
   "metadata": {},
   "source": [
    "## 2. 313 - Super Ugly Number\n",
    "Write a program to find the nth super ugly number.  \n",
    "Super ugly numbers are positive numbers whose all prime factors are in the given prime list primes of size k.\n",
    "\n",
    "**idea** heap  \n",
    "generator to generate the candidates form by primes' product."
   ]
  },
  {
   "cell_type": "code",
   "execution_count": 2,
   "metadata": {
    "collapsed": true
   },
   "outputs": [],
   "source": [
    "class Solution(object):\n",
    "    def nthSuperUglyNumber(self, n, primes):\n",
    "        \"\"\"\n",
    "        :type n: int\n",
    "        :type primes: List[int]\n",
    "        :rtype: int\n",
    "        \"\"\"\n",
    "        ugly = [1]\n",
    "        def gen(prime):\n",
    "            for u in ugly:\n",
    "                yield u * prime\n",
    "        merged = heapq.merge(*map(gen, primes))\n",
    "        while n > 1:\n",
    "            u = next(merged)\n",
    "            if u > ugly[-1]:\n",
    "                ugly.append(u)\n",
    "                n -= 1\n",
    "        return ugly[-1]"
   ]
  },
  {
   "cell_type": "markdown",
   "metadata": {},
   "source": [
    "## 3. 318 - Maximum Product of Word Lengths\n",
    "Given a string array words, find the maximum value of length(word[i]) * length(word[j]) where the two words do not share common letters. You may assume that each word will contain only lower case letters. If no such two words exist, return 0.\n",
    "\n",
    "### bit manipulation \n",
    "### xor, or, and\n",
    "1. xor ^: different   is 1\n",
    "2. and &: both are 1   is 1\n",
    "3. or  |: one of them is 1   is 1\n",
    "\n",
    "**idea** bit manipulation  \n",
    "use mask to present whether it has the particular character"
   ]
  },
  {
   "cell_type": "code",
   "execution_count": 3,
   "metadata": {
    "collapsed": true
   },
   "outputs": [],
   "source": [
    "class Solution(object):\n",
    "    def maxProduct(self, words):\n",
    "        \"\"\"\n",
    "        :type words: List[str]\n",
    "        :rtype: int\n",
    "        \"\"\"\n",
    "        d = {}\n",
    "        for w in words:\n",
    "            mask = 0\n",
    "            for c in w:\n",
    "                mask |= 1 << (ord(c)-97)  \n",
    "                # add a 1 in position ord(c)-97, from right to left\n",
    "            d[mask] = max(d.get(mask,0), len(w))  \n",
    "            # when set(w1) and set(w2) are the same, keep the longer word\n",
    "        return max([d[x]*d[y] for x in d for y in d if not x&y] or [0]) \n",
    "        # if no such pair, return [0]; \n",
    "        # not x&y: not two 1s in the same position of two masks, i.e. two words don't have same character"
   ]
  },
  {
   "cell_type": "markdown",
   "metadata": {},
   "source": [
    "## 4. 319 - Bulb Switcher\n",
    "There are n bulbs that are initially off. You first turn on all the bulbs. Then, you turn off every second bulb. On the third round, you toggle every third bulb (turning on if it's off or turning off if it's on). For the i-th round, you toggle every i bulb. For the n-th round, you only toggle the last bulb. Find how many bulbs are on after n rounds.\n",
    "\n",
    "**idea** math, square number is the target"
   ]
  },
  {
   "cell_type": "code",
   "execution_count": 4,
   "metadata": {
    "collapsed": true
   },
   "outputs": [],
   "source": [
    "class Solution(object):\n",
    "    def bulbSwitch(self, n):\n",
    "        \"\"\"\n",
    "        :type n: int\n",
    "        :rtype: int\n",
    "        \"\"\"\n",
    "        # bulb is on iff it has been switched odd times\n",
    "        # iff it is divided by odd times of numbers between 1 and n\n",
    "        # factors come in pairs: 12=3*4=2*6=1*12\n",
    "        # unless they are squares: 9=1*9=3*3\n",
    "        # equals to find square numbers <= n\n",
    "        return int(n**0.5)"
   ]
  },
  {
   "cell_type": "markdown",
   "metadata": {},
   "source": [
    "## 5. 322 - Coin Change\n",
    "You are given coins of different denominations and a total amount of money amount. Write a function to compute the fewest number of coins that you need to make up that amount. If that amount of money cannot be made up by any combination of the coins, return -1.\n",
    "\n",
    "**idea** dp"
   ]
  },
  {
   "cell_type": "code",
   "execution_count": 5,
   "metadata": {
    "collapsed": true
   },
   "outputs": [],
   "source": [
    "class Solution(object):\n",
    "    def coinChange(self, coins, amount):\n",
    "        \"\"\"\n",
    "        :type coins: List[int]\n",
    "        :type amount: int\n",
    "        :rtype: int\n",
    "        \"\"\"\n",
    "        n = 0\n",
    "        ret = [0] + [amount+1 for i in range(amount)]\n",
    "        for k in range(amount+1):\n",
    "            for c in coins:\n",
    "                if c <= k:\n",
    "                    ret[k] = min(ret[k], ret[k-c]+1) \n",
    "        return ret[-1] if ret[-1] <= amount else -1"
   ]
  },
  {
   "cell_type": "markdown",
   "metadata": {},
   "source": [
    "## 6. 324 - Wiggle Sort II\n",
    "Given an unsorted array nums, reorder it such that nums[0] < nums[1] > nums[2] < nums[3]...\n",
    "\n",
    "**idea** \n",
    "1. sort, larger part into odd index\n",
    "2. median, num larger than median into odd index\n",
    "3. index mapping, two pointers"
   ]
  },
  {
   "cell_type": "code",
   "execution_count": 6,
   "metadata": {
    "collapsed": true
   },
   "outputs": [],
   "source": [
    "class Solution(object):\n",
    "    def wiggleSort(self, nums):\n",
    "        \"\"\"\n",
    "        :type nums: List[int]\n",
    "        :rtype: void Do not return anything, modify nums in-place instead.\n",
    "        \"\"\"\n",
    "        nums.sort()\n",
    "        n = len(nums[::2])\n",
    "        nums[::2], nums[1::2] = nums[:n][::-1], nums[n:][::-1]"
   ]
  }
 ],
 "metadata": {
  "kernelspec": {
   "display_name": "Python 2",
   "language": "python",
   "name": "python2"
  },
  "language_info": {
   "codemirror_mode": {
    "name": "ipython",
    "version": 2
   },
   "file_extension": ".py",
   "mimetype": "text/x-python",
   "name": "python",
   "nbconvert_exporter": "python",
   "pygments_lexer": "ipython2",
   "version": "2.7.14"
  }
 },
 "nbformat": 4,
 "nbformat_minor": 2
}
