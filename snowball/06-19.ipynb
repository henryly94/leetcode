{
 "cells": [
  {
   "cell_type": "markdown",
   "metadata": {},
   "source": [
    "### 1. 58 - length of last word\n",
    "**idea** count until it reaches ' '  \n",
    "remember to pass ' ' at the end"
   ]
  },
  {
   "cell_type": "code",
   "execution_count": 2,
   "metadata": {
    "collapsed": true
   },
   "outputs": [],
   "source": [
    "class Solution(object):\n",
    "    def lengthOfLastWord(self, s):\n",
    "        \"\"\"\n",
    "        :type s: str\n",
    "        :rtype: int\n",
    "        \"\"\"\n",
    "        if not s: return 0\n",
    "        cnt, tail = 0, len(s) - 1\n",
    "        while tail >= 0 and s[tail] == ' ': tail -= 1\n",
    "        while tail >= 0 and s[tail] != ' ':\n",
    "            tail -= 1; cnt += 1\n",
    "        return cnt"
   ]
  },
  {
   "cell_type": "markdown",
   "metadata": {},
   "source": [
    "## 2. 2 - add two numbers\n",
    "Input: (2 -> 4 -> 3) + (5 -> 6 -> 4)  \n",
    "Output: 7 -> 0 -> 8  \n",
    "Explanation: 342 + 465 = 807.\n",
    "\n",
    "**idea**  store carry  \n",
    "carry, val = divmod(v1+v2+carry, 10)  \n",
    "\n",
    "note that the length of two linked list are not necessarily equal  \n",
    "\n",
    "add a dummy node *res* ahead of the list, return res.next  \n",
    "use a pointer *tmp* to loop"
   ]
  },
  {
   "cell_type": "code",
   "execution_count": 3,
   "metadata": {
    "collapsed": true
   },
   "outputs": [],
   "source": [
    "class Solution(object):\n",
    "    def addTwoNumbers(self, l1, l2):\n",
    "        \"\"\"\n",
    "        :type l1: ListNode\n",
    "        :type l2: ListNode\n",
    "        :rtype: ListNode\n",
    "        \"\"\"\n",
    "        res = tmp = ListNode(0)\n",
    "        carry = 0\n",
    "        \n",
    "        while l1 or l2 or carry:\n",
    "            v1 = v2 = 0\n",
    "            if l1:\n",
    "                v1 = l1.val\n",
    "                l1 = l1.next\n",
    "            if l2:\n",
    "                v2 = l2.val\n",
    "                l2 = l2.next\n",
    "            carry, val = divmod(v1+v2+carry, 10)\n",
    "            tmp.next = ListNode(val)\n",
    "#             tmp.next = ListNode((v1+v2+carry)%10)\n",
    "#             carry = (v1+v2+carry)/10\n",
    "            tmp = tmp.next\n",
    "        \n",
    "        return res.next"
   ]
  },
  {
   "cell_type": "markdown",
   "metadata": {},
   "source": [
    "## 3. 11 - container with most water\n",
    "Given n non-negative integers a1, a2, ..., an, where each represents a point at coordinate (i, ai). n vertical lines are drawn such that the two endpoints of line i is at (i, ai) and (i, 0). Find two lines, which together with x-axis forms a container, such that the container contains the most water.\n",
    "\n",
    "**idea** you only care about those two lines, not the lines between them  \n",
    "two pointers, one from left, one from right, O(n)   \n",
    "move whichever pointer that has smaller height, if you move another one, area must decrease since min(height) is the same and width decrease  \n",
    "in this way, you pass all the impossible solutions"
   ]
  },
  {
   "cell_type": "code",
   "execution_count": 4,
   "metadata": {
    "collapsed": true
   },
   "outputs": [],
   "source": [
    "class Solution(object):\n",
    "    def maxArea(self, height):\n",
    "        \"\"\"\n",
    "        :type height: List[int]\n",
    "        :rtype: int\n",
    "        \"\"\"\n",
    "        maxarea, l, r = 0, 0, len(height) - 1\n",
    "        while l < r:\n",
    "            maxarea = max(maxarea, min(height[l], height[r]) * (r-l))\n",
    "            if height[l] < height[r]:\n",
    "                l += 1\n",
    "            else:\n",
    "                r -= 1\n",
    "        return maxarea"
   ]
  },
  {
   "cell_type": "markdown",
   "metadata": {},
   "source": [
    "## 4. 17 - letter combinations of a phone number\n",
    "Given a string containing digits from 2-9 inclusive, return all possible letter combinations that the number could represent.\n",
    "\n",
    "A mapping of digit to letters (just like on the telephone buttons) is given below. Note that 1 does not map to any letters.\n",
    "\n",
    "**idea** update res everytime we reach a new digit from left to right"
   ]
  },
  {
   "cell_type": "code",
   "execution_count": 5,
   "metadata": {
    "collapsed": true
   },
   "outputs": [],
   "source": [
    "class Solution(object):\n",
    "    def letterCombinations(self, digits):\n",
    "        \"\"\"\n",
    "        :type digits: str\n",
    "        :rtype: List[str]\n",
    "        \"\"\"\n",
    "        if not digits: return []\n",
    "        mat = [['a','b','c'], ['d','e','f'],\n",
    "               ['g','h','i'], ['j','k','l'], ['m','n','o'],\n",
    "               ['p','q','r','s'], ['t','u','v'], ['w','x','y','z']]\n",
    "        res = mat[int(digits[0])-2]\n",
    "        for digit in digits[1:]:\n",
    "            res = [m+n for m in res for n in mat[int(digit)-2]]\n",
    "        return res"
   ]
  },
  {
   "cell_type": "markdown",
   "metadata": {},
   "source": [
    "## 5. 19 - remove nth node from end of list\n",
    "Given linked list: 1->2->3->4->5, and n = 2.  \n",
    "After removing the second node from the end, the linked list becomes 1->2->3->5.\n",
    "\n",
    "**idea** two pointers, fast is n position ahead of slow  \n",
    "when fast reaches end, use slow pointer to pass the desired node\n",
    "\n",
    "NOTE that they all change the same linked list"
   ]
  },
  {
   "cell_type": "code",
   "execution_count": 6,
   "metadata": {
    "collapsed": true
   },
   "outputs": [],
   "source": [
    "class Solution(object):\n",
    "    def removeNthFromEnd(self, head, n):\n",
    "        \"\"\"\n",
    "        :type head: ListNode\n",
    "        :type n: int\n",
    "        :rtype: ListNode\n",
    "        \"\"\"\n",
    "        # add a dummy variable start to trace the list\n",
    "        slow = fast = start = ListNode(0)\n",
    "        slow.next = head\n",
    "        \n",
    "        # let the fast pointer lead n position\n",
    "        for i in range(n):\n",
    "            fast = fast.next\n",
    "        \n",
    "        # loop until fast reaches the last node\n",
    "        # slow is ahead of the desired node\n",
    "        while fast.next:\n",
    "            slow = slow.next\n",
    "            fast = fast.next\n",
    "        \n",
    "        # pass the desired node\n",
    "        slow.next = slow.next.next\n",
    "        \n",
    "        return start.next"
   ]
  }
 ],
 "metadata": {
  "kernelspec": {
   "display_name": "Python 2",
   "language": "python",
   "name": "python2"
  },
  "language_info": {
   "codemirror_mode": {
    "name": "ipython",
    "version": 2
   },
   "file_extension": ".py",
   "mimetype": "text/x-python",
   "name": "python",
   "nbconvert_exporter": "python",
   "pygments_lexer": "ipython2",
   "version": "2.7.14"
  }
 },
 "nbformat": 4,
 "nbformat_minor": 2
}
