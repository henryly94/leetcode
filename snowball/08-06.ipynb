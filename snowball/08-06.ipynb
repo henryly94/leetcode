{
 "cells": [
  {
   "cell_type": "markdown",
   "metadata": {},
   "source": [
    "### 1. 225 - Implement Stack using Queues"
   ]
  },
  {
   "cell_type": "code",
   "execution_count": 1,
   "metadata": {
    "collapsed": true
   },
   "outputs": [],
   "source": [
    "class MyStack(object):\n",
    "\n",
    "    def __init__(self):\n",
    "        \"\"\"\n",
    "        Initialize your data structure here.\n",
    "        \"\"\"\n",
    "        self.stack = []\n",
    "        \n",
    "\n",
    "    def push(self, x):\n",
    "        \"\"\"\n",
    "        Push element x onto stack.\n",
    "        :type x: int\n",
    "        :rtype: void\n",
    "        \"\"\"\n",
    "        self.stack.append(x)\n",
    "\n",
    "    def pop(self):\n",
    "        \"\"\"\n",
    "        Removes the element on top of the stack and returns that element.\n",
    "        :rtype: int\n",
    "        \"\"\"\n",
    "        ret = self.stack[-1]\n",
    "        self.stack = self.stack[:-1]\n",
    "        return ret\n",
    "\n",
    "    def top(self):\n",
    "        \"\"\"\n",
    "        Get the top element.\n",
    "        :rtype: int\n",
    "        \"\"\"\n",
    "        return self.stack[-1]\n",
    "\n",
    "    def empty(self):\n",
    "        \"\"\"\n",
    "        Returns whether the stack is empty.\n",
    "        :rtype: bool\n",
    "        \"\"\"\n",
    "        return len(self.stack) == 0\n",
    "\n",
    "\n",
    "# Your MyStack object will be instantiated and called as such:\n",
    "# obj = MyStack()\n",
    "# obj.push(x)\n",
    "# param_2 = obj.pop()\n",
    "# param_3 = obj.top()\n",
    "# param_4 = obj.empty()"
   ]
  },
  {
   "cell_type": "markdown",
   "metadata": {},
   "source": [
    "## 2. 227 - Basic Calculator II\n",
    "Implement a basic calculator to evaluate a simple expression string.  \n",
    "The expression string contains only non-negative integers, +, -, *, / operators and empty spaces . The integer division should truncate toward zero.\n",
    "\n",
    "**idea** cur: current operation, tmp: current number\n",
    "1. turn string into a list with number and operations\n",
    "2. one-pass, take ope to memorize '+' or '-', and a tmp to memorize the result of '*' or '/'\n",
    "3. add tmp to ret when we came across '+' or '-'"
   ]
  },
  {
   "cell_type": "code",
   "execution_count": 2,
   "metadata": {
    "collapsed": true
   },
   "outputs": [],
   "source": [
    "class Solution(object):\n",
    "    def calculate(self, s):\n",
    "        \"\"\"\n",
    "        :type s: str\n",
    "        :rtype: int\n",
    "        \"\"\"\n",
    "        # remove space\n",
    "        s.replace(' ','')\n",
    "        \n",
    "        # turn string to list\n",
    "        dic = {'+':1, '-':1, '*':1, '/':1}\n",
    "        stack = []\n",
    "        # identify digits larger than 10\n",
    "        i, j = 0, 1\n",
    "        while j < len(s):\n",
    "            if s[j] in dic:\n",
    "                stack.append(int(s[i:j]))\n",
    "                stack.append(s[j])\n",
    "                i, j = j+1, j+2\n",
    "            else:\n",
    "                j += 1\n",
    "        # add last digit\n",
    "        stack.append(int(s[i:]))  \n",
    "        \n",
    "        # start with the first number in string\n",
    "        stack = stack[::-1]\n",
    "        ret = tmp = stack.pop()\n",
    "        ope = ''\n",
    "        \n",
    "        # apply operations\n",
    "        while stack:\n",
    "            cur = stack.pop()\n",
    "            if cur == '*':\n",
    "                tmp *= stack.pop()\n",
    "                if not ope: ret = tmp\n",
    "            elif cur == '/':\n",
    "                tmp /= stack.pop()\n",
    "                if not ope: ret = tmp\n",
    "            else:\n",
    "                # if it's '+' or '-'\n",
    "                if ope == '+':\n",
    "                    ret += tmp\n",
    "                elif ope == '-':\n",
    "                    ret -= tmp  \n",
    "                ope = cur\n",
    "                tmp = stack.pop()\n",
    "        \n",
    "        # last operation\n",
    "        if ope == '+':\n",
    "            ret += tmp\n",
    "        elif ope == '-':\n",
    "            ret -= tmp \n",
    "        else:\n",
    "            ret = tmp\n",
    "                \n",
    "        return ret"
   ]
  },
  {
   "cell_type": "markdown",
   "metadata": {},
   "source": [
    "## 3. 228 - Summary Ranges\n",
    "Given a sorted integer array without duplicates, return the summary of its ranges.  \n",
    "Input:  [0,1,2,4,5,7]  \n",
    "Output: [\"0->2\",\"4->5\",\"7\"]  \n",
    "Explanation: 0,1,2 form a continuous range; 4,5 form a continuous range.\n",
    "\n",
    "**idea** two pointers, one for start, one for end of each range  \n",
    "remember to divide single number and range"
   ]
  },
  {
   "cell_type": "code",
   "execution_count": 3,
   "metadata": {
    "collapsed": true
   },
   "outputs": [],
   "source": [
    "class Solution(object):\n",
    "    def summaryRanges(self, nums):\n",
    "        \"\"\"\n",
    "        :type nums: List[int]\n",
    "        :rtype: List[str]\n",
    "        \"\"\"\n",
    "        if not nums: return []\n",
    "        \n",
    "        l, r, ret = 0, 1, []\n",
    "        while r < len(nums):\n",
    "            if nums[r] - nums[l] > r - l:\n",
    "                if r-l == 1:\n",
    "                    ret.append(str(nums[l]))\n",
    "                else:\n",
    "                    ret.append(str(nums[l]) + '->' + str(nums[r-1]))\n",
    "                l, r = r, r+1\n",
    "            else:\n",
    "                r += 1\n",
    "        \n",
    "        # last range\n",
    "        if r-l == 1:\n",
    "            ret.append(str(nums[l]))\n",
    "        else:\n",
    "            ret.append(str(nums[l]) + '->' + str(nums[r-1]))\n",
    "                \n",
    "        return ret       "
   ]
  },
  {
   "cell_type": "markdown",
   "metadata": {},
   "source": [
    "## 4. 229 - Majority Element II\n",
    "Given an integer array of size n, find all elements that appear more than ⌊ n/3 ⌋ times.  \n",
    "Note: The algorithm should run in linear time and in O(1) space.\n",
    "\n",
    "**idea** counter: always keep only 3 keys in this counter, by minus 1 in all the values, once counter length is 3\n",
    "\n",
    "REMEMBER to make sure if remaining key is valid, since if every number is unique, the last 2 element will remain, but it is not valid"
   ]
  },
  {
   "cell_type": "code",
   "execution_count": 4,
   "metadata": {
    "collapsed": true
   },
   "outputs": [],
   "source": [
    "class Solution(object):\n",
    "    def majorityElement(self, nums):\n",
    "        \"\"\"\n",
    "        :type nums: List[int]\n",
    "        :rtype: List[int]\n",
    "        \"\"\"\n",
    "        ctr = collections.Counter()\n",
    "        for num in nums:\n",
    "            ctr[num] += 1\n",
    "            if len(ctr) == 3:\n",
    "                ctr -= collections.Counter(set(ctr))\n",
    "        return [num for num in ctr if nums.count(num) > len(nums)/3]"
   ]
  },
  {
   "cell_type": "markdown",
   "metadata": {},
   "source": [
    "**idea** keep two candidates and their count  \n",
    "if cur num is already in candidates, add count  \n",
    "if one candidate's count is 0, and we come across a new number, we replace the candidate with current number"
   ]
  },
  {
   "cell_type": "code",
   "execution_count": 5,
   "metadata": {
    "collapsed": true
   },
   "outputs": [],
   "source": [
    "class Solution(object):\n",
    "    def majorityElement(self, nums):\n",
    "        \"\"\"\n",
    "        :type nums: List[int]\n",
    "        :rtype: List[int]\n",
    "        \"\"\"\n",
    "        n1 = n2 = None\n",
    "        c1 = c2 = 0\n",
    "        for num in nums:\n",
    "            if n1 == num:\n",
    "                c1 += 1\n",
    "            elif n2 == num:\n",
    "                c2 += 1\n",
    "            elif c1 == 0:\n",
    "                n1, c1 = num, 1\n",
    "            elif c2 == 0:\n",
    "                n2, c2 = num, 1\n",
    "            else:\n",
    "                c1, c2 = c1 - 1, c2 - 1\n",
    "        size = len(nums)\n",
    "        return [n for n in (n1, n2) \n",
    "                   if n is not None and nums.count(n) > size / 3]"
   ]
  }
 ],
 "metadata": {
  "kernelspec": {
   "display_name": "Python 2",
   "language": "python",
   "name": "python2"
  },
  "language_info": {
   "codemirror_mode": {
    "name": "ipython",
    "version": 2
   },
   "file_extension": ".py",
   "mimetype": "text/x-python",
   "name": "python",
   "nbconvert_exporter": "python",
   "pygments_lexer": "ipython2",
   "version": "2.7.14"
  }
 },
 "nbformat": 4,
 "nbformat_minor": 2
}
