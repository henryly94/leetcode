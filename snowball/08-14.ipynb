{
 "cells": [
  {
   "cell_type": "markdown",
   "metadata": {},
   "source": [
    "## 1. 240 - Search a 2D Matrix II\n",
    "Write an efficient algorithm that searches for a value in an m x n matrix. This matrix has the following properties:  \n",
    "Integers in each row are sorted in ascending from left to right.  \n",
    "Integers in each column are sorted in ascending from top to bottom.\n",
    "\n",
    "**idea** traversal from **right-up(or left-bottom) point**  \n",
    "if bigger than target, move to left  \n",
    "if smaller than target, move to bottom"
   ]
  },
  {
   "cell_type": "code",
   "execution_count": 1,
   "metadata": {
    "collapsed": true
   },
   "outputs": [],
   "source": [
    "class Solution(object):\n",
    "    def searchMatrix(self, matrix, target):\n",
    "        \"\"\"\n",
    "        :type matrix: List[List[int]]\n",
    "        :type target: int\n",
    "        :rtype: bool\n",
    "        \"\"\"\n",
    "        if not matrix or not matrix[0]: return False\n",
    "        m, n = len(matrix), len(matrix[0])\n",
    "        i, j = 0, n-1\n",
    "        while i < m and j >= 0:\n",
    "            if target == matrix[i][j]:\n",
    "                return True\n",
    "            elif target < matrix[i][j]:\n",
    "                j -= 1\n",
    "            else:\n",
    "                i += 1\n",
    "        return False"
   ]
  },
  {
   "cell_type": "markdown",
   "metadata": {},
   "source": [
    "## 2. 241 - Different Ways to Add Parentheses\n",
    "Given a string of numbers and operators, return all possible results from computing all the different possible ways to group numbers and operators. The valid operators are +, - and *.\n",
    "\n",
    "**idea** divide and conquer, when we meet an operation, use the same function to deal with left and right part  \n",
    "REMEMBER to handle corner case"
   ]
  },
  {
   "cell_type": "code",
   "execution_count": 2,
   "metadata": {
    "collapsed": true
   },
   "outputs": [],
   "source": [
    "class Solution(object):\n",
    "    def diffWaysToCompute(self, input):\n",
    "        \"\"\"\n",
    "        :type input: str\n",
    "        :rtype: List[int]\n",
    "        \"\"\"\n",
    "        if input.isdigit():\n",
    "            return [int(input)]\n",
    "        ret = []\n",
    "        for i,op in enumerate(input):\n",
    "            if op in ['+','-','*']:\n",
    "                X = self.diffWaysToCompute(input[:i])\n",
    "                Y = self.diffWaysToCompute(input[i+1:])\n",
    "                for x in X:\n",
    "                    for y in Y:\n",
    "                        if op == '+':\n",
    "                            ret.append(x+y)\n",
    "                        elif op == '-':\n",
    "                            ret.append(x-y)\n",
    "                        else:\n",
    "                            ret.append(x*y)\n",
    "        return ret"
   ]
  },
  {
   "cell_type": "markdown",
   "metadata": {},
   "source": [
    "## 3. 260 - Single Number III\n",
    "Given an array of numbers nums, in which exactly two elements appear only once and all the other elements appear exactly **twice**. Find the two elements that appear only once.\n",
    "\n",
    "**idea** dict.  \n",
    "Delete the key if it already exist, else add it to the dict. The remaining two would be our targets."
   ]
  },
  {
   "cell_type": "code",
   "execution_count": 3,
   "metadata": {
    "collapsed": true
   },
   "outputs": [],
   "source": [
    "class Solution(object):\n",
    "    def singleNumber(self, nums):\n",
    "        \"\"\"\n",
    "        :type nums: List[int]\n",
    "        :rtype: List[int]\n",
    "        \"\"\"\n",
    "        d = {}\n",
    "        for num in nums:\n",
    "            if num not in d:\n",
    "                d[num] = 1\n",
    "            else:\n",
    "                del d[num]\n",
    "        return d.keys()"
   ]
  },
  {
   "cell_type": "markdown",
   "metadata": {},
   "source": [
    "**idea** sort list  \n",
    "If two continuous number isn't the same, it will be our target."
   ]
  },
  {
   "cell_type": "code",
   "execution_count": 4,
   "metadata": {
    "collapsed": true
   },
   "outputs": [],
   "source": [
    "class Solution(object):\n",
    "    def singleNumber(self, nums):\n",
    "        \"\"\"\n",
    "        :type nums: List[int]\n",
    "        :rtype: List[int]\n",
    "        \"\"\"\n",
    "        nums.sort()\n",
    "        ret, i = [], 0\n",
    "        while i+1 < len(nums):\n",
    "            if nums[i+1] == nums[i]:\n",
    "                i += 2\n",
    "            else:\n",
    "                ret.append(nums[i])\n",
    "                i += 1\n",
    "        if nums[-1] != nums[-2]:\n",
    "            ret.append(nums[-1])\n",
    "        return ret"
   ]
  },
  {
   "cell_type": "markdown",
   "metadata": {},
   "source": [
    "## 4. 264 - ugly number II\n",
    "Write a program to find the **n-th** ugly number.  \n",
    "Ugly numbers are positive numbers whose prime factors only include 2, 3, 5. \n",
    "\n",
    "**idea** precompute"
   ]
  },
  {
   "cell_type": "code",
   "execution_count": 5,
   "metadata": {
    "collapsed": true
   },
   "outputs": [],
   "source": [
    "class Solution(object):\n",
    "    ugly = sorted([2**a * 3**b * 5**c for a in range(32) for b in range(20) for c in range(14)])\n",
    "    \n",
    "    def nthUglyNumber(self, n):\n",
    "        \"\"\"\n",
    "        :type n: int\n",
    "        :rtype: int\n",
    "        \"\"\"\n",
    "        return self.ugly[n-1]"
   ]
  },
  {
   "cell_type": "markdown",
   "metadata": {},
   "source": [
    "**idea** three pointers  \n",
    "Multiply 2,3,5 to the corresponding position value, choose the minimum one to be the next ugly number  \n",
    "1. Move pointers whenever the product is equal to the new number\n",
    "2. Move pointers whenever the product is smaller or equal to the newest ugly number"
   ]
  },
  {
   "cell_type": "code",
   "execution_count": 6,
   "metadata": {
    "collapsed": true
   },
   "outputs": [],
   "source": [
    "class Solution(object):    \n",
    "    def nthUglyNumber(self, n):\n",
    "        \"\"\"\n",
    "        :type n: int\n",
    "        :rtype: int\n",
    "        \"\"\"\n",
    "        ugly = [1]\n",
    "        i2,i3,i5 = 0,0,0\n",
    "        while n > 1:\n",
    "            u2,u3,u5 = 2*ugly[i2],3*ugly[i3],5*ugly[i5]\n",
    "            umin = min(u2,u3,u5)\n",
    "            if umin == u2:\n",
    "                i2 += 1\n",
    "            if umin == u3:\n",
    "                i3 += 1\n",
    "            if umin == u5:\n",
    "                i5 += 1\n",
    "            ugly.append(umin)\n",
    "            n -= 1\n",
    "        return ugly[-1]"
   ]
  },
  {
   "cell_type": "code",
   "execution_count": 7,
   "metadata": {
    "collapsed": true
   },
   "outputs": [],
   "source": [
    "class Solution(object):    \n",
    "    def nthUglyNumber(self, n):\n",
    "        \"\"\"\n",
    "        :type n: int\n",
    "        :rtype: int\n",
    "        \"\"\"\n",
    "        ugly = [1]\n",
    "        i2,i3,i5 = 0,0,0\n",
    "        while n > 1:\n",
    "            while 2*ugly[i2] <= ugly[-1]: i2 += 1\n",
    "            while 3*ugly[i3] <= ugly[-1]: i3 += 1\n",
    "            while 5*ugly[i5] <= ugly[-1]: i5 += 1\n",
    "            ugly.append(min(2*ugly[i2],3*ugly[i3],5*ugly[i5]))\n",
    "            n -= 1\n",
    "        return ugly[-1]"
   ]
  },
  {
   "cell_type": "markdown",
   "metadata": {},
   "source": [
    "**idea** heap  \n",
    "add all possible elements into the heap, merge them, add the smallest number to ugly"
   ]
  },
  {
   "cell_type": "code",
   "execution_count": 8,
   "metadata": {
    "collapsed": true
   },
   "outputs": [],
   "source": [
    "class Solution(object):    \n",
    "    def nthUglyNumber(self, n):\n",
    "        \"\"\"\n",
    "        :type n: int\n",
    "        :rtype: int\n",
    "        \"\"\"\n",
    "        ugly = 1\n",
    "        u2,u3,u5 = [2],[3],[5]\n",
    "        for u in heapq.merge(u2,u3,u5):\n",
    "            if n == 1:\n",
    "                return ugly\n",
    "            if u > ugly:\n",
    "                ugly = u\n",
    "                n -= 1\n",
    "                u2.append(2*u)\n",
    "                u3.append(3*u)\n",
    "                u5.append(5*u)"
   ]
  },
  {
   "cell_type": "markdown",
   "metadata": {},
   "source": [
    "## 5. 274 - H-Index\n",
    "Given an array of citations (each citation is a non-negative integer) of a researcher, write a function to compute the researcher's h-index.  \n",
    "According to the definition of h-index on Wikipedia: \"A scientist has index h if h of his/her N papers have at least h citations each, and the other N − h papers have no more than h citations each.\"\n",
    "\n",
    "**idea** sort O(nlogn) time"
   ]
  },
  {
   "cell_type": "code",
   "execution_count": 9,
   "metadata": {
    "collapsed": true
   },
   "outputs": [],
   "source": [
    "class Solution(object):\n",
    "    def hIndex(self, citations):\n",
    "        \"\"\"\n",
    "        :type citations: List[int]\n",
    "        :rtype: int\n",
    "        \"\"\"\n",
    "        citations.sort()\n",
    "        n = len(citations)\n",
    "        for i,c in enumerate(citations):\n",
    "            if c >= n-i:\n",
    "                return n-i\n",
    "        return 0"
   ]
  },
  {
   "cell_type": "markdown",
   "metadata": {},
   "source": [
    "**idea** count how many elements is bigger than k. O(n) time, O(n) space"
   ]
  },
  {
   "cell_type": "code",
   "execution_count": 10,
   "metadata": {
    "collapsed": true
   },
   "outputs": [],
   "source": [
    "class Solution(object):\n",
    "    def hIndex(self, citations):\n",
    "        \"\"\"\n",
    "        :type citations: List[int]\n",
    "        :rtype: int\n",
    "        \"\"\"\n",
    "        n = len(citations)\n",
    "        cnt = [0] * (n+1)\n",
    "        for c in citations:\n",
    "            if c >= n:\n",
    "                cnt[n] += 1\n",
    "            else:\n",
    "                cnt[c] += 1\n",
    "        \n",
    "        i = n-1\n",
    "        while i >= 0:\n",
    "            if cnt[i+1] >= i+1:\n",
    "                return i+1\n",
    "            cnt[i] += cnt[i+1]\n",
    "            i -= 1\n",
    "        return 0"
   ]
  }
 ],
 "metadata": {
  "kernelspec": {
   "display_name": "Python 2",
   "language": "python",
   "name": "python2"
  },
  "language_info": {
   "codemirror_mode": {
    "name": "ipython",
    "version": 2
   },
   "file_extension": ".py",
   "mimetype": "text/x-python",
   "name": "python",
   "nbconvert_exporter": "python",
   "pygments_lexer": "ipython2",
   "version": "2.7.14"
  }
 },
 "nbformat": 4,
 "nbformat_minor": 2
}
