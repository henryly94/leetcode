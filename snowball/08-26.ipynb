{
 "cells": [
  {
   "cell_type": "markdown",
   "metadata": {},
   "source": [
    "## 1. 416 - Partition Equal Subset Sum\n",
    "Given a non-empty array containing only positive integers, find if the array can be partitioned into two subsets such that the sum of elements in both subsets is equal.\n",
    "\n",
    "**idea** package problem  \n",
    "record every possible value of sum for every num in nums."
   ]
  },
  {
   "cell_type": "code",
   "execution_count": 1,
   "metadata": {
    "collapsed": true
   },
   "outputs": [],
   "source": [
    "class Solution(object):\n",
    "    def canPartition(self, nums):\n",
    "        \"\"\"\n",
    "        :type nums: List[int]\n",
    "        :rtype: bool\n",
    "        \"\"\"\n",
    "        targets = sum(nums)\n",
    "        if targets%2 == 1: return False\n",
    "        targets >>= 1\n",
    "        \n",
    "        lst = {0}\n",
    "        # lst = [False]*(targets+1)\n",
    "        for num in nums:\n",
    "            lst |= {x+num for x in lst}\n",
    "            if targets in lst: return True\n",
    "        \n",
    "        return False"
   ]
  },
  {
   "cell_type": "markdown",
   "metadata": {},
   "source": [
    "# 2. 805 - Split Array With Same Average\n",
    "In a given integer array A, we must move every element of A to either list B or list C. (B and C initially start empty.)  \n",
    "Return true if and only if after such a move, it is possible that the average value of B is equal to the average value of C, and B and C are both non-empty.\n",
    "\n",
    "**idea** A[i] = A[i] * n - total >> A's sum and average will be zero  \n",
    "length will not affect the average of subarray\n",
    "\n",
    "1. just like split array with same sum\n",
    "2. record the shortest length of a kind of sum will be enough"
   ]
  },
  {
   "cell_type": "code",
   "execution_count": 2,
   "metadata": {
    "collapsed": true
   },
   "outputs": [],
   "source": [
    "class Solution(object):\n",
    "    def splitArraySameAverage(self, A):\n",
    "        \"\"\"\n",
    "        :type A: List[int]\n",
    "        :rtype: bool\n",
    "        \"\"\"\n",
    "        total, n = sum(A), len(A)\n",
    "        for i in range(len(A)):\n",
    "            A[i] = A[i] * n - total\n",
    "\n",
    "        possible = {A[0]:1}\n",
    "        \n",
    "        for a in A[1:]:\n",
    "            for k in possible.keys():\n",
    "                if k+a not in possible and possible[k] < n-1:\n",
    "                    possible[k+a] = possible[k] + 1\n",
    "            if 0 in possible: return True\n",
    "        \n",
    "        return False "
   ]
  },
  {
   "cell_type": "markdown",
   "metadata": {},
   "source": [
    "notes:  \n",
    "we can add neg and pos separately to see if they add up to zero"
   ]
  },
  {
   "cell_type": "code",
   "execution_count": 4,
   "metadata": {
    "collapsed": true
   },
   "outputs": [],
   "source": [
    "class Solution(object):\n",
    "    def splitArraySameAverage(self, A):\n",
    "        \"\"\"\n",
    "        :type A: List[int]\n",
    "        :rtype: bool\n",
    "        \"\"\"\n",
    "        n, total = len(A), sum(A)\n",
    "        big, small = set(), set()\n",
    "        average = total / float(n)\n",
    "        \n",
    "        for num in A[:-1]:\n",
    "            if num == average:\n",
    "                return True\n",
    "            elif num > average:\n",
    "                big |= {x + n*num - total for x in big}\n",
    "                big.add(n*num - total)\n",
    "            else:\n",
    "                small |= {x + total - n*num for x in small}\n",
    "                small.add(total - n*num)\n",
    "            if big & small: # if big and small has common element\n",
    "                return True\n",
    "        return False"
   ]
  },
  {
   "cell_type": "markdown",
   "metadata": {},
   "source": [
    "**idea** loop through all the possible length from 1 to n/2  \n",
    "notes:\n",
    "1. don't add one number multiple times\n",
    "2. newDict[k+a] = oldDict[k] + 1\n",
    "3. memorize all the possible length of a possible value since our length is fixed"
   ]
  },
  {
   "cell_type": "code",
   "execution_count": 3,
   "metadata": {
    "collapsed": true
   },
   "outputs": [],
   "source": [
    "class Solution(object):\n",
    "    def splitArraySameAverage(self, A):\n",
    "        \"\"\"\n",
    "        :type A: List[int]\n",
    "        :rtype: bool\n",
    "        \"\"\"\n",
    "        n = len(A)\n",
    "        avg, M = sum(A)/float(n), n/2\n",
    "        for i in range(1,M+1):\n",
    "            target = avg * i\n",
    "            if target == int(target): \n",
    "                possible = {0:{0}}\n",
    "                for a in A: \n",
    "                    d = {}\n",
    "                    for k in possible.keys():\n",
    "                        values = list(possible[k])\n",
    "                        if k+a in possible:\n",
    "                            d[k+a] = list(possible[k+a])\n",
    "                        for v in values:    \n",
    "                            if k+a not in d: d[k+a] = [v+1]\n",
    "                            else: \n",
    "                                d[k+a].append(v+1)\n",
    "                    for k in d:\n",
    "                        possible[k] = set(d[k])\n",
    "                    if target in possible and i in possible[target]: return True\n",
    "        return False"
   ]
  },
  {
   "cell_type": "markdown",
   "metadata": {},
   "source": [
    "## 3. 355 - Design Twitter\n",
    "Design a simplified version of Twitter where users can post tweets, follow/unfollow another user and is able to see the 10 most recent tweets in the user's news feed. Your design should support the following methods:\n",
    "\n",
    "**postTweet(userId, tweetId):** Compose a new tweet.  \n",
    "**getNewsFeed(userId):** Retrieve the 10 most recent tweet ids in the user's news feed. Each item in the news feed must be posted by users who the user followed or by the user herself. Tweets must be ordered from most recent to least recent.  \n",
    "**follow(followerId, followeeId):** Follower follows a followee.  \n",
    "**unfollow(followerId, followeeId):** Follower unfollows a followee.\n",
    "\n",
    "### set \n",
    "|: or  \n",
    "discard: remove specific value"
   ]
  },
  {
   "cell_type": "code",
   "execution_count": 5,
   "metadata": {
    "collapsed": true
   },
   "outputs": [],
   "source": [
    "class Twitter(object):\n",
    "\n",
    "    def __init__(self):\n",
    "        \"\"\"\n",
    "        Initialize your data structure here.\n",
    "        \"\"\"\n",
    "        self.tweets = collections.defaultdict(list)\n",
    "        self.followees = collections.defaultdict(set)\n",
    "        self.order = 1\n",
    "        \n",
    "\n",
    "    def postTweet(self, userId, tweetId):\n",
    "        \"\"\"\n",
    "        Compose a new tweet.\n",
    "        :type userId: int\n",
    "        :type tweetId: int\n",
    "        :rtype: void\n",
    "        \"\"\"\n",
    "        self.tweets[userId].append((self.order, tweetId))\n",
    "        self.order += 1\n",
    "        \n",
    "\n",
    "    def getNewsFeed(self, userId):\n",
    "        \"\"\"\n",
    "        Retrieve the 10 most recent tweet ids in the user's news feed. Each item in the news feed must be posted by users who the user followed or by the user herself. Tweets must be ordered from most recent to least recent.\n",
    "        :type userId: int\n",
    "        :rtype: List[int]\n",
    "        \"\"\"\n",
    "        news = []\n",
    "        for user in self.followees[userId] | {userId}:\n",
    "            news += self.tweets[user]\n",
    "        news.sort(reverse=True)\n",
    "        return [x[1] for x in news[:min(len(news),10)]]\n",
    "        \n",
    "\n",
    "    def follow(self, followerId, followeeId):\n",
    "        \"\"\"\n",
    "        Follower follows a followee. If the operation is invalid, it should be a no-op.\n",
    "        :type followerId: int\n",
    "        :type followeeId: int\n",
    "        :rtype: void\n",
    "        \"\"\"\n",
    "        self.followees[followerId] = self.followees.get(followerId,set()) | {followeeId}\n",
    "\n",
    "    def unfollow(self, followerId, followeeId):\n",
    "        \"\"\"\n",
    "        Follower unfollows a followee. If the operation is invalid, it should be a no-op.\n",
    "        :type followerId: int\n",
    "        :type followeeId: int\n",
    "        :rtype: void\n",
    "        \"\"\"\n",
    "        if followeeId in self.followees[followerId]:\n",
    "            if len(self.followees[followerId]) == 1:\n",
    "                self.followees[followerId] = set()\n",
    "            else:\n",
    "                self.followees[followerId].discard(followeeId)\n",
    "        \n",
    "\n",
    "# Your Twitter object will be instantiated and called as such:\n",
    "# obj = Twitter()\n",
    "# obj.postTweet(userId,tweetId)\n",
    "# param_2 = obj.getNewsFeed(userId)\n",
    "# obj.follow(followerId,followeeId)\n",
    "# obj.unfollow(followerId,followeeId)"
   ]
  }
 ],
 "metadata": {
  "kernelspec": {
   "display_name": "Python 2",
   "language": "python",
   "name": "python2"
  },
  "language_info": {
   "codemirror_mode": {
    "name": "ipython",
    "version": 2
   },
   "file_extension": ".py",
   "mimetype": "text/x-python",
   "name": "python",
   "nbconvert_exporter": "python",
   "pygments_lexer": "ipython2",
   "version": "2.7.14"
  }
 },
 "nbformat": 4,
 "nbformat_minor": 2
}
