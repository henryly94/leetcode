{
 "cells": [
  {
   "cell_type": "markdown",
   "metadata": {},
   "source": [
    "## 1. 153 - Find Minimum in Rotated Sorted Array\n",
    "no duplicates\n",
    "\n",
    "**idea** binary search  \n",
    "NOTE that min point should be in the non-ordered part, and mid point may be exactly the min"
   ]
  },
  {
   "cell_type": "code",
   "execution_count": 1,
   "metadata": {
    "collapsed": true
   },
   "outputs": [],
   "source": [
    "class Solution(object):\n",
    "    def findMin(self, nums):\n",
    "        \"\"\"\n",
    "        :type nums: List[int]\n",
    "        :rtype: int\n",
    "        \"\"\"\n",
    "        if not nums: return \n",
    "        l, r = 0, len(nums)-1\n",
    "        mid = (l + r)/2\n",
    "        while l < r:\n",
    "            mid = (l + r)/2\n",
    "            if nums[mid] < nums[r] and nums[mid-1] < nums[mid]:  \n",
    "            # right part in order. min in left part [6,7,1,*2*,3,4,5]\n",
    "                r = mid - 1\n",
    "            elif nums[mid] > nums[r]: \n",
    "            # left part in order. min in right part [3,4,*5*,1,2], [3,4,5,*6*,7,1,2]\n",
    "                l = mid + 1\n",
    "            else: \n",
    "            # mid point is exactly the min. [4,5,*1*,2,3]\n",
    "                return nums[mid]\n",
    "        return nums[l]"
   ]
  },
  {
   "cell_type": "markdown",
   "metadata": {},
   "source": [
    "### 2. 155 - Min Stack\n",
    "Design a stack that supports push, pop, top, and retrieving the minimum element in constant time.\n",
    "\n",
    "push(x) -- Push element x onto stack.  \n",
    "pop() -- Removes the element on top of the stack.  \n",
    "top() -- Get the top element.  \n",
    "getMin() -- Retrieve the minimum element in the stack.\n",
    "\n",
    "**idea** update min value each time, store tuple (x, curMin) in stack"
   ]
  },
  {
   "cell_type": "code",
   "execution_count": 2,
   "metadata": {
    "collapsed": true
   },
   "outputs": [],
   "source": [
    "class MinStack(object):\n",
    "\n",
    "    def __init__(self):\n",
    "        \"\"\"\n",
    "        initialize your data structure here.\n",
    "        \"\"\"\n",
    "        # list of tuple\n",
    "        self.stack = []\n",
    "\n",
    "    def push(self, x):\n",
    "        \"\"\"\n",
    "        :type x: int\n",
    "        :rtype: void\n",
    "        \"\"\"\n",
    "        curMin = self.getMin()\n",
    "        # not curMin means curMin == 0 when curMin is int type\n",
    "        # to be specific, determine whether curMin is None, in order to initialize\n",
    "        # when x < curMin, update curMin's value\n",
    "        if curMin is None or x < curMin: \n",
    "            curMin = x\n",
    "        self.stack.append((x, curMin))\n",
    "\n",
    "    def pop(self):\n",
    "        \"\"\"\n",
    "        :rtype: void\n",
    "        \"\"\"\n",
    "        self.stack = self.stack[:-1]\n",
    "\n",
    "    def top(self):\n",
    "        \"\"\"\n",
    "        :rtype: int\n",
    "        \"\"\"\n",
    "        # value\n",
    "        if not self.stack: return \n",
    "        return self.stack[-1][0]\n",
    "        \n",
    "\n",
    "    def getMin(self):\n",
    "        \"\"\"\n",
    "        :rtype: int\n",
    "        \"\"\"\n",
    "        # value\n",
    "        if not self.stack: return \n",
    "        return self.stack[-1][1]\n",
    "\n",
    "\n",
    "# Your MinStack object will be instantiated and called as such:\n",
    "# obj = MinStack()\n",
    "# obj.push(x)\n",
    "# obj.pop()\n",
    "# param_3 = obj.top()\n",
    "# param_4 = obj.getMin()"
   ]
  },
  {
   "cell_type": "markdown",
   "metadata": {},
   "source": [
    "## 3. 162 - Find Peak Element\n",
    "A peak element is an element that is greater than its neighbors. Given an input array nums, where nums[i] ≠ nums[i+1], find a peak element and return its index. Index -1 and n can be treated as -inf.   O(logn) time required.  \n",
    "\n",
    "**idea** binary search  \n",
    "1. mid is peak, return\n",
    "2. right is greater than mid, right must has at least one peak, ignore left part:  \n",
    "a) if always increasing, right-most is the peak  \n",
    "b) if always decreasing, mid+1 is the peak  \n",
    "c) if first increase, then decrease, the turn-around point is a peak  \n",
    "d) if first decrease, then increase, mid+1 is a peak  \n",
    "3. left is greater than mid, left must has at least one peak, ignore right part.\n",
    "\n",
    "stop condition:\n",
    "1. nums = [], return None\n",
    "2. len(nums) = 1, return the only element\n",
    "3. len(nums) = 2, return the bigger one (to make sure mid-1, mid, mid+1 are all valid index)"
   ]
  },
  {
   "cell_type": "code",
   "execution_count": 7,
   "metadata": {
    "collapsed": true
   },
   "outputs": [],
   "source": [
    "class Solution(object):\n",
    "    def findPeakElement(self, nums):\n",
    "        \"\"\"\n",
    "        :type nums: List[int]\n",
    "        :rtype: int\n",
    "        \"\"\"\n",
    "        if not nums: return \n",
    "        if len(nums) == 1: return 0\n",
    "\n",
    "        l, r = 0, len(nums)-1\n",
    "        while l < r - 1: ### \n",
    "            mid = (l+r)/2\n",
    "            if nums[mid] > nums[mid+1] and nums[mid] > nums[mid-1]:\n",
    "                return mid\n",
    "            elif nums[mid] < nums[mid+1]:\n",
    "                l = mid + 1\n",
    "            elif nums[mid] < nums[mid-1]:\n",
    "                r = mid - 1\n",
    "                \n",
    "        # return bigger one\n",
    "        return l if nums[l] > nums[r] else r"
   ]
  },
  {
   "cell_type": "markdown",
   "metadata": {},
   "source": [
    "## 4. 165 - Compare Version Numbers\n",
    "Compare two version numbers version1 and version2.  \n",
    "If version1 > version2 return 1; if version1 < version2 return -1;otherwise return 0."
   ]
  },
  {
   "cell_type": "code",
   "execution_count": 5,
   "metadata": {
    "collapsed": true
   },
   "outputs": [],
   "source": [
    "class Solution(object):\n",
    "    def compareVersion(self, version1, version2):\n",
    "        \"\"\"\n",
    "        :type version1: str\n",
    "        :type version2: str\n",
    "        :rtype: int\n",
    "        \"\"\"\n",
    "        v1, v2 = version1.split('.'), version2.split('.')\n",
    "        i, j = 0, 0\n",
    "        while i < len(v1) and j < len(v2):\n",
    "            # int(x) to turn '01' to '1', since version 01.1 is equal to version 1.1\n",
    "            if int(v1[i]) < int(v2[j]):\n",
    "                return -1\n",
    "            elif int(v1[i]) > int(v2[j]):\n",
    "                return 1\n",
    "            else:\n",
    "                i += 1\n",
    "                j += 1\n",
    "        if i == len(v1) and j == len(v2):\n",
    "            return 0\n",
    "        elif i == len(v1):\n",
    "            # sum(int(x)) == 0 to determine whether rest of number is also zero\n",
    "            return 0 if sum([int(x) for x in v2[j:]]) == 0 else -1\n",
    "        else:\n",
    "            return 0 if sum([int(x) for x in v1[i:]]) == 0 else 1"
   ]
  },
  {
   "cell_type": "markdown",
   "metadata": {},
   "source": [
    "## 5. 166 - Fraction to Recurring Decimal\n",
    "Given two integers representing the numerator and denominator of a fraction, return the fraction in string format.  \n",
    "If the fractional part is repeating, enclose the repeating part in parentheses.\n",
    "\n",
    "**idea** simulate vertical  \n",
    "use a hash table to store numerator, if the same occur, return the repeating decimal.  \n",
    "remember to handle negative, divisible situation."
   ]
  },
  {
   "cell_type": "code",
   "execution_count": 6,
   "metadata": {
    "collapsed": true
   },
   "outputs": [],
   "source": [
    "class Solution(object):\n",
    "    def fractionToDecimal(self, numerator, denominator):\n",
    "        \"\"\"\n",
    "        :type numerator: int\n",
    "        :type denominator: int\n",
    "        :rtype: str\n",
    "        \"\"\"\n",
    "        n, d = numerator, denominator\n",
    "        ret = ''\n",
    "        \n",
    "        # handle negative input\n",
    "        if n*d < 0:\n",
    "            ret = '-'\n",
    "        # as if n & d are all positive\n",
    "        n, d = abs(n), abs(d)\n",
    "        \n",
    "        # if divisible\n",
    "        if n%d == 0:\n",
    "            return ret + str(n/d)\n",
    "        # if not divisible, add decimal point\n",
    "        ret += str(n/d) + '.'\n",
    "        # decimal part\n",
    "        n = n % d\n",
    "        \n",
    "        # initialize i & dict for loop\n",
    "        i = len(ret)\n",
    "        dic = {}\n",
    "        while n != 0:\n",
    "            # if it's a new numerator\n",
    "            if n not in dic:\n",
    "                dic[n] = i\n",
    "            # if it's an old numerator, then it's a repeating number, return ret\n",
    "            else:\n",
    "                i = dic[n]\n",
    "                ret = ret[:i] + '(' + ret[i:] + ')'\n",
    "                return ret\n",
    "            # if previous numerator is not repeated, continue\n",
    "            n *= 10\n",
    "            ret += str(n/d)\n",
    "            i += 1\n",
    "            n = n % d\n",
    "        return ret"
   ]
  }
 ],
 "metadata": {
  "kernelspec": {
   "display_name": "Python 2",
   "language": "python",
   "name": "python2"
  },
  "language_info": {
   "codemirror_mode": {
    "name": "ipython",
    "version": 2
   },
   "file_extension": ".py",
   "mimetype": "text/x-python",
   "name": "python",
   "nbconvert_exporter": "python",
   "pygments_lexer": "ipython2",
   "version": "2.7.14"
  }
 },
 "nbformat": 4,
 "nbformat_minor": 2
}
