{
 "cells": [
  {
   "cell_type": "markdown",
   "metadata": {},
   "source": [
    "## [1] 190 - reverse bits  \n",
    "Input: 43261596  \n",
    "Output: 964176192  \n",
    "Explanation: 43261596 represented in binary as 00000010100101000001111010011100,   \n",
    "             return 964176192 represented in binary as 00111001011110000010100101000000."
   ]
  },
  {
   "cell_type": "markdown",
   "metadata": {},
   "source": [
    "** idea ** turn int into binary, reverse, turn back to int"
   ]
  },
  {
   "cell_type": "code",
   "execution_count": 1,
   "metadata": {
    "collapsed": true
   },
   "outputs": [],
   "source": [
    "class Solution:\n",
    "    # @param n, an integer\n",
    "    # @return an integer\n",
    "    def reverseBits(self, n):\n",
    "        return int('{:032b}'.format(n)[::-1],2)\n",
    "    \n",
    "# int(value, base=10):\tbase can be 2,  means binary\n",
    "# type(value).format(value):\tmeans 32-bits digits\n",
    "# value[::-1]: \tignore start, end, stride=-1, means from end to start"
   ]
  },
  {
   "cell_type": "markdown",
   "metadata": {},
   "source": [
    "## [2] 566 - reshape the matrix"
   ]
  },
  {
   "cell_type": "markdown",
   "metadata": {},
   "source": [
    "** idea ** flatten the matrix"
   ]
  },
  {
   "cell_type": "code",
   "execution_count": 3,
   "metadata": {
    "collapsed": true
   },
   "outputs": [],
   "source": [
    "class Solution:\n",
    "    def matrixReshape(self, nums, r, c):\n",
    "        \"\"\"\n",
    "        :type nums: List[List[int]]\n",
    "        :type r: int\n",
    "        :type c: int\n",
    "        :rtype: List[List[int]]\n",
    "        \"\"\"\n",
    "        if r*c != len(nums)* len(nums[0]): return nums\n",
    "        else:\n",
    "            flat = []\n",
    "            for lst in nums:\n",
    "                flat += lst  #simply add lists to flatten\n",
    "            return [flat[i*c:i*c+c] for i in range(r)]"
   ]
  },
  {
   "cell_type": "markdown",
   "metadata": {},
   "source": [
    "## [3] 202 - happy number"
   ]
  },
  {
   "cell_type": "markdown",
   "metadata": {},
   "source": [
    "**idea** whether there is a cycle or not"
   ]
  },
  {
   "cell_type": "code",
   "execution_count": 5,
   "metadata": {
    "collapsed": true
   },
   "outputs": [],
   "source": [
    "class Solution:\n",
    "    def isHappy(self, n):\n",
    "        \"\"\"\n",
    "        :type n: int\n",
    "        :rtype: bool\n",
    "        \"\"\"\n",
    "        seen = set()  #unique\n",
    "        while n not in seen: #while there is not a cycle\n",
    "            seen.add(n)\n",
    "            n = sum(int(dig)**2 for dig in str(n)) #extract digits from int\n",
    "        return n == 1"
   ]
  }
 ],
 "metadata": {
  "kernelspec": {
   "display_name": "Python 3",
   "language": "python",
   "name": "python3"
  },
  "language_info": {
   "codemirror_mode": {
    "name": "ipython",
    "version": 3
   },
   "file_extension": ".py",
   "mimetype": "text/x-python",
   "name": "python",
   "nbconvert_exporter": "python",
   "pygments_lexer": "ipython3",
   "version": "3.5.4"
  }
 },
 "nbformat": 4,
 "nbformat_minor": 2
}
