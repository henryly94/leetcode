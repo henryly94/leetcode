{
 "cells": [
  {
   "cell_type": "markdown",
   "metadata": {},
   "source": [
    "## 1. 16 - 3Sum Closest  \n",
    "find three integers in nums such that the sum is closest to target  \n",
    "**idea** loop through sorted array  \n",
    "use two pointers, one from i+1 and one from -1  \n",
    "compare sum and target  \n",
    "remember to record the smallest distance"
   ]
  },
  {
   "cell_type": "code",
   "execution_count": 1,
   "metadata": {
    "collapsed": true
   },
   "outputs": [],
   "source": [
    "class Solution(object):\n",
    "    def threeSumClosest(self, nums, target):\n",
    "        \"\"\"\n",
    "        :type nums: List[int]\n",
    "        :type target: int\n",
    "        :rtype: int\n",
    "        \"\"\"\n",
    "        nums.sort()\n",
    "        mindist = sum(nums[:3])   # initial value\n",
    "        for i in range(len(nums)-2):\n",
    "            if i > 0 and nums[i] == nums[i-1]: continue  # pass duplicates\n",
    "            l,r = i+1, len(nums)-1  \n",
    "            while l < r:\n",
    "                s = nums[i] + nums[l] + nums[r]\n",
    "                # first if: determine distance EVERYTIME we move a pointer\n",
    "                if abs(s - target) < abs(mindist - target):  # record the smallest distance\n",
    "                    mindist = s\n",
    "                # second if: determine how to move pointer\n",
    "                if s - target > 0:  # dist is too large\n",
    "                    r -= 1\n",
    "                elif s - target < 0:  # dist is too small\n",
    "                    l += 1\n",
    "                else:\n",
    "                    return target  \n",
    "        return mindist"
   ]
  },
  {
   "cell_type": "markdown",
   "metadata": {},
   "source": [
    "### 2. 36 - search insert position\n",
    "Given a sorted array and a target value, return the index if the target is found. If not, return the index where it would be if it were inserted in order.  \n",
    "**idea** loop through the array"
   ]
  },
  {
   "cell_type": "code",
   "execution_count": 2,
   "metadata": {
    "collapsed": true
   },
   "outputs": [],
   "source": [
    "class Solution(object):\n",
    "    def searchInsert(self, nums, target):\n",
    "        \"\"\"\n",
    "        :type nums: List[int]\n",
    "        :type target: int\n",
    "        :rtype: int\n",
    "        \"\"\"\n",
    "        if nums[0] >= target: return 0\n",
    "        if nums[len(nums)-1] < target: return len(nums)\n",
    "        for i in range(len(nums)-1):\n",
    "            if nums[i] < target and nums[i+1] >= target:\n",
    "                return i+1"
   ]
  },
  {
   "cell_type": "markdown",
   "metadata": {},
   "source": [
    "## 3. 5 - longest palindromic substring\n",
    "Given a string s, find the longest palindromic substring in s  \n",
    "**idea** odd/even case  \n",
    "from middle to end, expand the substring if head == tail  \n",
    "loop through middle pointer  \n",
    "update max length of the substring"
   ]
  },
  {
   "cell_type": "code",
   "execution_count": 3,
   "metadata": {
    "collapsed": true
   },
   "outputs": [],
   "source": [
    "class Solution(object):\n",
    "    def longestPalindrome(self, s):\n",
    "        \"\"\"\n",
    "        :type s: str\n",
    "        :rtype: str\n",
    "        \"\"\"\n",
    "        maxstr = \"\"\n",
    "        for i in range(len(s)):\n",
    "            # odd case\n",
    "            l,r = i-1, i+1\n",
    "            while l >= 0 and r < len(s) and s[l] == s[r]:\n",
    "                l -= 1; r += 1\n",
    "            if r-l > len(maxstr):\n",
    "                maxstr = s[l+1:r]  # ignore index out of range\n",
    "            \n",
    "            # even case\n",
    "            l,r = i, i+1\n",
    "            while l >= 0 and r < len(s) and s[l] == s[r]:\n",
    "                l -= 1; r += 1\n",
    "            if r-l > len(maxstr):\n",
    "                maxstr = s[l+1:r]\n",
    "        \n",
    "        return maxstr"
   ]
  },
  {
   "cell_type": "markdown",
   "metadata": {},
   "source": [
    "### 4. 53 - maximum subarray\n",
    "find the contiguous subarray (containing at least one number) which has the largest sum and return its sum  \n",
    "**idea** if you already knew the longest palindromic substring ending with location i (tmp), the longest palindromic ending with i+1 will be s[i+1] or maxstr + s[i+1]."
   ]
  },
  {
   "cell_type": "code",
   "execution_count": 4,
   "metadata": {
    "collapsed": true
   },
   "outputs": [],
   "source": [
    "class Solution(object):\n",
    "    def maxSubArray(self, nums):\n",
    "        \"\"\"\n",
    "        :type nums: List[int]\n",
    "        :rtype: int\n",
    "        \"\"\"\n",
    "        maxsum = tmp = nums[0]\n",
    "        for i in range(1,len(nums)):\n",
    "            tmp = max(nums[i], tmp+nums[i])\n",
    "            maxsum = max(maxsum, tmp)\n",
    "        return maxsum"
   ]
  },
  {
   "cell_type": "markdown",
   "metadata": {},
   "source": [
    "## 5. 33 - search in rotated sorted array\n",
    "Suppose an array sorted in ascending order is rotated at some pivot unknown to you beforehand.(i.e., [0,1,2,4,5,6,7] might become [4,5,6,7,0,1,2]).  \n",
    "You are given a target value to search. If found in the array return its index, otherwise return -1.  \n",
    "time complexity: O(logn)  \n",
    "** idea ** binary search  \n",
    "there is only one subarray in left and right part is in order  \n",
    "1.find which one is in order  \n",
    "2.determine whether the value is in this part  \n",
    "3.everytime we move the pointer, begin a new loop and re-compute the mid  \n",
    "4.return mid if nums[mid] == target"
   ]
  },
  {
   "cell_type": "code",
   "execution_count": 5,
   "metadata": {
    "collapsed": true
   },
   "outputs": [],
   "source": [
    "class Solution:\n",
    "    def search(self, nums, target):\n",
    "        \"\"\"\n",
    "        :type nums: List[int]\n",
    "        :type target: int\n",
    "        :rtype: int\n",
    "        \"\"\"\n",
    "\n",
    "        l, r = 0, len(nums)-1\n",
    "        \n",
    "        while l <= r:\n",
    "            mid = (l+r) // 2\n",
    "            \n",
    "            if nums[mid] == target:\n",
    "                return mid\n",
    "            \n",
    "            if nums[l] <= nums[mid]:\n",
    "                if nums[l] <= target <= nums[mid]:\n",
    "                    r = mid - 1\n",
    "                else:\n",
    "                    l = mid + 1\n",
    "            else:\n",
    "                if nums[mid] <= target <= nums[r]:\n",
    "                    l = mid + 1\n",
    "                else:\n",
    "                    r = mid - 1\n",
    "                    \n",
    "        return -1"
   ]
  }
 ],
 "metadata": {
  "kernelspec": {
   "display_name": "Python 2",
   "language": "python",
   "name": "python2"
  },
  "language_info": {
   "codemirror_mode": {
    "name": "ipython",
    "version": 2
   },
   "file_extension": ".py",
   "mimetype": "text/x-python",
   "name": "python",
   "nbconvert_exporter": "python",
   "pygments_lexer": "ipython2",
   "version": "2.7.14"
  }
 },
 "nbformat": 4,
 "nbformat_minor": 2
}
