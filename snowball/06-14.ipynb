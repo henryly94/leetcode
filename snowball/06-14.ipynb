{
 "cells": [
  {
   "cell_type": "markdown",
   "metadata": {},
   "source": [
    "## 1. 34 - search for a range\n",
    "Given an array of integers nums sorted in ascending order, find the starting and ending position of a given target value. O(logn)  \n",
    "**idea** binary search **DUPLICATES** when mid = target, find all the targets from middle to end"
   ]
  },
  {
   "cell_type": "code",
   "execution_count": 1,
   "metadata": {
    "collapsed": true
   },
   "outputs": [],
   "source": [
    "class Solution:\n",
    "    def searchRange(self, nums, target):\n",
    "        \"\"\"\n",
    "        :type nums: List[int]\n",
    "        :type target: int\n",
    "        :rtype: List[int]\n",
    "        \"\"\"\n",
    "        l,r = 0, len(nums)-1\n",
    "        while l <= r:\n",
    "            mid = (l+r) // 2\n",
    "            if nums[mid] > target:\n",
    "                r = mid - 1\n",
    "            elif nums[mid] < target:\n",
    "                l = mid + 1\n",
    "            else:\n",
    "                a = b = mid\n",
    "                while a >= 0 and nums[a] == target:\n",
    "                    a -= 1\n",
    "                while b < len(nums) and nums[b] == target:\n",
    "                    b += 1\n",
    "                return [a+1,b-1]\n",
    "        return [-1,-1]"
   ]
  },
  {
   "cell_type": "markdown",
   "metadata": {},
   "source": [
    "## 2. 36 - valid sudoku\n",
    "数独  \n",
    "check points in row, col, 3*3 square if they are not '.'"
   ]
  },
  {
   "cell_type": "code",
   "execution_count": 3,
   "metadata": {
    "collapsed": true
   },
   "outputs": [],
   "source": [
    "class Solution:\n",
    "    def isValidSudoku(self, board):\n",
    "        \"\"\"\n",
    "        :type board: List[List[str]]\n",
    "        :rtype: bool\n",
    "        \"\"\"\n",
    "        \n",
    "        for row in board:\n",
    "            l = [x for x in row if x != '.']\n",
    "            if len(set(l)) != len(l):\n",
    "                return False\n",
    "        \n",
    "        for col in zip(*board):\n",
    "            c = [x for x in col if x != '.']\n",
    "            if len(set(c)) != len(c):\n",
    "                return False\n",
    "        \n",
    "        for i in [0,3,6]:  #important points\n",
    "            for j in [0,3,6]:\n",
    "                s = [board[x][y] for x in range(i,i+3) for y in range(j,j+3) if board[x][y] != '.']\n",
    "                if len(set(s)) != len(s):\n",
    "                    return False\n",
    "        \n",
    "        return True"
   ]
  },
  {
   "cell_type": "markdown",
   "metadata": {},
   "source": [
    "## 3. 46 - permutations\n",
    "Given a collection of distinct integers, return all possible permutations.  \n",
    "**idea** dfs  \n",
    "loop through all the numbers  \n",
    "add that num to path  \n",
    "apply dfs to the rest points until nums is empty"
   ]
  },
  {
   "cell_type": "code",
   "execution_count": 2,
   "metadata": {
    "collapsed": true
   },
   "outputs": [],
   "source": [
    "class Solution(object):\n",
    "    def permute(self, nums):\n",
    "        \"\"\"\n",
    "        :type nums: List[int]\n",
    "        :rtype: List[List[int]]\n",
    "        \"\"\"\n",
    "        res = []\n",
    "        self.dfs(nums,[],res)\n",
    "        return res\n",
    "        \n",
    "    def dfs(self,nums,path,res):\n",
    "        if not nums:\n",
    "            res.append(path)\n",
    "        for i in range(len(nums)):\n",
    "            self.dfs(nums[:i] + nums[i+1:], path+[nums[i]], res)"
   ]
  },
  {
   "cell_type": "markdown",
   "metadata": {},
   "source": [
    "## 4. 47 - permutation II\n",
    "Given a collection of numbers that **might contain duplicates**, return all possible unique permutations.  \n",
    "**idea** dfs  \n",
    "add a dict to deal with duplicates"
   ]
  },
  {
   "cell_type": "code",
   "execution_count": 4,
   "metadata": {
    "collapsed": true
   },
   "outputs": [],
   "source": [
    "class Solution(object):\n",
    "    def permuteUnique(self, nums):\n",
    "        \"\"\"\n",
    "        :type nums: List[int]\n",
    "        :rtype: List[List[int]]\n",
    "        \"\"\"\n",
    "        res = []\n",
    "        self.dfs(nums,[],{},res)\n",
    "        return res\n",
    "        \n",
    "    def dfs(self,nums,path,dic,res):\n",
    "        if not nums and tuple(path) not in dic:\n",
    "            res.append(path)\n",
    "            dic[tuple(path)] = 1\n",
    "        for i in range(len(nums)):\n",
    "            self.dfs(nums[:i]+nums[i+1:], path+[nums[i]], dic, res)"
   ]
  },
  {
   "cell_type": "markdown",
   "metadata": {},
   "source": [
    "### 5. 66 - plus one  \n",
    "Given a non-empty **array** of digits representing a non-negative integer, plus one to the integer.  \n",
    "\n",
    "if the last digit = 9, the number before it should add 1."
   ]
  },
  {
   "cell_type": "code",
   "execution_count": 6,
   "metadata": {
    "collapsed": true
   },
   "outputs": [],
   "source": [
    "class Solution(object):\n",
    "    def plusOne(self, digits):\n",
    "        \"\"\"\n",
    "        :type digits: List[int]\n",
    "        :rtype: List[int]\n",
    "        \"\"\"\n",
    "        n = len(digits) - 1\n",
    "        \n",
    "        if digits[n] != 9:\n",
    "            digits[n] += 1\n",
    "            return digits\n",
    "        \n",
    "        # equals to re-use plusOne function\n",
    "        while n >= 0 and digits[n] == 9:\n",
    "            digits[n] = 0\n",
    "            n -= 1\n",
    "        \n",
    "        # equals to 'if not digits: digits = [1]\n",
    "        if n == -1:\n",
    "            return [1] + digits\n",
    "        else:\n",
    "            digits[n] += 1\n",
    "        \n",
    "        return digits"
   ]
  },
  {
   "cell_type": "code",
   "execution_count": 7,
   "metadata": {
    "collapsed": true
   },
   "outputs": [],
   "source": [
    "class Solution(object):\n",
    "    def plusOne(self, digits):\n",
    "        \"\"\"\n",
    "        :type digits: List[int]\n",
    "        :rtype: List[int]\n",
    "        \"\"\"\n",
    "        if not digits: digits = [1]\n",
    "        elif digits[-1] == 9:\n",
    "            return self.plusOne(digits[:-1]) + [0]\n",
    "        else:\n",
    "            digits[-1] += 1\n",
    "        return digits"
   ]
  }
 ],
 "metadata": {
  "kernelspec": {
   "display_name": "Python 2",
   "language": "python",
   "name": "python2"
  },
  "language_info": {
   "codemirror_mode": {
    "name": "ipython",
    "version": 2
   },
   "file_extension": ".py",
   "mimetype": "text/x-python",
   "name": "python",
   "nbconvert_exporter": "python",
   "pygments_lexer": "ipython2",
   "version": "2.7.14"
  }
 },
 "nbformat": 4,
 "nbformat_minor": 2
}
