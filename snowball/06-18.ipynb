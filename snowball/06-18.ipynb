{
 "cells": [
  {
   "cell_type": "markdown",
   "metadata": {},
   "source": [
    "## 1. 49 - group anagrams\n",
    "Given an array of strings, group anagrams together.  \n",
    "Input: [\"eat\", \"tea\", \"tan\", \"ate\", \"nat\", \"bat\"],  \n",
    "Output:  \n",
    "[ [\"ate\",\"eat\",\"tea\"],  \n",
    "  [\"nat\",\"tan\"],  \n",
    "  [\"bat\"] ]  \n",
    "  \n",
    "**idea**   \n",
    "use a dict to store groups, where keys = sorted(s)  \n",
    "dict keys must be tuple, not list"
   ]
  },
  {
   "cell_type": "code",
   "execution_count": 1,
   "metadata": {
    "collapsed": true
   },
   "outputs": [],
   "source": [
    "class Solution(object):\n",
    "    def groupAnagrams(self, strs):\n",
    "        \"\"\"\n",
    "        :type strs: List[str]\n",
    "        :rtype: List[List[str]]\n",
    "        \"\"\"\n",
    "        dic = {}\n",
    "        for s in strs:\n",
    "            # if tuple(sorted(s)) not in dic: dic[tuple(sorted(s)] = [s]\n",
    "            dic[tuple(sorted(s))] = dic.get(tuple(sorted(s)),[]) + [s]\n",
    "        return dic.values()"
   ]
  },
  {
   "cell_type": "markdown",
   "metadata": {},
   "source": [
    "## 2. 50 - pow(x,n)\n",
    "Implement pow(x, n), which calculates x raised to the power n ($x^n$).  \n",
    "\n",
    "**idea**  binary search & hash table to memory pow(x,k)  \n",
    "1. find the nearest $2^k$ smaller than n  \n",
    "2. define a helper() to find k, using n >>= 1  \n",
    "3. divide n into $2^k$ and $n-2^k$, until the numbers are 0 or 1\n",
    "4. use a dict to memory pow(x,k) that we already calculated\n",
    "5. define a pow() to do myPow(), and insert the dict into myPow() so that the dict is a global variable\n",
    "\n",
    "watch out negatives"
   ]
  },
  {
   "cell_type": "code",
   "execution_count": 2,
   "metadata": {
    "collapsed": true
   },
   "outputs": [],
   "source": [
    "class Solution(object):\n",
    "    def myPow(self, x, n):\n",
    "        self.d = {}\n",
    "        return self.Pow(x, n)\n",
    "    \n",
    "    def Pow(self, x, n):\n",
    "        \"\"\"\n",
    "        :type x: float\n",
    "        :type n: int\n",
    "        :rtype: float\n",
    "        \"\"\"\n",
    "        nn = abs(n)\n",
    "        if nn in self.d:\n",
    "            return self.d[nn]\n",
    "        res = 1   \n",
    "        if nn == 0:\n",
    "            res = 1\n",
    "        elif nn == 1:\n",
    "            res = x\n",
    "        else:\n",
    "            k = self.helper(nn-1)  # suit 2^k and others\n",
    "            res = self.Pow(x, 2**k) * self.Pow(x, nn-2**k)\n",
    "        self.d[nn] = res\n",
    "        if n >= 0:  \n",
    "            return res\n",
    "        else:\n",
    "            return 1/res\n",
    "             \n",
    "    def helper(self, n):\n",
    "        cnt = 0\n",
    "        while n > 0:\n",
    "            n >>= 1  # delete last digit in binary\n",
    "            cnt += 1\n",
    "        return cnt - 1"
   ]
  },
  {
   "cell_type": "markdown",
   "metadata": {},
   "source": [
    "## 3. 56 - merge intervals\n",
    "Given a collection of intervals, merge all overlapping intervals.\n",
    "\n",
    "**idea** memorize start and end points for now  \n",
    "always add valid intervals to output  \n",
    "if overlapped, change start and end  \n",
    "if not, add it to output"
   ]
  },
  {
   "cell_type": "code",
   "execution_count": 3,
   "metadata": {
    "collapsed": true
   },
   "outputs": [],
   "source": [
    "# Definition for an interval.\n",
    "# class Interval(object):\n",
    "#     def __init__(self, s=0, e=0):\n",
    "#         self.start = s\n",
    "#         self.end = e\n",
    "\n",
    "class Solution(object):\n",
    "    def merge(self, intervals):\n",
    "        \"\"\"\n",
    "        :type intervals: List[Interval]\n",
    "        :rtype: List[Interval]\n",
    "        \"\"\"\n",
    "        if not intervals: return []\n",
    "        \n",
    "        # loop through sorted intervals\n",
    "        # key = lambda x:x.start\n",
    "        sorted_intervals = sorted(intervals, key = lambda x:x.start)\n",
    "        # use s and e to store start and end points for now\n",
    "        s, e, res = sorted_intervals[0].start, sorted_intervals[0].end, []\n",
    "        for i in range(1, len(sorted_intervals)):\n",
    "            if sorted_intervals[i].start <= e:\n",
    "                e = max(sorted_intervals[i].end, e)\n",
    "            else:\n",
    "                res.append([s,e])\n",
    "                s, e = sorted_intervals[i].start, sorted_intervals[i].end\n",
    "        res.append([s,e])\n",
    "        return res"
   ]
  },
  {
   "cell_type": "markdown",
   "metadata": {},
   "source": [
    "**idea** first add interval to output, whether it is valid or not  \n",
    "if overlapped, change res[-1]  \n",
    "if not, add interval, waiting to be tested next step"
   ]
  },
  {
   "cell_type": "code",
   "execution_count": 4,
   "metadata": {
    "collapsed": true
   },
   "outputs": [],
   "source": [
    "# Definition for an interval.\n",
    "# class Interval(object):\n",
    "#     def __init__(self, s=0, e=0):\n",
    "#         self.start = s\n",
    "#         self.end = e\n",
    "\n",
    "class Solution(object):\n",
    "    def merge(self, intervals):\n",
    "        \"\"\"\n",
    "        :type intervals: List[Interval]\n",
    "        :rtype: List[Interval]\n",
    "        \"\"\"\n",
    "        if not intervals: return []\n",
    "        sorted_intervals = sorted(intervals, key = lambda x:x.start)\n",
    "        res = [sorted_intervals[0]]\n",
    "        for interval in sorted_intervals:\n",
    "            if interval.start <= res[-1].end:\n",
    "                res[-1].end = max(interval.end, res[-1].end)\n",
    "            else:\n",
    "                res.append(interval)\n",
    "        return res"
   ]
  },
  {
   "cell_type": "markdown",
   "metadata": {},
   "source": [
    "## 4. 54 - spiral matrix \n",
    "Given a matrix of m x n elements (m rows, n columns), return all elements of the matrix in spiral order.  \n",
    "Input:  \n",
    "[\n",
    " [ 1, 2, 3 ],  \n",
    " [ 4, 5, 6 ],  \n",
    " [ 7, 8, 9 ]\n",
    "]  \n",
    "Output: [1,2,3,6,9,8,7,4,5]\n",
    "\n",
    "**idea** use boundary condition to turn direction"
   ]
  },
  {
   "cell_type": "code",
   "execution_count": 5,
   "metadata": {
    "collapsed": true
   },
   "outputs": [],
   "source": [
    "class Solution(object):\n",
    "    def spiralOrder(self, matrix):\n",
    "        \"\"\"\n",
    "        :type matrix: List[List[int]]\n",
    "        :rtype: List[int]\n",
    "        \"\"\"\n",
    "        # j: row; i: col\n",
    "        if not matrix: return []\n",
    "        res, i, j = [], 0, 0\n",
    "        m, n = len(matrix), len(matrix[0])\n",
    "        while len(res) < m * n:\n",
    "            while i < n and matrix[j][i] not in res:\n",
    "                res.append(matrix[j][i])\n",
    "                i += 1\n",
    "            i -= 1; j += 1\n",
    "            while j < m and matrix[j][i] not in res:\n",
    "                res.append(matrix[j][i])\n",
    "                j += 1\n",
    "            j -= 1; i -= 1\n",
    "            while i >= 0 and matrix[j][i] not in res:\n",
    "                res.append(matrix[j][i])\n",
    "                i -= 1\n",
    "            i += 1; j -= 1\n",
    "            while j >= 0 and matrix[j][i] not in res:\n",
    "                res.append(matrix[j][i])\n",
    "                j -= 1\n",
    "            j += 1; i += 1\n",
    "        return res"
   ]
  },
  {
   "cell_type": "markdown",
   "metadata": {},
   "source": [
    "## 5. 55 - jump game\n",
    "Given an array of non-negative integers, you are initially positioned at the first index of the array.  \n",
    "Each element in the array represents your maximum jump length at that position.  \n",
    "Determine if you are able to reach the last index.\n",
    "\n",
    "**idea** store the maximum position you can reach"
   ]
  },
  {
   "cell_type": "code",
   "execution_count": 6,
   "metadata": {
    "collapsed": true
   },
   "outputs": [],
   "source": [
    "class Solution(object):\n",
    "    def canJump(self, nums):\n",
    "        \"\"\"\n",
    "        :type nums: List[int]\n",
    "        :rtype: bool\n",
    "        \"\"\"\n",
    "        i, end = 0, nums[0]\n",
    "        while i < len(nums) and i <= end:\n",
    "            end = max(end,nums[i]+i)\n",
    "            i += 1\n",
    "            if end >= len(nums) - 1: return True\n",
    "        return False"
   ]
  }
 ],
 "metadata": {
  "kernelspec": {
   "display_name": "Python 2",
   "language": "python",
   "name": "python2"
  },
  "language_info": {
   "codemirror_mode": {
    "name": "ipython",
    "version": 2
   },
   "file_extension": ".py",
   "mimetype": "text/x-python",
   "name": "python",
   "nbconvert_exporter": "python",
   "pygments_lexer": "ipython2",
   "version": "2.7.14"
  }
 },
 "nbformat": 4,
 "nbformat_minor": 2
}
