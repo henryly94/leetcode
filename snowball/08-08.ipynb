{
 "cells": [
  {
   "cell_type": "markdown",
   "metadata": {},
   "source": [
    "### 1. 671 - Second Minimum Node In a Binary Tree\n",
    "Given a non-empty special binary tree consisting of nodes with the non-negative value, where each node in this tree has exactly two or zero sub-node. If the node has two sub-nodes, then this node's value is the smaller value among its two sub-nodes.  \n",
    "Given such a binary tree, you need to output the second minimum value in the set made of all the nodes' value in the whole tree.  \n",
    "If no such second minimum value exists, output -1 instead.\n",
    "\n",
    "**idea** recursive, traversal the WHOLE tree, keep updating second minimum value  \n",
    "This special tree is telling us that the minimum value must be the root"
   ]
  },
  {
   "cell_type": "code",
   "execution_count": 1,
   "metadata": {
    "collapsed": true
   },
   "outputs": [],
   "source": [
    "class Solution(object):\n",
    "    def findSecondMinimumValue(self, root):\n",
    "        \"\"\"\n",
    "        :type root: TreeNode\n",
    "        :rtype: int\n",
    "        \"\"\"\n",
    "        # res is a list, otherwise it won't be passed into inner function find()\n",
    "        res = [float('inf')]\n",
    "        def find(node):\n",
    "            if not node: return \n",
    "            ###\n",
    "            if root.val < node.val < res[0]:\n",
    "            ###\n",
    "                res[0] = node.val\n",
    "            find(node.left)\n",
    "            find(node.right)\n",
    "        find(root)\n",
    "        # if no such second minimum value exists\n",
    "        return -1 if res[0] == float('inf') else res[0]"
   ]
  },
  {
   "cell_type": "markdown",
   "metadata": {},
   "source": [
    "## 2. 230 - Kth Smallest Element in a BST\n",
    "Given a binary search tree, write a function kthSmallest to find the kth smallest element in it.\n",
    "\n",
    "**idea** recursive, traversal the whole tree  \n",
    "keep k element in ret, return the maximum one in ret"
   ]
  },
  {
   "cell_type": "code",
   "execution_count": 2,
   "metadata": {
    "collapsed": true
   },
   "outputs": [],
   "source": [
    "class Solution(object):\n",
    "    def kthSmallest(self, root, k):\n",
    "        \"\"\"\n",
    "        :type root: TreeNode\n",
    "        :type k: int\n",
    "        :rtype: int\n",
    "        \"\"\"\n",
    "        ret = []\n",
    "        maxi = [root.val]\n",
    "        def find(node):\n",
    "            if not node: return \n",
    "            if len(ret) < k:\n",
    "                ret.append(node.val)\n",
    "                if node.val > maxi[0]:\n",
    "                    maxi[0] = node.val\n",
    "            else:\n",
    "                if node.val < maxi[0]:\n",
    "                    ret.remove(maxi[0])\n",
    "                    ret.append(node.val)\n",
    "                    maxi[0] = max(ret)\n",
    "            find(node.left)\n",
    "            find(node.right)\n",
    "        find(root)\n",
    "        return maxi[0]"
   ]
  },
  {
   "cell_type": "markdown",
   "metadata": {},
   "source": [
    "**idea** in-order traversal  \n",
    "since all the elements in left subtree is smaller than root"
   ]
  },
  {
   "cell_type": "code",
   "execution_count": 3,
   "metadata": {
    "collapsed": true
   },
   "outputs": [],
   "source": [
    "class Solution(object):\n",
    "    def kthSmallest(self, root, k):\n",
    "        \"\"\"\n",
    "        :type root: TreeNode\n",
    "        :type k: int\n",
    "        :rtype: int\n",
    "        \"\"\"\n",
    "        stack = []\n",
    "        # while root: when initial, stack = []\n",
    "        # while stack: when current node doesn't have kids\n",
    "        while root or stack:\n",
    "            while root:\n",
    "                stack.append(root)\n",
    "                root = root.left\n",
    "            root = stack.pop()\n",
    "            k -= 1\n",
    "            if k == 0: return root.val\n",
    "            root = root.right"
   ]
  },
  {
   "cell_type": "markdown",
   "metadata": {},
   "source": [
    "### 3. 231 - Power of Two\n",
    "Given an integer, write a function to determine if it is a power of two.\n",
    "\n",
    "**idea** divide by 2 every time"
   ]
  },
  {
   "cell_type": "code",
   "execution_count": 6,
   "metadata": {
    "collapsed": true
   },
   "outputs": [],
   "source": [
    "class Solution(object):\n",
    "    def isPowerOfTwo(self, n):\n",
    "        \"\"\"\n",
    "        :type n: int\n",
    "        :rtype: bool\n",
    "        \"\"\"\n",
    "        if n == 1: return True\n",
    "        if n < 1: return False\n",
    "        return self.isPowerOfTwo(n/2.0)"
   ]
  },
  {
   "cell_type": "markdown",
   "metadata": {},
   "source": [
    "check if n mod 2 == 0  \n",
    "divide by 2 until it <= 1, avoid calling function so many times"
   ]
  },
  {
   "cell_type": "code",
   "execution_count": 5,
   "metadata": {},
   "outputs": [],
   "source": [
    "class Solution(object):\n",
    "    def isPowerOfTwo(self, n):\n",
    "        \"\"\"\n",
    "        :type n: int\n",
    "        :rtype: bool\n",
    "        \"\"\"\n",
    "        if n < 1: return False\n",
    "        while n % 2 == 0:\n",
    "            n = n/2.0\n",
    "        if n == 1: return True\n",
    "        else: return False"
   ]
  }
 ],
 "metadata": {
  "kernelspec": {
   "display_name": "Python 2",
   "language": "python",
   "name": "python2"
  },
  "language_info": {
   "codemirror_mode": {
    "name": "ipython",
    "version": 2
   },
   "file_extension": ".py",
   "mimetype": "text/x-python",
   "name": "python",
   "nbconvert_exporter": "python",
   "pygments_lexer": "ipython2",
   "version": "2.7.14"
  }
 },
 "nbformat": 4,
 "nbformat_minor": 2
}
