{
 "cells": [
  {
   "cell_type": "markdown",
   "metadata": {},
   "source": [
    "## 1. 105 - construct binary tree from preorder and inorder traversal\n",
    "\n",
    "**idea** recursion  \n",
    "preorder always starts with root, pop it out    \n",
    "root split inorder into left and right subtree  \n",
    "stop condition: inorder is None"
   ]
  },
  {
   "cell_type": "code",
   "execution_count": 6,
   "metadata": {
    "collapsed": true
   },
   "outputs": [],
   "source": [
    "class Solution(object):\n",
    "    def buildTree(self, preorder, inorder):\n",
    "        \"\"\"\n",
    "        :type preorder: List[int]\n",
    "        :type inorder: List[int]\n",
    "        :rtype: TreeNode\n",
    "        \"\"\"\n",
    "        if inorder:  # stop condition\n",
    "            ind = inorder.index(preorder.pop(0))  # first element is the root of current subtree\n",
    "            root = TreeNode(inorder[ind])\n",
    "            root.left = self.buildTree(preorder, inorder[:ind])\n",
    "            root.right = self.buildTree(preorder, inorder[ind+1:])\n",
    "            return root"
   ]
  },
  {
   "cell_type": "markdown",
   "metadata": {},
   "source": [
    "## 2. 106 - construct binary tree from inorder and postorder traversal\n",
    "\n",
    "**idea** recursion  \n",
    "postorder always ends with root, pop it out"
   ]
  },
  {
   "cell_type": "code",
   "execution_count": 8,
   "metadata": {
    "collapsed": true
   },
   "outputs": [],
   "source": [
    "class Solution(object):\n",
    "    def buildTree(self, inorder, postorder):\n",
    "        \"\"\"\n",
    "        :type inorder: List[int]\n",
    "        :type postorder: List[int]\n",
    "        :rtype: TreeNode\n",
    "        \"\"\"\n",
    "        if inorder:\n",
    "            ind = inorder.index(postorder.pop(-1))\n",
    "            root = TreeNode(inorder[ind])\n",
    "            root.right = self.buildTree(inorder[ind+1:], postorder)\n",
    "            root.left = self.buildTree(inorder[:ind], postorder)\n",
    "            return root"
   ]
  },
  {
   "cell_type": "markdown",
   "metadata": {},
   "source": [
    "## 3. 114 - flatten binary tree to linked list\n",
    "\n",
    "**idea** return new tail  \n",
    "first handle left part, then right part  \n",
    "move all the parts to the right"
   ]
  },
  {
   "cell_type": "code",
   "execution_count": 9,
   "metadata": {
    "collapsed": true
   },
   "outputs": [],
   "source": [
    "class Solution(object):\n",
    "    def flatten(self, root):\n",
    "        \"\"\"\n",
    "        :type root: TreeNode\n",
    "        :rtype: void Do not return anything, modify root in-place instead.\n",
    "        \"\"\"\n",
    "        self.helper(root)\n",
    "    \n",
    "    def helper(self, root):\n",
    "        if not root: return\n",
    "        if not root.left and not root.right:\n",
    "            return root\n",
    "        if not root.left:\n",
    "            return self.helper(root.right)\n",
    "        if not root.right:\n",
    "            root.right = root.left\n",
    "            root.left = None\n",
    "            return self.helper(root.right)\n",
    "        else:\n",
    "            mid = self.helper(root.left)\n",
    "            mid.right = root.right\n",
    "            root.right = root.left\n",
    "            root.left = None\n",
    "            return self.helper(mid.right)"
   ]
  }
 ],
 "metadata": {
  "kernelspec": {
   "display_name": "Python 2",
   "language": "python",
   "name": "python2"
  },
  "language_info": {
   "codemirror_mode": {
    "name": "ipython",
    "version": 2
   },
   "file_extension": ".py",
   "mimetype": "text/x-python",
   "name": "python",
   "nbconvert_exporter": "python",
   "pygments_lexer": "ipython2",
   "version": "2.7.14"
  }
 },
 "nbformat": 4,
 "nbformat_minor": 2
}
