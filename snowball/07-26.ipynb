{
 "cells": [
  {
   "cell_type": "markdown",
   "metadata": {},
   "source": [
    "### 1. 703 - Kth Largest Element in a Stream\n",
    "Your KthLargest class will have a constructor which accepts an integer k and an integer array nums, which contains initial elements from the stream. For each call to the method KthLargest.add, return the element representing the kth largest element in the stream.\n",
    "\n",
    "**idea** heap  \n",
    "heapq.heapify: build a heap\n",
    "heapq.heappop: pop the last element  \n",
    "heapq.heappush: add a new element  \n",
    "heapq.heapreplace: replace the empty space with value"
   ]
  },
  {
   "cell_type": "code",
   "execution_count": 1,
   "metadata": {
    "collapsed": true
   },
   "outputs": [],
   "source": [
    "class KthLargest(object):\n",
    "\n",
    "    def __init__(self, k, nums):\n",
    "        \"\"\"\n",
    "        :type k: int\n",
    "        :type nums: List[int]\n",
    "        \"\"\"\n",
    "        self.k = k\n",
    "        self.pool = nums\n",
    "        self.size = len(self.pool)\n",
    "        heapq.heapify(self.pool)\n",
    "        while self.size > k:\n",
    "            heapq.heappop(self.pool)\n",
    "            self.size -= 1\n",
    "        \n",
    "\n",
    "    def add(self, val):\n",
    "        \"\"\"\n",
    "        :type val: int\n",
    "        :rtype: int\n",
    "        \"\"\"\n",
    "        if self.size < self.k:\n",
    "            heapq.heappush(self.pool, val)\n",
    "            self.size += 1\n",
    "        elif val > self.pool[0]:\n",
    "            heapq.heapreplace(self.pool, val)\n",
    "        return self.pool[0]  \n",
    "\n",
    "# Your KthLargest object will be instantiated and called as such:\n",
    "# obj = KthLargest(k, nums)\n",
    "# param_1 = obj.add(val)"
   ]
  },
  {
   "cell_type": "markdown",
   "metadata": {},
   "source": [
    "## 2. 215 - Kth Largest Element in an Array\n",
    "\n",
    "**idea** heap, pop until there is only k size left"
   ]
  },
  {
   "cell_type": "code",
   "execution_count": 2,
   "metadata": {
    "collapsed": true
   },
   "outputs": [],
   "source": [
    "class Solution(object):\n",
    "    def findKthLargest(self, nums, k):\n",
    "        \"\"\"\n",
    "        :type nums: List[int]\n",
    "        :type k: int\n",
    "        :rtype: int\n",
    "        \"\"\"\n",
    "        pool, size = nums, len(nums)\n",
    "        heapq.heapify(pool)\n",
    "        while size > k:\n",
    "            heapq.heappop(pool)\n",
    "            size -= 1\n",
    "        return pool[0]"
   ]
  },
  {
   "cell_type": "markdown",
   "metadata": {},
   "source": [
    "### 3. 219 - Contains Duplicate II\n",
    "**position can differ at most k**  \n",
    "Given an array of integers and an integer k, find out whether there are two distinct indices i and j in the array such that nums[i] = nums[j] and the absolute difference between i and j is at most k.\n",
    "\n",
    "**idea** always store the k conjacent elements in a dictionary, to see if a new num is already in the dict"
   ]
  },
  {
   "cell_type": "code",
   "execution_count": 3,
   "metadata": {
    "collapsed": true
   },
   "outputs": [],
   "source": [
    "class Solution(object):\n",
    "    def containsNearbyDuplicate(self, nums, k):\n",
    "        \"\"\"\n",
    "        :type nums: List[int]\n",
    "        :type k: int\n",
    "        :rtype: bool\n",
    "        \"\"\"\n",
    "        if k == 0: return False\n",
    "        dic, i = {}, 0\n",
    "        for num in nums[:k]:\n",
    "            if num in dic:\n",
    "                return True\n",
    "            dic[num] = 1\n",
    "        for i in range(k,len(nums)):\n",
    "            if nums[i] in dic:\n",
    "                return True\n",
    "            dic.pop(nums[i-k])\n",
    "            dic[nums[i]] = 1\n",
    "        return False"
   ]
  },
  {
   "cell_type": "markdown",
   "metadata": {},
   "source": [
    "## 4. 220 - Contains Duplicate III\n",
    "**position can differ at most k, value an differ at most t**  \n",
    "Given an array of integers, find out whether there are two distinct indices i and j in the array such that the absolute difference between nums[i] and nums[j] is at most t and the absolute difference between i and j is at most k.\n",
    "\n",
    "**idea** bucket, divide values to (t+1), there are only two cases:\n",
    "1. targets are in the same bucket\n",
    "2. targets are in the conjacent buckets, and the value differ at most t\n",
    "\n",
    "remember to only compare k conjacents numbers"
   ]
  },
  {
   "cell_type": "code",
   "execution_count": 4,
   "metadata": {
    "collapsed": true
   },
   "outputs": [],
   "source": [
    "class Solution(object):\n",
    "    def containsNearbyAlmostDuplicate(self, nums, k, t):\n",
    "        \"\"\"\n",
    "        :type nums: List[int]\n",
    "        :type k: int\n",
    "        :type t: int\n",
    "        :rtype: bool\n",
    "        \"\"\"\n",
    "        if t < 0: return False\n",
    "        dic = dict()\n",
    "        for i,num in enumerate(nums):\n",
    "            d = num / (t+1)\n",
    "            if d in dic: return True\n",
    "            if d-1 in dic and abs(num-dic[d-1]) <= t:\n",
    "                return True\n",
    "            if d+1 in dic and abs(num-dic[d+1]) <= t:\n",
    "                return True\n",
    "            dic[d] = num\n",
    "            if i >= k:\n",
    "                del dic[nums[i-k]/(t+1)]\n",
    "        return False"
   ]
  }
 ],
 "metadata": {
  "kernelspec": {
   "display_name": "Python 2",
   "language": "python",
   "name": "python2"
  },
  "language_info": {
   "codemirror_mode": {
    "name": "ipython",
    "version": 2
   },
   "file_extension": ".py",
   "mimetype": "text/x-python",
   "name": "python",
   "nbconvert_exporter": "python",
   "pygments_lexer": "ipython2",
   "version": "2.7.14"
  }
 },
 "nbformat": 4,
 "nbformat_minor": 2
}
