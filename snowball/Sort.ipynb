{
 "cells": [
  {
   "cell_type": "code",
   "execution_count": 32,
   "metadata": {},
   "outputs": [
    {
     "name": "stdout",
     "output_type": "stream",
     "text": [
      "[60 27 68 77 50 88 92 90 93 63 16 20 85 31 38 22 80 39 34 48 25 73 83 95\n",
      " 28 52 76 46 56 78 47 66 53 15 13 62 71 14  9  5 44 21 30  1 67  4 84 79\n",
      "  3 49 61 75 86 99 26 32 24 97 23 55 91  2 51 43  7 81 74 36 29 37 18 65\n",
      " 45 33 41 10  8 69 82 59 70 12 98 96 72 35 94 89 54 17 64  0  6 87 11 57\n",
      " 42 19 58 40]\n"
     ]
    }
   ],
   "source": [
    "import numpy as np\n",
    "array = np.arange(100)\n",
    "np.random.shuffle(array)\n",
    "\n",
    "print array"
   ]
  },
  {
   "cell_type": "code",
   "execution_count": 33,
   "metadata": {},
   "outputs": [
    {
     "name": "stdout",
     "output_type": "stream",
     "text": [
      "[ 0  1  2  3  4  5  6  7  8  9 10 11 12 13 14 15 16 17 18 19 20 21 22 23\n",
      " 24 25 26 27 28 29 30 31 32 33 34 35 36 37 38 39 40 41 42 43 44 45 46 47\n",
      " 48 49 50 51 52 53 54 55 56 57 58 59 60 61 62 63 64 65 66 67 68 69 70 71\n",
      " 72 73 74 75 76 77 78 79 80 81 82 83 84 85 86 87 88 89 90 91 92 93 94 95\n",
      " 96 97 98 99]\n"
     ]
    }
   ],
   "source": [
    "# Quick Sort (In-place)\n",
    "def quickSort(array):\n",
    "    def qsort(start, end):\n",
    "        global cnt\n",
    "        \n",
    "        if start >= end: return\n",
    "        l, r = start, end\n",
    "        target = array[start]\n",
    "        while l < r:\n",
    "            while l < r and array[r] >= target:\n",
    "                r -= 1\n",
    "            array[l] = array[r]\n",
    "            while l < r and array[l] <= target:\n",
    "                l += 1\n",
    "            array[r] = array[l]\n",
    "        array[r] = target\n",
    "        qsort(start, l-1)\n",
    "        qsort(l+1, end)\n",
    "    qsort(0, len(array)-1)\n",
    "    \n",
    "quickSort(array)\n",
    "print array"
   ]
  },
  {
   "cell_type": "code",
   "execution_count": 34,
   "metadata": {},
   "outputs": [
    {
     "name": "stdout",
     "output_type": "stream",
     "text": [
      "[51 25  9 65 99 18 26 70 57 86 47 13 32 60 35 74 79 84  2 75 53 83 59 41\n",
      " 28 87 40 56 63 50  3 80 92 58 93  0 45 61 77 46 39  8 11 24 38 37 30 76\n",
      " 34 69 52  1 23 14 91 64 49 42 44  5 15  6 71 95 12  4 73 33 22 21 43 88\n",
      " 66 19 89 31 10 81 20 90  7 48 72 62 94 85 97 96 54 67 68 98 17 27 82 29\n",
      " 36 55 16 78]\n"
     ]
    }
   ],
   "source": [
    "np.random.shuffle(array)\n",
    "print array"
   ]
  },
  {
   "cell_type": "code",
   "execution_count": 36,
   "metadata": {},
   "outputs": [
    {
     "name": "stdout",
     "output_type": "stream",
     "text": [
      "[0, 1, 2, 3, 4, 5, 6, 7, 8, 9, 10, 11, 12, 13, 14, 15, 16, 17, 18, 19, 20, 21, 22, 23, 24, 25, 26, 27, 28, 29, 30, 31, 32, 33, 34, 35, 36, 37, 38, 39, 40, 41, 42, 43, 44, 45, 46, 47, 48, 49, 50, 51, 52, 53, 54, 55, 56, 57, 58, 59, 60, 61, 62, 63, 64, 65, 66, 67, 68, 69, 70, 71, 72, 73, 74, 75, 76, 77, 78, 79, 80, 81, 82, 83, 84, 85, 86, 87, 88, 89, 90, 91, 92, 93, 94, 95, 96, 97, 98, 99]\n"
     ]
    }
   ],
   "source": [
    "# Merge Sort\n",
    "def mergeSort(array):\n",
    "    global cnt\n",
    "    n = len(array)\n",
    "    if n <= 1: return array\n",
    "    first, second = mergeSort(array[:n/2]), mergeSort(array[n/2:])\n",
    "    ret = []\n",
    "    i, j = 0, 0\n",
    "    while i < len(first) and j < len(second):\n",
    "        if first[i] < second[j]:\n",
    "            ret.append(first[i])\n",
    "            i += 1\n",
    "        else:\n",
    "            ret.append(second[j])\n",
    "            j += 1\n",
    "    if i == len(first):\n",
    "        ret.extend(second[j:])\n",
    "    else:\n",
    "        ret.extend(first[i:])\n",
    "    return ret\n",
    "\n",
    "print mergeSort(array)"
   ]
  },
  {
   "cell_type": "code",
   "execution_count": 37,
   "metadata": {},
   "outputs": [
    {
     "name": "stdout",
     "output_type": "stream",
     "text": [
      "[51 93 92 58 52 34 65  6 31 81 98 53 49 41 35 71 95 21 25 89 87 68 57  8\n",
      " 83 78 80 16 37 85 20 38 36 13 82 22 75 96  5 18 47 99 64 62  1 60 55 67\n",
      " 29 63 17  2 48 77 76 39 43 88 44 26 86 94 24 97 72 19 56 91 79 69 40 27\n",
      " 45 46 23 73 33 74 61 90  9 54 14 59  4 32 70 10  3  7 66 84 30 50 28 11\n",
      " 42  0 15 12]\n"
     ]
    }
   ],
   "source": [
    "np.random.shuffle(array)\n",
    "print array"
   ]
  },
  {
   "cell_type": "code",
   "execution_count": 41,
   "metadata": {},
   "outputs": [
    {
     "name": "stdout",
     "output_type": "stream",
     "text": [
      "[ 0  1  2  3  4  5  6  7  8  9 10 11 12 13 14 15 16 17 18 19 20 21 22 23\n",
      " 24 25 26 27 28 29 30 31 32 33 34 35 36 37 38 39 40 41 42 43 44 45 46 47\n",
      " 48 49 50 51 52 53 54 55 56 57 58 59 60 61 62 63 64 65 66 67 68 69 70 71\n",
      " 72 73 74 75 76 77 78 79 80 81 82 83 84 85 86 87 88 89 90 91 92 93 94 95\n",
      " 96 97 98 99]\n"
     ]
    }
   ],
   "source": [
    "# Bubble Sort\n",
    "def bubbleSort(array):\n",
    "    flag = True\n",
    "    p, n = 0, len(array)-1\n",
    "    while flag:\n",
    "        flag = False\n",
    "        for i in range(n, p, -1):\n",
    "            if array[i] < array[i-1]:\n",
    "                array[i], array[i-1] = array[i-1], array[i]\n",
    "                flag = True\n",
    "        p += 1\n",
    "bubbleSort(array)\n",
    "print array"
   ]
  },
  {
   "cell_type": "code",
   "execution_count": 42,
   "metadata": {},
   "outputs": [
    {
     "name": "stdout",
     "output_type": "stream",
     "text": [
      "[97 56 31 67 15 23 39  7 44 41 63 99 49 34  5 77 57 53  3 37  1  8 12 74\n",
      " 76 89 38 87 27 86 65 85 54 11 17 18 91  6 75 14 72 60 21 30 33 46 45 84\n",
      " 25 94 51 22 79 50 95 59 71 32 26 78 20  4 29 69 82 16 98 47 43 93 88 96\n",
      " 73 19 52 64 62  2 24 66 13 48 58 42 36 10 55 92 70 61 80 35 28 90  0  9\n",
      " 83 81 40 68]\n"
     ]
    }
   ],
   "source": [
    "np.random.shuffle(array)\n",
    "print array"
   ]
  },
  {
   "cell_type": "code",
   "execution_count": 44,
   "metadata": {},
   "outputs": [
    {
     "name": "stdout",
     "output_type": "stream",
     "text": [
      "[ 0  1  2  3  4  5  6  7  8  9 10 11 12 13 14 15 16 17 18 19 20 21 22 23\n",
      " 24 25 26 27 28 29 30 31 32 33 34 35 36 37 38 39 40 41 42 43 44 45 46 47\n",
      " 48 49 50 51 52 53 54 55 56 57 58 59 60 61 62 63 64 65 66 67 68 69 70 71\n",
      " 72 73 74 75 76 77 78 79 80 81 82 83 84 85 86 87 88 89 90 91 92 93 94 95\n",
      " 96 97 98 99]\n"
     ]
    }
   ],
   "source": [
    "# Selection Sort\n",
    "def selectionSort(array):\n",
    "    n = len(array)\n",
    "    for i in range(n):\n",
    "        minIndex = i\n",
    "        for j in range(i, n):\n",
    "            if array[j] < array[minIndex]:\n",
    "                minIndex = j\n",
    "        array[i], array[minIndex] = array[minIndex], array[i]\n",
    "    \n",
    "selectionSort(array)\n",
    "print array"
   ]
  },
  {
   "cell_type": "code",
   "execution_count": 45,
   "metadata": {},
   "outputs": [
    {
     "name": "stdout",
     "output_type": "stream",
     "text": [
      "[47 83 76 92 48 79 84 91 52 53 96 89 50 37 85 28 13 17 86 42 38 69 18 72\n",
      " 49 43 81 70 45 58 75 24 36 23 46  9 56  7 54  8 41 57 60 30 34 51  5  0\n",
      " 64 65 32 67 62 44 78 59 77 95  3 97 25 12  4 16  6 82 33 66 99 93 63 27\n",
      " 35 39  2  1 98 55 31 15 40 10 14 71 80 90 61 29 87 26 74 73 20 11 94 22\n",
      " 88 68 21 19]\n"
     ]
    }
   ],
   "source": [
    "np.random.shuffle(array)\n",
    "print array"
   ]
  },
  {
   "cell_type": "code",
   "execution_count": 50,
   "metadata": {},
   "outputs": [
    {
     "name": "stdout",
     "output_type": "stream",
     "text": [
      "[ 0  1  2  3  4  5  6  7  8  9 10 11 12 13 14 15 16 17 18 19 20 21 22 23\n",
      " 24 25 26 27 28 29 30 31 32 33 34 35 36 37 38 39 40 41 42 43 44 45 46 47\n",
      " 48 49 50 51 52 53 54 55 56 57 58 59 60 61 62 63 64 65 66 67 68 69 70 71\n",
      " 72 73 74 75 76 77 78 79 80 81 82 83 84 85 86 87 88 89 90 91 92 93 94 95\n",
      " 96 97 98 99]\n"
     ]
    }
   ],
   "source": [
    "# HeapSort\n",
    "def heapSort(array):\n",
    "    # Assuming the heap is well-organized except the root (i.e. array[start])\n",
    "    def heapify(start, end):\n",
    "        if start >= end: return\n",
    "        index = start\n",
    "        while index * 2 + 1 <= end:\n",
    "            # Find larger child\n",
    "            child = index * 2 + 1\n",
    "            if child + 1 <= end and array[child + 1] > array[child]:\n",
    "                child += 1\n",
    "            \n",
    "            # Sink down the smaller number\n",
    "            if array[child] > array[index]:\n",
    "                array[child], array[index] = array[index], array[child]\n",
    "                index = child\n",
    "            # Stop if there's no need to sink further\n",
    "            else:\n",
    "                break\n",
    "    \n",
    "    n = len(array)\n",
    "    def buildHeap():\n",
    "        # Only need to start from second last layer (one has children but no grandchildren)\n",
    "        for i in reversed(range(n/2)):\n",
    "            heapify(i, n-1)\n",
    "        \n",
    "    buildHeap()\n",
    "    for i in reversed(range(n)):\n",
    "        heapify(0, i)\n",
    "        array[0], array[i] = array[i], array[0]\n",
    "        \n",
    "heapSort(array)\n",
    "print array"
   ]
  }
 ],
 "metadata": {
  "kernelspec": {
   "display_name": "Python 2",
   "language": "python",
   "name": "python2"
  },
  "language_info": {
   "codemirror_mode": {
    "name": "ipython",
    "version": 2
   },
   "file_extension": ".py",
   "mimetype": "text/x-python",
   "name": "python",
   "nbconvert_exporter": "python",
   "pygments_lexer": "ipython2",
   "version": "2.7.14"
  }
 },
 "nbformat": 4,
 "nbformat_minor": 2
}
