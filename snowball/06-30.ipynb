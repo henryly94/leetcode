{
 "cells": [
  {
   "cell_type": "markdown",
   "metadata": {},
   "source": [
    "## 1. 95 - unique binary search trees II\n",
    "Given an integer n, generate all structurally unique BST's (binary search trees) that store values 1 ... n.\n",
    "\n",
    "**idea** recursive  \n",
    "loop through the whole list, for every value choosed to be root  \n",
    "find all the possible formation of left subtree and right subtree  \n",
    "combine all the possible cases together."
   ]
  },
  {
   "cell_type": "code",
   "execution_count": 1,
   "metadata": {
    "collapsed": true
   },
   "outputs": [],
   "source": [
    "class Solution(object):\n",
    "    def generateTrees(self, n):\n",
    "        \"\"\"\n",
    "        :type n: int\n",
    "        :rtype: List[TreeNode]\n",
    "        \"\"\"\n",
    "        if n == 0: return []\n",
    "        return self.generate(range(1, n+1))      \n",
    "        \n",
    "    def generate(self, lst):\n",
    "        if not lst: return [None]\n",
    "        res = []\n",
    "        for i, x in enumerate(lst):\n",
    "            for l in self.generate(lst[:i]):  # all possible cases in left\n",
    "                for r in self.generate(lst[i+1:]):  # combine all possible outcomes of left and right\n",
    "                    node = TreeNode(x)\n",
    "                    node.left = l\n",
    "                    node.right = r\n",
    "                    res.append(node)\n",
    "        return res"
   ]
  },
  {
   "cell_type": "markdown",
   "metadata": {},
   "source": [
    "## 2. 96 - unique binary search trees\n",
    "Given n, how many structurally unique BST's (binary search trees) that store values 1 ... n?\n",
    "\n",
    "**idea** dp  \n",
    "if use 1 as root, F(0) \\* F(n-1) since 1 is the smallest one (left\\*right)  \n",
    "if use 2 as root, F(1) \\* F(n-2)  \n",
    "so total num is F(0) \\* F(n-1) + F(1) \\* F(n-2) + ... + F(n-1) \\* F(0)  "
   ]
  },
  {
   "cell_type": "code",
   "execution_count": 2,
   "metadata": {
    "collapsed": true
   },
   "outputs": [],
   "source": [
    "class Solution(object):\n",
    "    def numTrees(self, n):\n",
    "        \"\"\"\n",
    "        :type n: int\n",
    "        :rtype: int\n",
    "        \"\"\"\n",
    "        res = [0 for i in range(n+1)]\n",
    "        res[0] = 1\n",
    "        for i in range(1, n+1):\n",
    "            for j in range(i):\n",
    "                res[i] += res[j] * res[i-j-1]\n",
    "        return res[n]     "
   ]
  },
  {
   "cell_type": "markdown",
   "metadata": {},
   "source": [
    "## 3. 98 - validate binary search tree\n",
    "Given a binary tree, determine if it is a valid binary search tree (BST).  \n",
    "Assume a BST is defined as follows:  \n",
    "The left **subtree** of a node contains only nodes with keys less than the node's key.  \n",
    "The right **subtree** of a node contains only nodes with keys greater than the node's key.  \n",
    "Both the left and right subtrees must also be binary search trees.  \n",
    "MEANS ALL the values in the left should be less than it.\n",
    "\n",
    "**idea** recursive: update minimum and maximum value in each step "
   ]
  },
  {
   "cell_type": "code",
   "execution_count": 3,
   "metadata": {
    "collapsed": true
   },
   "outputs": [],
   "source": [
    "class Solution(object):\n",
    "    def isValidBST(self, root, minval = float('-inf'), maxval = float('inf')):\n",
    "        \"\"\"\n",
    "        :type root: TreeNode\n",
    "        :rtype: bool\n",
    "        \"\"\"\n",
    "        # turn left, upper bound decreases, min(maxval, root.val)\n",
    "        # turn right, lower bound increases, max(minval, root.val)\n",
    "        if not root: return True\n",
    "        if root.val <= minval or root.val >= maxval: return False\n",
    "        return self.isValidBST(root.left, minval, min(maxval,root.val)) and self.isValidBST(root.right, max(minval,root.val), maxval)"
   ]
  },
  {
   "cell_type": "markdown",
   "metadata": {},
   "source": [
    "### 4. 100 - same tree\n",
    "\n",
    "**idea** recursive"
   ]
  },
  {
   "cell_type": "code",
   "execution_count": 4,
   "metadata": {
    "collapsed": true
   },
   "outputs": [],
   "source": [
    "class Solution(object):\n",
    "    def isSameTree(self, p, q):\n",
    "        \"\"\"\n",
    "        :type p: TreeNode\n",
    "        :type q: TreeNode\n",
    "        :rtype: bool\n",
    "        \"\"\"\n",
    "        if not p and not q:\n",
    "            return True\n",
    "        if (not p and q) or (not q and p) or (p.val != q.val):\n",
    "            return False\n",
    "        return self.isSameTree(p.left,q.left) and self.isSameTree(p.right,q.right)"
   ]
  },
  {
   "cell_type": "markdown",
   "metadata": {},
   "source": [
    "## 5. 102 - binary tree level order traversal\n",
    "\n",
    "**idea** update current level nodes  \n",
    "next level are kids of current level"
   ]
  },
  {
   "cell_type": "code",
   "execution_count": 5,
   "metadata": {
    "collapsed": true
   },
   "outputs": [],
   "source": [
    "class Solution(object):\n",
    "    def levelOrder(self, root):\n",
    "        \"\"\"\n",
    "        :type root: TreeNode\n",
    "        :rtype: List[List[int]]\n",
    "        \"\"\"\n",
    "        if not root: return []\n",
    "        res, curlevel = [], [root]\n",
    "        while curlevel:\n",
    "            res.append([node.val for node in curlevel])\n",
    "            # keep (node.left, node.right) in a pair \n",
    "            # more convenient to check if they are null\n",
    "            curlevel = [kid for node in curlevel for kid in (node.left, node.right) if kid]\n",
    "        return res"
   ]
  }
 ],
 "metadata": {
  "kernelspec": {
   "display_name": "Python 2",
   "language": "python",
   "name": "python2"
  },
  "language_info": {
   "codemirror_mode": {
    "name": "ipython",
    "version": 2
   },
   "file_extension": ".py",
   "mimetype": "text/x-python",
   "name": "python",
   "nbconvert_exporter": "python",
   "pygments_lexer": "ipython2",
   "version": "2.7.14"
  }
 },
 "nbformat": 4,
 "nbformat_minor": 2
}
