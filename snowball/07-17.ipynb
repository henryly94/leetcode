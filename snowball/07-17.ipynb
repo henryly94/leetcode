{
 "cells": [
  {
   "cell_type": "markdown",
   "metadata": {},
   "source": [
    "### 1. 167 - two sum II - input array is sorted\n",
    "**idea** two pointers  \n",
    "if big, move right pointer to left  \n",
    "if small, move left pointer to right"
   ]
  },
  {
   "cell_type": "code",
   "execution_count": 2,
   "metadata": {
    "collapsed": true
   },
   "outputs": [],
   "source": [
    "class Solution(object):\n",
    "    def twoSum(self, numbers, target):\n",
    "        \"\"\"\n",
    "        :type numbers: List[int]\n",
    "        :type target: int\n",
    "        :rtype: List[int]\n",
    "        \"\"\"\n",
    "        # returned index = python index + 1\n",
    "        l, r = 0, len(numbers)-1\n",
    "        while l < r:\n",
    "            if numbers[l] + numbers[r] == target:\n",
    "                return [l+1,r+1]  \n",
    "            elif numbers[l] + numbers[r] < target:\n",
    "                l += 1\n",
    "            else:\n",
    "                r -= 1"
   ]
  },
  {
   "cell_type": "markdown",
   "metadata": {},
   "source": [
    "### 2. 168 - excel sheet column title\n",
    "Given a positive integer, return its corresponding column title as appear in an Excel sheet.\n",
    "\n",
    "**idea** n-1/26  \n",
    "n%26 from 1 to 0  \n",
    "(n-1)%26 from 0 to 25  \n",
    "corresponding to ord('a')=97=97+0, ord('z')=122=97+25"
   ]
  },
  {
   "cell_type": "code",
   "execution_count": 3,
   "metadata": {
    "collapsed": true
   },
   "outputs": [],
   "source": [
    "class Solution(object):\n",
    "    def convertToTitle(self, n):\n",
    "        \"\"\"\n",
    "        :type n: int\n",
    "        :rtype: str\n",
    "        \"\"\"\n",
    "        ret = ''\n",
    "        while n != 0:\n",
    "            ret = str(unichr((n-1)%26+97)).upper() + ret\n",
    "            n = (n-1)/26\n",
    "        return ret"
   ]
  },
  {
   "cell_type": "markdown",
   "metadata": {},
   "source": [
    "## 3. 173 - binary search tree iterator \n",
    "Implement an iterator over a binary search tree (BST). Your iterator will be initialized with the root node of a BST.  \n",
    "Calling next() will return the next smallest number in the BST.\n",
    "\n",
    "**idea** use stack to formulate recursion  \n",
    "In every call for .next(), return the first element in stack that ends with 0.  \n",
    "In every run, we take action towards one node, add its right, add itself, add its left."
   ]
  },
  {
   "cell_type": "code",
   "execution_count": 4,
   "metadata": {
    "collapsed": true
   },
   "outputs": [],
   "source": [
    "class BSTIterator(object):\n",
    "    def __init__(self, root):\n",
    "        \"\"\"\n",
    "        :type root: TreeNode\n",
    "        \"\"\"\n",
    "        self.root = root\n",
    "        if root: self.stack = [(root,1)] \n",
    "        else: self.stack = []\n",
    "        \n",
    "    def hasNext(self):\n",
    "        \"\"\"\n",
    "        :rtype: bool\n",
    "        \"\"\"\n",
    "        return self.stack\n",
    "\n",
    "    def next(self):\n",
    "        \"\"\"\n",
    "        :rtype: int\n",
    "        \"\"\"\n",
    "        while self.stack:\n",
    "            node, t = self.stack.pop()\n",
    "            if t == 0:\n",
    "                return node.val\n",
    "            else:\n",
    "                if node.right:\n",
    "                    self.stack.append((node.right,1))\n",
    "                self.stack.append((node,0))\n",
    "                if node.left:\n",
    "                    self.stack.append((node.left,1)) "
   ]
  },
  {
   "cell_type": "markdown",
   "metadata": {},
   "source": [
    "### 4. 175 - combine two tables (sql)\n",
    "\n",
    "left outer join: if there is no address"
   ]
  },
  {
   "cell_type": "markdown",
   "metadata": {},
   "source": [
    "select p.FirstName, p.LastName, a.City, a.State from Person p left outer join Address a on p.PersonId = a.PersonId"
   ]
  },
  {
   "cell_type": "markdown",
   "metadata": {},
   "source": [
    "### 5. 176 - second highest salary (sql)\n",
    "two select: if there is no second highest salary"
   ]
  },
  {
   "cell_type": "markdown",
   "metadata": {},
   "source": [
    "select (select distinct salary from Employee order by Salary desc limit 1 offset 1) as SecondHighestSalary"
   ]
  },
  {
   "cell_type": "markdown",
   "metadata": {},
   "source": [
    "## 6. 179 - largest number\n",
    "Given a list of non negative integers, arrange them such that they form the largest number.\n",
    "\n",
    "**idea** bubble sort \n",
    "\n",
    "define a less function  \n",
    "once you have a less definition, you can sort\n",
    "\n",
    "flag = False >> it is sorted\n",
    "\n",
    "map(str, nums): map all the elements from int to str"
   ]
  },
  {
   "cell_type": "code",
   "execution_count": 6,
   "metadata": {
    "collapsed": true
   },
   "outputs": [],
   "source": [
    "class Solution(object):\n",
    "    def largestNumber(self, nums):\n",
    "        \"\"\"\n",
    "        :type nums: List[int]\n",
    "        :rtype: str\n",
    "        \"\"\"\n",
    "        less = lambda a, b: int(a+b) < int(b+a)\n",
    "        \n",
    "        nums = map(str, nums)\n",
    "        n = len(nums)\n",
    "        flag = True\n",
    "        for i in range(n):\n",
    "            if not flag: break\n",
    "            flag = False\n",
    "            for j in reversed(range(i, n)):\n",
    "                if j > 0 and less(nums[j-1], nums[j]):\n",
    "                    nums[j], nums[j-1] = nums[j-1], nums[j]\n",
    "                    flag = True\n",
    "        return str(int(reduce(lambda a,b:a+b, nums, '')))"
   ]
  },
  {
   "cell_type": "markdown",
   "metadata": {},
   "source": [
    "**idea** python .sort() cmp parameter"
   ]
  },
  {
   "cell_type": "code",
   "execution_count": 7,
   "metadata": {
    "collapsed": true
   },
   "outputs": [],
   "source": [
    "class Solution(object):\n",
    "    def largestNumber(self, nums):\n",
    "        \"\"\"\n",
    "        :type nums: List[int]\n",
    "        :rtype: str\n",
    "        \"\"\"        \n",
    "        nums = map(str, nums)\n",
    "        nums.sort(cmp=lambda x, y: cmp(y+x, x+y))\n",
    "        return str(int(''.join(nums)))\n",
    "        # str(int()) to deal with case like '00'"
   ]
  }
 ],
 "metadata": {
  "kernelspec": {
   "display_name": "Python 2",
   "language": "python",
   "name": "python2"
  },
  "language_info": {
   "codemirror_mode": {
    "name": "ipython",
    "version": 2
   },
   "file_extension": ".py",
   "mimetype": "text/x-python",
   "name": "python",
   "nbconvert_exporter": "python",
   "pygments_lexer": "ipython2",
   "version": "2.7.14"
  }
 },
 "nbformat": 4,
 "nbformat_minor": 2
}
