{
 "cells": [
  {
   "cell_type": "markdown",
   "metadata": {},
   "source": [
    "## 1. 300 - Longest Increasing Subsequence\n",
    "Given an unsorted array of integers, find the length of longest increasing subsequence.\n",
    "\n",
    "**idea** for every num, doing a binary search towards tails array  \n",
    "tails: the smallest number to make array with length i as an increasing subsequence\n",
    "1. if num > all tails, add it to tails, size += 1\n",
    "2. if tails[i] < num <= tails[i+1], update tails[i+1]\n",
    "3. return size"
   ]
  },
  {
   "cell_type": "code",
   "execution_count": 1,
   "metadata": {
    "collapsed": true
   },
   "outputs": [],
   "source": [
    "class Solution(object):\n",
    "    def lengthOfLIS(self, nums):\n",
    "        \"\"\"\n",
    "        :type nums: List[int]\n",
    "        :rtype: int\n",
    "        \"\"\"\n",
    "        tails = [0] * len(nums)\n",
    "        size = 0\n",
    "        for num in nums:\n",
    "            l, r = 0, size\n",
    "            while l < r:\n",
    "                mid = (l+r)/2\n",
    "                if tails[mid] < num:\n",
    "                    l = mid + 1\n",
    "                else:\n",
    "                    r = mid\n",
    "            tails[l] = num\n",
    "            size = max(l+1, size)\n",
    "        return size"
   ]
  },
  {
   "cell_type": "markdown",
   "metadata": {},
   "source": [
    "## 2. 304 - Range Sum Query 2D - Immutable\n",
    "Given a 2D matrix matrix, find the sum of the elements inside the rectangle defined by its upper left corner (row1, col1) and lower right corner (row2, col2).\n",
    "\n",
    "**idea** memorize sum of square using the elements as the right-bottom corner.  \n",
    "square = right-bottom - right-upper - left-bottom + left-upper"
   ]
  },
  {
   "cell_type": "code",
   "execution_count": 2,
   "metadata": {
    "collapsed": true
   },
   "outputs": [],
   "source": [
    "class NumMatrix(object):\n",
    "\n",
    "    def __init__(self, matrix):\n",
    "        \"\"\"\n",
    "        :type matrix: List[List[int]]\n",
    "        \"\"\"\n",
    "        if not matrix: return \n",
    "        m, n = len(matrix), len(matrix[0])\n",
    "        self.mat = [[0 for j in range(n+1)]]\n",
    "        for i in range(1,m+1):\n",
    "            self.mat.append([0] + matrix[i-1])\n",
    "            for j in range(1,n+1):\n",
    "                self.mat[i][j] = self.mat[i-1][j] + self.mat[i][j-1] - self.mat[i-1][j-1] + self.mat[i][j]   \n",
    "\n",
    "    def sumRegion(self, row1, col1, row2, col2):\n",
    "        \"\"\"\n",
    "        :type row1: int\n",
    "        :type col1: int\n",
    "        :type row2: int\n",
    "        :type col2: int\n",
    "        :rtype: int\n",
    "        \"\"\"\n",
    "        return self.mat[row2+1][col2+1] - self.mat[row1][col2+1] - self.mat[row2+1][col1] + self.mat[row1][col1]\n",
    "\n",
    "# Your NumMatrix object will be instantiated and called as such:\n",
    "# obj = NumMatrix(matrix)\n",
    "# param_1 = obj.sumRegion(row1,col1,row2,col2)"
   ]
  },
  {
   "cell_type": "markdown",
   "metadata": {},
   "source": [
    "## 3. 306 - Additive Number\n",
    "Additive number is a string whose digits can form additive sequence.  \n",
    "A valid additive sequence should contain at least three numbers. Except for the first two numbers, each subsequent number in the sequence must be the sum of the preceding two.  \n",
    "Given a string containing only digits '0'-'9', write a function to determine if it's an additive number.  \n",
    "Note: Numbers in the additive sequence cannot have leading zeros, so sequence 1, 2, 03 or 1, 02, 3 is invalid.  "
   ]
  },
  {
   "cell_type": "markdown",
   "metadata": {},
   "source": [
    "### **backtracking**\n",
    "**idea** backtracking, similar to dfs \n",
    "\n",
    "1. update STATUS: path & remain \n",
    "2. pass to next step  \n",
    "3. tell your parents your status  \n",
    "4. if it's not what you want, return to original status(pop)"
   ]
  },
  {
   "cell_type": "code",
   "execution_count": 3,
   "metadata": {
    "collapsed": true
   },
   "outputs": [],
   "source": [
    "class Solution(object):\n",
    "    def isAdditiveNumber(self, num):\n",
    "        \"\"\"\n",
    "        :type num: str\n",
    "        :rtype: bool\n",
    "        \"\"\"\n",
    "        def dfs(path, remain):\n",
    "            if not remain and len(path) > 2:\n",
    "                return True\n",
    "            for i in range(len(remain)):\n",
    "                # num = 0 or num != 0X\n",
    "                if i == 0 or remain[0] != '0':\n",
    "                    n = int(remain[:i+1])\n",
    "                    if len(path) < 2 or path[-2] + path[-1] == n:\n",
    "                        path.append(n)\n",
    "                        if dfs(path, remain[i+1:]):\n",
    "                            return True\n",
    "                        path.pop()\n",
    "                    # efficiency \n",
    "                    elif path[-2] + path[-1] < n:\n",
    "                        break\n",
    "                # i > 0 and remain[0] == '0': don't need continue\n",
    "                else: break\n",
    "            return False \n",
    "        return dfs([], num)"
   ]
  },
  {
   "cell_type": "markdown",
   "metadata": {},
   "source": [
    "## 4. 307 - Range Sum Query - Mutable\n",
    "Given an integer array nums, find the sum of the elements between indices i and j (i ≤ j), inclusive.  \n",
    "The update(i, val) function modifies nums by updating the element at index i to val.\n",
    "\n",
    "**idea** binary indexed tree\n",
    "\n",
    "Use self.c to represent Binary Indexed Tree. Section sums are stored in self.c[1..len(nums)]. **x & -x is lowbit function, which will return x's rightmost bit 1**, e.g. lowbit(7) = 1, lowbit(20) = 4.\n",
    "\n",
    "self.c[1] = nums[0]\n",
    "\n",
    "self.c[2] = nums[0] + nums[1]\n",
    "\n",
    "self.c[3] = nums[2]\n",
    "\n",
    "self.c[4] = nums[0] + nums[1] + nums[2] + nums[3]\n",
    "\n",
    "self.c[5] = nums[4]\n",
    "\n",
    "self.c[6] = nums[4] + nums[5]\n",
    "\n",
    "self.c[7] = nums[6]\n",
    "\n",
    "self.c[8] = nums[0] + nums[1] + nums[2] + nums[3] + nums[4] + nums[5] + nums[6] + nums[7]"
   ]
  },
  {
   "cell_type": "code",
   "execution_count": 4,
   "metadata": {
    "collapsed": true
   },
   "outputs": [],
   "source": [
    "class NumArray(object):\n",
    "\n",
    "    def __init__(self, nums):\n",
    "        \"\"\"\n",
    "        :type nums: List[int]\n",
    "        \"\"\"\n",
    "        self.n = len(nums)\n",
    "        self.lst = nums\n",
    "        self.t = [0] * (self.n+1)\n",
    "        for i in range(self.n):\n",
    "            k = i+1\n",
    "            while k <= self.n:\n",
    "                self.t[k] += nums[i]\n",
    "                k += k & -k\n",
    "\n",
    "    def update(self, i, val):\n",
    "        \"\"\"\n",
    "        :type i: int\n",
    "        :type val: int\n",
    "        :rtype: void\n",
    "        \"\"\"\n",
    "        diff, self.lst[i] = val-self.lst[i], val\n",
    "        k = i+1\n",
    "        while k <= self.n:\n",
    "            self.t[k] += diff\n",
    "            k += k & -k\n",
    "        \n",
    "\n",
    "    def sumRange(self, i, j):\n",
    "        \"\"\"\n",
    "        :type i: int\n",
    "        :type j: int\n",
    "        :rtype: int\n",
    "        \"\"\"\n",
    "        ret, j = 0, j+1\n",
    "        while j > 0:\n",
    "            ret += self.t[j]\n",
    "            j -= j & -j\n",
    "        while i > 0:\n",
    "            ret -= self.t[i]\n",
    "            i -= i & -i\n",
    "        return ret\n",
    "        \n",
    "\n",
    "# Your NumArray object will be instantiated and called as such:\n",
    "# obj = NumArray(nums)\n",
    "# obj.update(i,val)\n",
    "# param_2 = obj.sumRange(i,j)"
   ]
  },
  {
   "cell_type": "markdown",
   "metadata": {},
   "source": [
    "## 5. 309 - Best Time to Buy and Sell Stock with Cooldown\n",
    "Say you have an array for which the ith element is the price of a given stock on day i.  \n",
    "Design an algorithm to find the maximum profit. You may complete as many transactions as you like (ie, buy one and sell one share of the stock multiple times) with the following restrictions:  \n",
    "You may not engage in multiple transactions at the same time (ie, you must sell the stock before you buy again).\n",
    "After you sell your stock, you cannot buy stock on next day. (ie, cooldown 1 day)\n",
    "\n",
    "**idea** dp  \n",
    "use three array: buy,sell,rest to store the biggest revenue when we take this action before day i  \n",
    "\n",
    "1. buy[i] = max(buy[i-1], rest[i-1]-price)\n",
    "2. sell[i] = max(sell[i-1], buy[i-1]+price)\n",
    "3. rest[i] = sell[i-1]"
   ]
  },
  {
   "cell_type": "code",
   "execution_count": 5,
   "metadata": {
    "collapsed": true
   },
   "outputs": [],
   "source": [
    "class Solution(object):\n",
    "    def maxProfit(self, prices):\n",
    "        \"\"\"\n",
    "        :type prices: List[int]\n",
    "        :rtype: int\n",
    "        \"\"\"  \n",
    "        if not prices or len(prices) == 1: return 0\n",
    "        buy = [-prices[0], max(-prices[0], -prices[1])]\n",
    "        sell = [0, max(0,prices[1]-prices[0])]\n",
    "        for i,price in enumerate(prices):\n",
    "            if i > 1:\n",
    "                buy.append(max(buy[i-1],sell[i-2]-price))\n",
    "                sell.append(max(sell[i-1],buy[i-1]+price))\n",
    "        return max(buy[-1],sell[-1])"
   ]
  }
 ],
 "metadata": {
  "kernelspec": {
   "display_name": "Python 2",
   "language": "python",
   "name": "python2"
  },
  "language_info": {
   "codemirror_mode": {
    "name": "ipython",
    "version": 2
   },
   "file_extension": ".py",
   "mimetype": "text/x-python",
   "name": "python",
   "nbconvert_exporter": "python",
   "pygments_lexer": "ipython2",
   "version": "2.7.14"
  }
 },
 "nbformat": 4,
 "nbformat_minor": 2
}
