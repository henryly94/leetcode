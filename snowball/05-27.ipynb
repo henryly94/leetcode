{
 "cells": [
  {
   "cell_type": "markdown",
   "metadata": {},
   "source": [
    "## 1. 121 - best time to buy and sell stock\n",
    "Input: [7,1,5,3,6,4]  \n",
    "Output: 5  \n",
    "Explanation: Buy on day 2 (price = 1) and sell on day 5 (price = 6), profit = 6-1 = 5.  \n",
    "\n",
    "**idea** dp O(n)  \n",
    "min_price: record minimum prices we have seen until now  \n",
    "max_profit: record maximum profit we can get until now"
   ]
  },
  {
   "cell_type": "code",
   "execution_count": 7,
   "metadata": {
    "collapsed": true
   },
   "outputs": [],
   "source": [
    "class Solution:\n",
    "    def maxProfit(self, prices):\n",
    "        \"\"\"\n",
    "        :type prices: List[int]\n",
    "        :rtype: int\n",
    "        \"\"\"\n",
    "        if prices == []: return 0\n",
    "        min_price = prices[0] \n",
    "        max_profit = 0\n",
    "        for i in range(len(prices)):\n",
    "            if prices[i] < min_price:\n",
    "                min_price = prices[i]  \n",
    "                # min(min_price, prices[i]) would be slower\n",
    "            if prices[i] - min_price > max_profit:\n",
    "                max_profit = prices[i] - min_price\n",
    "        return max_profit"
   ]
  },
  {
   "cell_type": "markdown",
   "metadata": {},
   "source": [
    "## 2. 122 - best time to buy and sell stock II\n",
    "can complete multiple transactions; must sell the stock before you buy again\n",
    "\n",
    "** idea ** greedy  \n",
    "accept the transaction if next price is higher than current price"
   ]
  },
  {
   "cell_type": "code",
   "execution_count": 1,
   "metadata": {
    "collapsed": true
   },
   "outputs": [],
   "source": [
    "class Solution:\n",
    "    def maxProfit(self, prices):\n",
    "        \"\"\"\n",
    "        :type prices: List[int]\n",
    "        :rtype: int\n",
    "        \"\"\"\n",
    "        if prices == []: return 0\n",
    "        max_profit = 0\n",
    "        for i in range(len(prices)-1):\n",
    "            if prices[i] < prices[i+1]:\n",
    "                max_profit += prices[i+1] - prices[i]\n",
    "        return max_profit"
   ]
  },
  {
   "cell_type": "markdown",
   "metadata": {},
   "source": [
    "## 3. 70 - climbing stairs\n",
    "You are climbing a stair case. It takes n steps to reach to the top.  \n",
    "Each time you can either climb 1 or 2 steps. In how many distinct ways can you climb to the top?\n",
    "\n",
    "** idea ** dp  \n",
    "steps[j] = steps[j-1] + steps[j-2]"
   ]
  },
  {
   "cell_type": "markdown",
   "metadata": {},
   "source": [
    "bottom up, start from 1  \n",
    "steps[3] = steps[1] + steps[2]"
   ]
  },
  {
   "cell_type": "code",
   "execution_count": 5,
   "metadata": {
    "collapsed": true
   },
   "outputs": [],
   "source": [
    "class Solution:\n",
    "    def climbStairs(self, n):\n",
    "        \"\"\"\n",
    "        :type n: int\n",
    "        :rtype: int\n",
    "        \"\"\"\n",
    "        if n == 1: return 1\n",
    "        steps = [0 for i in range(n)]\n",
    "        steps[0], steps[1] = 1, 2\n",
    "        for j in range(2,n):\n",
    "            steps[j] = steps[j-1] + steps[j-2]\n",
    "        return steps[-1]"
   ]
  },
  {
   "cell_type": "markdown",
   "metadata": {},
   "source": [
    "- top down, start from n  \n",
    "steps[n] = self.helper(n-1,steps) + self.helper(n-2,steps)"
   ]
  },
  {
   "cell_type": "code",
   "execution_count": 6,
   "metadata": {
    "collapsed": true
   },
   "outputs": [],
   "source": [
    "# top down, start from n\n",
    "class Solution:\n",
    "    def climbStairs(self, n):\n",
    "        \"\"\"\n",
    "        :type n: int\n",
    "        :rtype: int\n",
    "        \"\"\"\n",
    "        if n == 1: return 1\n",
    "        steps = [-1 for i in range(n)]\n",
    "        steps[0], steps[1] = 1, 2\n",
    "        return self.helper(n-1, steps)\n",
    "    \n",
    "    def helper(self,n,steps):\n",
    "        if steps[n]  < 0:\n",
    "            steps[n] = self.helper(n-1,steps) + self.helper(n-2,steps)\n",
    "        return steps[n]"
   ]
  },
  {
   "cell_type": "markdown",
   "metadata": {},
   "source": [
    "## 4. 217 - contains duplicate\n",
    "Input: [1,2,3,1]  \n",
    "Output: true"
   ]
  },
  {
   "cell_type": "markdown",
   "metadata": {},
   "source": [
    "- set()"
   ]
  },
  {
   "cell_type": "code",
   "execution_count": 13,
   "metadata": {
    "collapsed": true
   },
   "outputs": [],
   "source": [
    "class Solution:\n",
    "    def containsDuplicate(self, nums):\n",
    "        \"\"\"\n",
    "        :type nums: List[int]\n",
    "        :rtype: bool\n",
    "        \"\"\"\n",
    "        return not len(nums) == len(set(nums))"
   ]
  },
  {
   "cell_type": "markdown",
   "metadata": {},
   "source": [
    "hash table"
   ]
  },
  {
   "cell_type": "code",
   "execution_count": 14,
   "metadata": {
    "collapsed": true
   },
   "outputs": [],
   "source": [
    "class Solution:\n",
    "    def containsDuplicate(self, nums):\n",
    "        \"\"\"\n",
    "        :type nums: List[int]\n",
    "        :rtype: bool\n",
    "        \"\"\"\n",
    "        d = {} ###\n",
    "        for num in nums:\n",
    "            if num not in d:\n",
    "                d[num] = 1\n",
    "            else:\n",
    "                return True\n",
    "        return False"
   ]
  },
  {
   "cell_type": "markdown",
   "metadata": {},
   "source": [
    "## 5. 108 - convert sorted array to binary search tree\n",
    "sort in ascending order, convert it to a height balanced tree"
   ]
  },
  {
   "cell_type": "code",
   "execution_count": 15,
   "metadata": {
    "collapsed": true
   },
   "outputs": [],
   "source": [
    "class Solution:\n",
    "    def sortedArrayToBST(self, nums):\n",
    "        \"\"\"\n",
    "        :type nums: List[int]\n",
    "        :rtype: TreeNode\n",
    "        \"\"\"\n",
    "        if nums == []: return None\n",
    "        mid = len(nums) // 2\n",
    "        root = TreeNode(nums[mid])\n",
    "        root.left = self.sortedArrayToBST(nums[:mid])\n",
    "        root.right = self.sortedArrayToBST(nums[mid+1:])\n",
    "        return root #return a tree begin with this root"
   ]
  }
 ],
 "metadata": {
  "kernelspec": {
   "display_name": "Python 3",
   "language": "python",
   "name": "python3"
  },
  "language_info": {
   "codemirror_mode": {
    "name": "ipython",
    "version": 3
   },
   "file_extension": ".py",
   "mimetype": "text/x-python",
   "name": "python",
   "nbconvert_exporter": "python",
   "pygments_lexer": "ipython3",
   "version": "3.5.4"
  }
 },
 "nbformat": 4,
 "nbformat_minor": 2
}
