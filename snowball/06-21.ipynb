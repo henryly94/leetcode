{
 "cells": [
  {
   "cell_type": "markdown",
   "metadata": {},
   "source": [
    "## 1. 60 - permutation sequence\n",
    "return the kth permutation sequence\n",
    "\n",
    "**idea** decide digits in permutation one by one"
   ]
  },
  {
   "cell_type": "code",
   "execution_count": 1,
   "metadata": {
    "collapsed": true
   },
   "outputs": [],
   "source": [
    "import math\n",
    "class Solution(object):\n",
    "    def getPermutation(self, n, k):\n",
    "        \"\"\"\n",
    "        :type n: int\n",
    "        :type k: int\n",
    "        :rtype: str\n",
    "        \"\"\"\n",
    "        nums = range(1,n+1)\n",
    "        res = ''\n",
    "        k -= 1\n",
    "        while n > 0:\n",
    "            n -= 1  \n",
    "            ind, k = divmod(k, math.factorial(n))  ###\n",
    "            res += str(nums[ind])\n",
    "            nums.remove(nums[ind])\n",
    "        return res"
   ]
  },
  {
   "cell_type": "markdown",
   "metadata": {},
   "source": [
    "## 2. 61 - rotate list\n",
    "Given a linked list, rotate the list to the right by k places, where k is non-negative.\n",
    "\n",
    "**idea** find the length of linked list  \n",
    "find the kth place  \n",
    "reorder the list"
   ]
  },
  {
   "cell_type": "code",
   "execution_count": 2,
   "metadata": {
    "collapsed": true
   },
   "outputs": [],
   "source": [
    "class Solution(object):\n",
    "    def rotateRight(self, head, k):\n",
    "        \"\"\"\n",
    "        :type head: ListNode\n",
    "        :type k: int\n",
    "        :rtype: ListNode\n",
    "        \"\"\"\n",
    "        if not head: return head\n",
    "        \n",
    "        start = slow = fast = head\n",
    "        length = 1\n",
    "        while fast.next:\n",
    "            fast = fast.next\n",
    "            length += 1\n",
    "                \n",
    "        if k % length:\n",
    "            for i in range(length - 1 - k % length):\n",
    "                slow = slow.next \n",
    "            start = slow.next\n",
    "            fast.next = head\n",
    "            slow.next = None\n",
    "        \n",
    "        return start"
   ]
  },
  {
   "cell_type": "markdown",
   "metadata": {},
   "source": [
    "## 3. 62 - unique paths\n",
    "how many possible unique paths are there when we move from top-left to bottom-right\n",
    "\n",
    "**idea** dp: **current status is only dependent on the last status**  \n",
    "we only need to know the value of point above and left"
   ]
  },
  {
   "cell_type": "code",
   "execution_count": 3,
   "metadata": {
    "collapsed": true
   },
   "outputs": [],
   "source": [
    "class Solution(object):\n",
    "    def uniquePaths(self, m, n):\n",
    "        \"\"\"\n",
    "        :type m: int\n",
    "        :type n: int\n",
    "        :rtype: int\n",
    "        \"\"\"\n",
    "        mat = [[1 for i in range(m)] for j in range(n)]\n",
    "        for i in range(1,n):\n",
    "            for j in range(1,m):\n",
    "                mat[i][j] = mat[i-1][j] + mat[i][j-1]\n",
    "        return mat[n-1][m-1]"
   ]
  },
  {
   "cell_type": "markdown",
   "metadata": {},
   "source": [
    "## 4. 63 - unique paths II\n",
    "An obstacle and empty space is marked as 1 and 0 respectively in the grid\n",
    "\n",
    "**idea** dp with padding"
   ]
  },
  {
   "cell_type": "code",
   "execution_count": 4,
   "metadata": {
    "collapsed": true
   },
   "outputs": [],
   "source": [
    "class Solution(object):\n",
    "    def uniquePathsWithObstacles(self, obstacleGrid):\n",
    "        \"\"\"\n",
    "        :type obstacleGrid: List[List[int]]\n",
    "        :rtype: int\n",
    "        \"\"\"\n",
    "        m, n = len(obstacleGrid), len(obstacleGrid[0])\n",
    "        mat = [[0] * (n+1)] * (m+1)\n",
    "        mat[0][1] = 1\n",
    "        \n",
    "        for i in range(1, m+1):\n",
    "            for j in range(1, n+1):\n",
    "                if obstacleGrid[i-1][j-1] == 0:\n",
    "                    mat[i][j] = mat[i-1][j] + mat[i][j-1]\n",
    "        \n",
    "        return mat[m][n]"
   ]
  },
  {
   "cell_type": "markdown",
   "metadata": {},
   "source": [
    "## 5. 64 - minimum path sum\n",
    "**idea** store minimum path at every step"
   ]
  },
  {
   "cell_type": "code",
   "execution_count": 5,
   "metadata": {
    "collapsed": true
   },
   "outputs": [],
   "source": [
    "class Solution(object):\n",
    "    def minPathSum(self, grid):\n",
    "        \"\"\"\n",
    "        :type grid: List[List[int]]\n",
    "        :rtype: int\n",
    "        \"\"\"\n",
    "        m, n = len(grid), len(grid[0])\n",
    "                \n",
    "        for i in range(1,m):\n",
    "            grid[i][0] += grid[i-1][0]\n",
    "        for j in range(1,n):\n",
    "            grid[0][j] += grid[0][j-1]\n",
    "        for i in range(1,m):\n",
    "            for j in range(1,n):\n",
    "                grid[i][j] += min(grid[i-1][j], grid[i][j-1])\n",
    "                \n",
    "        return grid[m-1][n-1]"
   ]
  }
 ],
 "metadata": {
  "kernelspec": {
   "display_name": "Python 2",
   "language": "python",
   "name": "python2"
  },
  "language_info": {
   "codemirror_mode": {
    "name": "ipython",
    "version": 2
   },
   "file_extension": ".py",
   "mimetype": "text/x-python",
   "name": "python",
   "nbconvert_exporter": "python",
   "pygments_lexer": "ipython2",
   "version": "2.7.14"
  }
 },
 "nbformat": 4,
 "nbformat_minor": 2
}
