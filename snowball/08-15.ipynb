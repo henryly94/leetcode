{
 "cells": [
  {
   "cell_type": "markdown",
   "metadata": {},
   "source": [
    "## 1. 275 - H-Index II\n",
    "Given an array of citations sorted in ascending order (each citation is a non-negative integer) of a researcher, write a function to compute the researcher's h-index.\n",
    "\n",
    "**idea** binary search  \n",
    "NOTE that right pointer might be the target, but left won't"
   ]
  },
  {
   "cell_type": "code",
   "execution_count": 1,
   "metadata": {
    "collapsed": true
   },
   "outputs": [],
   "source": [
    "class Solution(object):\n",
    "    def hIndex(self, citations):\n",
    "        \"\"\"\n",
    "        :type citations: List[int]\n",
    "        :rtype: int\n",
    "        \"\"\"\n",
    "        if not citations: return 0\n",
    "        n = len(citations)\n",
    "        l, r = 0, n-1\n",
    "        while l < r:\n",
    "            mid = (l+r) / 2\n",
    "            if citations[mid] >= n-mid:\n",
    "                r = mid\n",
    "            else:\n",
    "                l = mid + 1\n",
    "        if citations[l] >= n-l:\n",
    "            return n-l\n",
    "        return 0"
   ]
  },
  {
   "cell_type": "markdown",
   "metadata": {},
   "source": [
    "## 2. 279 - perfect squares\n",
    "Given a positive integer n, find the least number of perfect square numbers (for example, 1, 4, 9, 16, ...) which sum to n.\n",
    "\n",
    "**idea** dp  \n",
    "ret[i] = min(ret[i],ret[i-j**2]+1)"
   ]
  },
  {
   "cell_type": "code",
   "execution_count": 2,
   "metadata": {
    "collapsed": true
   },
   "outputs": [],
   "source": [
    "class Solution(object):\n",
    "    def numSquares(self, n):\n",
    "        \"\"\"\n",
    "        :type n: int\n",
    "        :rtype: int\n",
    "        \"\"\"\n",
    "        ret = [float('inf')] * (n+1)\n",
    "        ret[0] = 0\n",
    "        for i in range(1,n+1):\n",
    "            j = 1\n",
    "            while j**2 <= i:\n",
    "                ret[i] = min(ret[i],ret[i-j**2]+1)\n",
    "                j += 1\n",
    "        return ret[-1]"
   ]
  },
  {
   "cell_type": "markdown",
   "metadata": {},
   "source": [
    "**idea** static dp  \n",
    "initialize a self.ret, we will call this variable in every test case"
   ]
  },
  {
   "cell_type": "code",
   "execution_count": 3,
   "metadata": {
    "collapsed": true
   },
   "outputs": [],
   "source": [
    "class Solution(object):\n",
    "    ret = [0]\n",
    "    \n",
    "    def numSquares(self, n):\n",
    "        \"\"\"\n",
    "        :type n: int\n",
    "        :rtype: int\n",
    "        \"\"\"   \n",
    "        i = len(self.ret)\n",
    "        while i < n+1:\n",
    "            j = 1\n",
    "            tmp = float('inf')\n",
    "            while j**2 <= i:\n",
    "                tmp = min(tmp,self.ret[i-j**2]+1)\n",
    "                j += 1\n",
    "            self.ret.append(tmp)\n",
    "            i += 1   \n",
    "        return self.ret[n]"
   ]
  },
  {
   "cell_type": "markdown",
   "metadata": {},
   "source": [
    "**idea** bfs  \n",
    "In each level, reduce all the possible squares in lst"
   ]
  },
  {
   "cell_type": "code",
   "execution_count": 4,
   "metadata": {
    "collapsed": true
   },
   "outputs": [],
   "source": [
    "class Solution(object):\n",
    "    def numSquares(self, n):\n",
    "        \"\"\"\n",
    "        :type n: int\n",
    "        :rtype: int\n",
    "        \"\"\"  \n",
    "        lst, i = [], 1\n",
    "        while i**2 <= n:\n",
    "            lst.append(i**2)\n",
    "            i += 1\n",
    "        todo, level, cnt = [n], set(), 1\n",
    "        while todo:\n",
    "            for x in todo:\n",
    "                for y in lst:\n",
    "                    if x == y:\n",
    "                        return cnt\n",
    "                    if x < y:\n",
    "                        break\n",
    "                    level.add(x-y)\n",
    "            todo = level\n",
    "            level = set()\n",
    "            cnt += 1\n",
    "        return cnt"
   ]
  },
  {
   "cell_type": "markdown",
   "metadata": {},
   "source": [
    "## 3. 284 - Peeking Iterator\n",
    "Given an Iterator class interface with methods: next() and hasNext(), design and implement a PeekingIterator that support the peek() operation -- it essentially peek() at the element that will be returned by the next call to next().\n",
    "\n",
    "**idea** store .next, use a tmp to store .next.next"
   ]
  },
  {
   "cell_type": "code",
   "execution_count": 5,
   "metadata": {
    "collapsed": true
   },
   "outputs": [],
   "source": [
    "class PeekingIterator(object):\n",
    "    def __init__(self, iterator):\n",
    "        \"\"\"\n",
    "        Initialize your data structure here.\n",
    "        :type iterator: Iterator\n",
    "        \"\"\"\n",
    "        self.iter = iterator\n",
    "        self.tmp = self.iter.next() if self.iter.hasNext() else None\n",
    "\n",
    "    def peek(self):\n",
    "        \"\"\"\n",
    "        Returns the next element in the iteration without advancing the iterator.\n",
    "        :rtype: int\n",
    "        \"\"\"\n",
    "        return self.tmp\n",
    "\n",
    "    def next(self):\n",
    "        \"\"\"\n",
    "        :rtype: int\n",
    "        \"\"\"\n",
    "        ret = self.tmp\n",
    "        self.tmp = self.iter.next() if self.iter.hasNext() else None\n",
    "        return ret\n",
    "        \n",
    "\n",
    "    def hasNext(self):\n",
    "        \"\"\"\n",
    "        :rtype: bool\n",
    "        \"\"\"\n",
    "        # return self.iter.hasNext() is wrong, when self.tmp is the last element\n",
    "        # we call one more .next() to get tmp, so iter is empty\n",
    "        return self.tmp is not None"
   ]
  },
  {
   "cell_type": "markdown",
   "metadata": {},
   "source": [
    "## 4. 287 - Find the Duplicate Number\n",
    "Given an array nums containing n + 1 integers where each integer is between 1 and n (inclusive), prove that at least one duplicate number must exist. Assume that there is only one duplicate number, find the duplicate one.\n",
    "\n",
    "**idea** binary search  \n",
    "count the numbers in [left,mid], if it's bigger than mid-l+1, the duplicates is in this range, move left; otherwise move right."
   ]
  },
  {
   "cell_type": "code",
   "execution_count": 6,
   "metadata": {
    "collapsed": true
   },
   "outputs": [],
   "source": [
    "class Solution(object):\n",
    "    def findDuplicate(self, nums):\n",
    "        \"\"\"\n",
    "        :type nums: List[int]\n",
    "        :rtype: int\n",
    "        \"\"\"\n",
    "        n = len(nums)\n",
    "        l, r = 1, n-1\n",
    "        while l < r:\n",
    "            mid = (l+r)/2\n",
    "            cnt = 0\n",
    "            for num in nums:\n",
    "                if l <= num <= mid:\n",
    "                    cnt += 1\n",
    "            if cnt > mid-l+1:\n",
    "                r = mid\n",
    "            else:\n",
    "                l = mid+1\n",
    "        return l"
   ]
  },
  {
   "cell_type": "markdown",
   "metadata": {},
   "source": [
    "**idea** two pointers  \n",
    "use index as a pointer, this problem is equal to find the start of cycle in linked list"
   ]
  },
  {
   "cell_type": "code",
   "execution_count": 7,
   "metadata": {
    "collapsed": true
   },
   "outputs": [],
   "source": [
    "class Solution(object):\n",
    "    def findDuplicate(self, nums):\n",
    "        \"\"\"\n",
    "        :type nums: List[int]\n",
    "        :rtype: int\n",
    "        \"\"\"\n",
    "        slow = nums[0]\n",
    "        fast = nums[nums[0]]\n",
    "        while slow != fast:\n",
    "            slow = nums[slow]\n",
    "            fast = nums[nums[fast]]\n",
    "        \n",
    "        fast = 0\n",
    "        while slow != fast:\n",
    "            slow = nums[slow]\n",
    "            fast = nums[fast]\n",
    "            \n",
    "        return slow"
   ]
  },
  {
   "cell_type": "markdown",
   "metadata": {},
   "source": [
    "## 5. 289 - Game of Life\n",
    "Given a board with m by n cells, each cell has an initial state live (1) or dead (0). Each cell interacts with its eight neighbors (horizontal, vertical, diagonal) using the following four rules (taken from the above Wikipedia article):  \n",
    "\n",
    "1. Any live cell with fewer than two live neighbors dies, as if caused by under-population.  \n",
    "2. Any live cell with two or three live neighbors lives on to the next generation.  \n",
    "3. Any live cell with more than three live neighbors dies, as if by over-population..  \n",
    "4. Any dead cell with exactly three live neighbors becomes a live cell, as if by reproduction.\n",
    "\n",
    "Write a function to compute the next state (after one update) of the board given its current state. The next state is created by applying the above rules simultaneously to every cell in the current state, where births and deaths occur simultaneously.\n",
    "\n",
    "**idea** use a flag matrix to mark whether this position is about to change"
   ]
  },
  {
   "cell_type": "code",
   "execution_count": 8,
   "metadata": {
    "collapsed": true
   },
   "outputs": [],
   "source": [
    "class Solution(object):\n",
    "    def gameOfLife(self, board):\n",
    "        \"\"\"\n",
    "        :type board: List[List[int]]\n",
    "        :rtype: void Do not return anything, modify board in-place instead.\n",
    "        \"\"\"\n",
    "        m ,n = len(board), len(board[0])\n",
    "        # flag = [[False]*n] *m is wrong: boardcast\n",
    "        flag = [[False for i in range(n)] for j in range(m)]\n",
    "        for i in range(m):\n",
    "            for j in range(n):\n",
    "                neighbor = sum([board[r][c] for r in [i-1,i,i+1] if 0 <= r < m for c in [j-1,j,j+1] if 0 <= c < n]) - board[i][j]\n",
    "                if board[i][j] == 0 and neighbor == 3:\n",
    "                    flag[i][j] = True\n",
    "                if board[i][j] == 1 and (neighbor < 2 or neighbor > 3): \n",
    "                    flag[i][j] = True\n",
    "        for i in range(m):\n",
    "            for j in range(n):\n",
    "                if flag[i][j] == True:\n",
    "                    board[i][j] = 1 - board[i][j]"
   ]
  },
  {
   "cell_type": "markdown",
   "metadata": {},
   "source": [
    "**idea** change matrix in-place  \n",
    "0: dead 2: dead -> live  \n",
    "1: live 3: live -> dead  \n",
    "use n%2 to maintain its property"
   ]
  },
  {
   "cell_type": "code",
   "execution_count": 9,
   "metadata": {
    "collapsed": true
   },
   "outputs": [],
   "source": [
    "class Solution(object):\n",
    "    def gameOfLife(self, board):\n",
    "        \"\"\"\n",
    "        :type board: List[List[int]]\n",
    "        :rtype: void Do not return anything, modify board in-place instead.\n",
    "        \"\"\"\n",
    "        m ,n = len(board), len(board[0])\n",
    "        for i in range(m):\n",
    "            for j in range(n):\n",
    "                neighbor = sum([board[r][c]%2 for r in [i-1,i,i+1] if 0 <= r < m for c in [j-1,j,j+1] if 0 <= c < n]) - board[i][j]\n",
    "                if board[i][j] == 0 and neighbor == 3:\n",
    "                    board[i][j] = 2\n",
    "                if board[i][j] == 1 and (neighbor < 2 or neighbor > 3): \n",
    "                    board[i][j] = 3\n",
    "        for i in range(m):\n",
    "            for j in range(n):\n",
    "                if board[i][j] == 2:\n",
    "                    board[i][j] = 1\n",
    "                if board[i][j] == 3:\n",
    "                    board[i][j] = 0"
   ]
  }
 ],
 "metadata": {
  "kernelspec": {
   "display_name": "Python 2",
   "language": "python",
   "name": "python2"
  },
  "language_info": {
   "codemirror_mode": {
    "name": "ipython",
    "version": 2
   },
   "file_extension": ".py",
   "mimetype": "text/x-python",
   "name": "python",
   "nbconvert_exporter": "python",
   "pygments_lexer": "ipython2",
   "version": "2.7.14"
  }
 },
 "nbformat": 4,
 "nbformat_minor": 2
}
