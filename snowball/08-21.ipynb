{
 "cells": [
  {
   "cell_type": "markdown",
   "metadata": {},
   "source": [
    "### 1. 342 - Power of Four"
   ]
  },
  {
   "cell_type": "code",
   "execution_count": 1,
   "metadata": {
    "collapsed": true
   },
   "outputs": [],
   "source": [
    "class Solution(object):\n",
    "    def isPowerOfFour(self, num):\n",
    "        \"\"\"\n",
    "        :type num: int\n",
    "        :rtype: bool\n",
    "        \"\"\"\n",
    "        if num < 1: return False\n",
    "        while num % 4 == 0:\n",
    "            num /= 4\n",
    "        return num == 1"
   ]
  },
  {
   "cell_type": "markdown",
   "metadata": {},
   "source": [
    "### 2. 345 - Reverse Vowels of a String\n",
    "Write a function that takes a string as input and reverse only the vowels of a string.\n",
    "\n",
    "**idea** find all the index of vowels then switch them"
   ]
  },
  {
   "cell_type": "code",
   "execution_count": 2,
   "metadata": {
    "collapsed": true
   },
   "outputs": [],
   "source": [
    "class Solution(object):\n",
    "    def reverseVowels(self, s):\n",
    "        \"\"\"\n",
    "        :type s: str\n",
    "        :rtype: str\n",
    "        \"\"\"\n",
    "        s1 = list(s)\n",
    "        vowel = 'aeiouAEIOU'\n",
    "        ind = [i for i in range(len(s1)) if s1[i] in vowel]\n",
    "        for i in range(len(ind)/2):\n",
    "            s1[ind[i]], s1[ind[-1-i]] = s1[ind[-1-i]], s1[ind[i]]\n",
    "        return ''.join(s1)"
   ]
  },
  {
   "cell_type": "markdown",
   "metadata": {},
   "source": [
    "**idea** two pointers, move pointer if it is not an vowel"
   ]
  },
  {
   "cell_type": "code",
   "execution_count": 3,
   "metadata": {
    "collapsed": true
   },
   "outputs": [],
   "source": [
    "class Solution(object):\n",
    "    def reverseVowels(self, s):\n",
    "        \"\"\"\n",
    "        :type s: str\n",
    "        :rtype: str\n",
    "        \"\"\"\n",
    "        s1 = list(s)\n",
    "        vowel = 'aeiouAEIOU'\n",
    "        i, j = 0, len(s1)-1\n",
    "        while i < j:\n",
    "            if s1[i] in vowel and s1[j] in vowel:\n",
    "                s1[i], s1[j] = s1[j], s1[i]\n",
    "                i += 1\n",
    "                j -= 1\n",
    "            elif s1[i] not in vowel:\n",
    "                i += 1\n",
    "            else:\n",
    "                j -= 1\n",
    "        return ''.join(s1)"
   ]
  },
  {
   "cell_type": "markdown",
   "metadata": {},
   "source": [
    "### 3. 349 - Intersection of Two Arrays\n",
    "\n",
    "**idea** set"
   ]
  },
  {
   "cell_type": "code",
   "execution_count": 4,
   "metadata": {
    "collapsed": true
   },
   "outputs": [],
   "source": [
    "class Solution(object):\n",
    "    def intersection(self, nums1, nums2):\n",
    "        \"\"\"\n",
    "        :type nums1: List[int]\n",
    "        :type nums2: List[int]\n",
    "        :rtype: List[int]\n",
    "        \"\"\"\n",
    "        d = set(nums1)\n",
    "                \n",
    "        ret = set()\n",
    "        for n in set(nums2):\n",
    "            if n in d:\n",
    "                ret.add(n)\n",
    "                \n",
    "        return list(ret)"
   ]
  },
  {
   "cell_type": "markdown",
   "metadata": {},
   "source": [
    "## 4. 328 - Odd Even Linked List\n",
    "Given a singly linked list, group all odd nodes together followed by the even nodes. Please note here we are talking about the node number and not the value in the nodes.\n",
    "\n",
    "You should try to do it in place. The program should run in O(1) space complexity and O(nodes) time complexity.\n",
    "\n",
    "**idea** split into two linked list: odd & even  \n",
    "Then link evenhead to oddtail"
   ]
  },
  {
   "cell_type": "code",
   "execution_count": 5,
   "metadata": {
    "collapsed": true
   },
   "outputs": [],
   "source": [
    "class Solution(object):\n",
    "    def oddEvenList(self, head):\n",
    "        \"\"\"\n",
    "        :type head: ListNode\n",
    "        :rtype: ListNode\n",
    "        \"\"\"\n",
    "        if not head: return \n",
    "\n",
    "        odd = head\n",
    "        even = evenHead = head.next\n",
    "        \n",
    "        while odd.next and even.next:\n",
    "            odd.next = even.next\n",
    "            odd = odd.next\n",
    "            even.next = odd.next\n",
    "            even = even.next\n",
    "        odd.next = evenHead\n",
    "\n",
    "        return head"
   ]
  }
 ],
 "metadata": {
  "kernelspec": {
   "display_name": "Python 2",
   "language": "python",
   "name": "python2"
  },
  "language_info": {
   "codemirror_mode": {
    "name": "ipython",
    "version": 2
   },
   "file_extension": ".py",
   "mimetype": "text/x-python",
   "name": "python",
   "nbconvert_exporter": "python",
   "pygments_lexer": "ipython2",
   "version": "2.7.14"
  }
 },
 "nbformat": 4,
 "nbformat_minor": 2
}
