{
 "cells": [
  {
   "cell_type": "markdown",
   "metadata": {},
   "source": [
    "## 1. 116 - populating next right pointers in each node\n",
    "\n",
    "**idea** level traversal"
   ]
  },
  {
   "cell_type": "code",
   "execution_count": 1,
   "metadata": {
    "collapsed": true
   },
   "outputs": [],
   "source": [
    "class Solution:\n",
    "    # @param root, a tree link node\n",
    "    # @return nothing\n",
    "    def connect(self, root):\n",
    "        if not root: return\n",
    "        level = [root]\n",
    "        while level:\n",
    "            i = -1\n",
    "            for i in range(len(level)-1):\n",
    "                level[i].next = level[i+1]\n",
    "            level[i+1].next = None\n",
    "            level = [kid for node in level for kid in (node.left, node.right) if kid]"
   ]
  },
  {
   "cell_type": "markdown",
   "metadata": {},
   "source": [
    "## 2. 117 - populating next right pointers in each node II\n",
    "\n",
    "**idea** level traversal  "
   ]
  },
  {
   "cell_type": "code",
   "execution_count": 2,
   "metadata": {
    "collapsed": true
   },
   "outputs": [],
   "source": [
    "class Solution:\n",
    "    # @param root, a tree link node\n",
    "    # @return nothing\n",
    "    def connect(self, root):\n",
    "        if not root: return\n",
    "        level = [root]\n",
    "        while level:\n",
    "            if len(level) > 1:\n",
    "                for i in range(len(level)-1):\n",
    "                    level[i].next = level[i+1]\n",
    "                level[i+1].next = None\n",
    "            else:\n",
    "                level[0].next = None\n",
    "            level = [kid for node in level for kid in (node.left, node.right) if kid]"
   ]
  },
  {
   "cell_type": "markdown",
   "metadata": {},
   "source": [
    "### 3. 118 - pascal's triangle\n",
    "In Pascal's triangle, each number is the sum of the two numbers directly above it.  \n",
    "Return the whole triangle.\n",
    "\n",
    "**idea** use previous row to generate current row"
   ]
  },
  {
   "cell_type": "code",
   "execution_count": 3,
   "metadata": {
    "collapsed": true
   },
   "outputs": [],
   "source": [
    "class Solution(object):\n",
    "    def generate(self, numRows):\n",
    "        \"\"\"\n",
    "        :type numRows: int\n",
    "        :rtype: List[List[int]]\n",
    "        \"\"\"\n",
    "        ret = [[1]]  # initialize when n = 1\n",
    "        for n in range(2, numRows+1): # for instead of while\n",
    "            # pre = ret[-1]\n",
    "            ret += [[1] + [ret[-1][i-1] + ret[-1][i] for i in range(1, n-1)] + [1]]\n",
    "        return ret[:numRows]  # handle n = 0"
   ]
  },
  {
   "cell_type": "markdown",
   "metadata": {},
   "source": [
    "### 4. 119 - pascal's triangle II\n",
    "Return a specific row of triangle."
   ]
  },
  {
   "cell_type": "code",
   "execution_count": 4,
   "metadata": {
    "collapsed": true
   },
   "outputs": [],
   "source": [
    "class Solution(object):\n",
    "    def getRow(self, rowIndex):\n",
    "        \"\"\"\n",
    "        :type rowIndex: int\n",
    "        :rtype: List[int]\n",
    "        \"\"\"\n",
    "        ret = [1]\n",
    "        for n in range(rowIndex):  # number of loops\n",
    "            # index = n+1\n",
    "            # row n-1 has n+2 elements\n",
    "            # has n loops\n",
    "            ret = [1] + [ret[i-1] + ret[i] for i in range(1,n+1)] + [1]\n",
    "        return ret"
   ]
  },
  {
   "cell_type": "markdown",
   "metadata": {},
   "source": [
    "## 5. 120 - triangle\n",
    "Given a triangle, find the minimum path sum from top to bottom. Each step you may move to adjacent numbers on the row below.  \n",
    "\n",
    "**idea** dp  \n",
    "update the triangle in-place  \n",
    "change to the minimum path sum at that point"
   ]
  },
  {
   "cell_type": "code",
   "execution_count": 5,
   "metadata": {
    "collapsed": true
   },
   "outputs": [],
   "source": [
    "class Solution(object):\n",
    "    def minimumTotal(self, triangle):\n",
    "        \"\"\"\n",
    "        :type triangle: List[List[int]]\n",
    "        :rtype: int\n",
    "        \"\"\"\n",
    "        for row in range(1, len(triangle)):\n",
    "            for i in range(len(triangle[row])):\n",
    "                if i == 0:\n",
    "                    triangle[row][0] += triangle[row-1][0]\n",
    "                elif i == len(triangle[row])-1:\n",
    "                    triangle[row][i] += triangle[row-1][-1]\n",
    "                else:\n",
    "                    triangle[row][i] += min(triangle[row-1][i-1], triangle[row-1][i])\n",
    "        return min(triangle[-1])"
   ]
  },
  {
   "cell_type": "markdown",
   "metadata": {},
   "source": [
    "**idea** recursion(TLE)  \n",
    "contain duplicated calculation: one point two times"
   ]
  },
  {
   "cell_type": "code",
   "execution_count": 6,
   "metadata": {
    "collapsed": true
   },
   "outputs": [],
   "source": [
    "class Solution(object):\n",
    "    def minimumTotal(self, triangle):\n",
    "        \"\"\"\n",
    "        :type triangle: List[List[int]]\n",
    "        :rtype: int\n",
    "        \"\"\"\n",
    "        return min([self.helper(triangle, len(triangle)-1, j) for j in range(len(triangle[-1]))])   \n",
    "    \n",
    "    def helper(self, triangle, row, i):\n",
    "        if row == 0:\n",
    "            return triangle[row][0]\n",
    "        if i == 0:\n",
    "            return self.helper(triangle, row-1, 0) + triangle[row][0]\n",
    "        elif i == len(triangle[row]):\n",
    "            return self.helper(triangle, row-1, len(triangle[row])-1) + triangle[row][-1]\n",
    "        else:\n",
    "            return min(self.helper(triangle, row-1, i-1), self.helper(triangle, row-1, i)) + triangle[row][i]"
   ]
  },
  {
   "cell_type": "markdown",
   "metadata": {},
   "source": [
    "## 6. 127 - word ladder\n",
    "Given two words (beginWord and endWord), and a dictionary's word list, find the length of shortest transformation sequence from beginWord to endWord, such that:\n",
    "1. Only one letter can be changed at a time.\n",
    "2. Each transformed word must exist in the word list. Note that beginWord is not a transformed word.\n",
    "\n",
    "**idea** \n",
    "1. construct a dict based on the whole wordList  \n",
    "key: _ot, h_t, ho_ for hot  \n",
    "value: _ot: hot, lot, dot...  \n",
    "2. level traversal  \n",
    "level: how many steps does it take to get to this word from begining  \n",
    "traversal by search in corresponding key correlated with previous level. ex: pre level: [hit], keys: _it, h_t, hi_ \n",
    "3. return num of level if we find endWord  \n",
    "if when we finish one pass, endWord never occur, return 0  \n",
    "if current level is None, there is no further path to go, return 0\n",
    "4. use a seen set to store word we already see  \n",
    "if a word not in seen, add it to current level  \n",
    "no need to store duplicated words, if we can go to that word in previous levels, no need to take extra steps"
   ]
  },
  {
   "cell_type": "code",
   "execution_count": 7,
   "metadata": {
    "collapsed": true
   },
   "outputs": [],
   "source": [
    "class Solution(object):\n",
    "    def ladderLength(self, beginWord, endWord, wordList):\n",
    "        \"\"\"\n",
    "        :type beginWord: str\n",
    "        :type endWord: str\n",
    "        :type wordList: List[str]\n",
    "        :rtype: int\n",
    "        \"\"\"\n",
    "        if endWord not in wordList: return 0\n",
    "        \n",
    "        # lst: current level\n",
    "        dic, seen, lst, cnt = {}, set(), [beginWord], 1\n",
    "        for word in wordList:\n",
    "            for j in range(len(word)):\n",
    "                key = word[:j] + '_' + word[j+1:]\n",
    "                dic[key] = dic.get(key, []) + [word]\n",
    "\n",
    "        while len(seen) < len(wordList):\n",
    "            cnt += 1\n",
    "            tmp = []\n",
    "            for w1 in lst:\n",
    "                for i in range(len(w1)):\n",
    "                    key = w1[:i] + '_' + w1[i+1:]\n",
    "                    for w2 in dic.get(key, []):\n",
    "                        if w2 == endWord: return cnt\n",
    "                        if w2 not in seen:\n",
    "                            seen.add(w2)\n",
    "                            tmp += [w2]\n",
    "            if tmp == []: return 0\n",
    "            lst = tmp\n",
    "\n",
    "        return 0"
   ]
  }
 ],
 "metadata": {
  "kernelspec": {
   "display_name": "Python 2",
   "language": "python",
   "name": "python2"
  },
  "language_info": {
   "codemirror_mode": {
    "name": "ipython",
    "version": 2
   },
   "file_extension": ".py",
   "mimetype": "text/x-python",
   "name": "python",
   "nbconvert_exporter": "python",
   "pygments_lexer": "ipython2",
   "version": "2.7.14"
  }
 },
 "nbformat": 4,
 "nbformat_minor": 2
}
