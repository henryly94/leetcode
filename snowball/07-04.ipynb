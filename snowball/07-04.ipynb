{
 "cells": [
  {
   "cell_type": "markdown",
   "metadata": {},
   "source": [
    "### 1. 110 - balanced binary tree\n",
    "determine if a binary tree is height-balanced  \n",
    "\n",
    "**idea** return depth and if it is balanced  \n",
    "if left depth and right depth differ by more than 1, it's not balanced"
   ]
  },
  {
   "cell_type": "code",
   "execution_count": 1,
   "metadata": {
    "collapsed": true
   },
   "outputs": [],
   "source": [
    "class Solution(object):\n",
    "    def isBalanced(self, root):\n",
    "        return self.helper(root)[1]\n",
    "    \n",
    "    def helper(self, root):\n",
    "        if not root: return 0, True\n",
    "        if not root.left and not root.right:\n",
    "            return 1, True\n",
    "        d_left, b_left = self.helper(root.left)\n",
    "        d_right, b_right = self.helper(root.right)\n",
    "        d = max(d_left, d_right) + 1\n",
    "        return d, b_left and b_right and -1 <= d_left - d_right <= 1"
   ]
  },
  {
   "cell_type": "markdown",
   "metadata": {},
   "source": [
    "### 2. 111 - minimum depth of binary tree\n",
    "**idea** bottom-up, recursive"
   ]
  },
  {
   "cell_type": "code",
   "execution_count": 2,
   "metadata": {
    "collapsed": true
   },
   "outputs": [],
   "source": [
    "class Solution(object):\n",
    "    def minDepth(self, root):\n",
    "        \"\"\"\n",
    "        :type root: TreeNode\n",
    "        :rtype: int\n",
    "        \"\"\"\n",
    "        if not root: return 0\n",
    "        if not root.left and not root.right: return 1\n",
    "        # if a node doesn't has left or right node\n",
    "        # minimun depth subtree wouldn't be depth 0\n",
    "        if not root.left: return self.minDepth(root.right) + 1\n",
    "        if not root.right: return self.minDepth(root.left) + 1\n",
    "        return min(self.minDepth(root.left), self.minDepth(root.right)) + 1"
   ]
  },
  {
   "cell_type": "markdown",
   "metadata": {},
   "source": [
    "**idea** update every level, stop if there is a leaf"
   ]
  },
  {
   "cell_type": "code",
   "execution_count": 3,
   "metadata": {
    "collapsed": true
   },
   "outputs": [],
   "source": [
    "class Solution(object):\n",
    "    def minDepth(self, root):\n",
    "        \"\"\"\n",
    "        :type root: TreeNode\n",
    "        :rtype: int\n",
    "        \"\"\"\n",
    "        if not root: return 0\n",
    "        depth, level = 0, [root]\n",
    "        while level:\n",
    "            depth += 1\n",
    "            for node in level:\n",
    "                if not node.left and not node.right:\n",
    "                    return depth\n",
    "            level = [kid for node in level for kid in (node.left, node.right) if kid]   "
   ]
  },
  {
   "cell_type": "markdown",
   "metadata": {},
   "source": [
    "### 3. 112 - path sum\n",
    "\n",
    "Given a binary tree and a sum, determine if the tree has a root-to-leaf path such that adding up all the values along the path equals the given sum. return true or false\n",
    "\n",
    "**idea** recursive"
   ]
  },
  {
   "cell_type": "code",
   "execution_count": 4,
   "metadata": {
    "collapsed": true
   },
   "outputs": [],
   "source": [
    "class Solution(object):\n",
    "    def hasPathSum(self, root, sum):\n",
    "        \"\"\"\n",
    "        :type root: TreeNode\n",
    "        :type sum: int\n",
    "        :rtype: bool\n",
    "        \"\"\"\n",
    "        if not root: return False\n",
    "        if not root.left and not root.right and root.val == sum:\n",
    "            return True\n",
    "        return self.hasPathSum(root.left, sum-root.val) or self.hasPathSum(root.right,sum-root.val)"
   ]
  },
  {
   "cell_type": "markdown",
   "metadata": {},
   "source": [
    "## 4. 113 - path sum II\n",
    "Given a binary tree and a sum, find all root-to-leaf paths where each path's sum equals the given sum. return paths\n",
    "\n",
    "**idea** recursive, append path"
   ]
  },
  {
   "cell_type": "code",
   "execution_count": 5,
   "metadata": {
    "collapsed": true
   },
   "outputs": [],
   "source": [
    "class Solution(object):\n",
    "    def pathSum(self, root, sum):\n",
    "        \"\"\"\n",
    "        :type root: TreeNode\n",
    "        :type sum: int\n",
    "        :rtype: List[List[int]]\n",
    "        \"\"\"\n",
    "        ret = []\n",
    "        return self.findPath(root, sum, [], ret)        \n",
    "        \n",
    "    def findPath(self, root, sum, path, ret):\n",
    "        if not root: return []\n",
    "        if not root.left and not root.right and root.val == sum:\n",
    "            path.append(root.val)\n",
    "            ret.append(path)\n",
    "        self.findPath(root.left, sum-root.val, path+[root.val], ret)\n",
    "        self.findPath(root.right, sum-root.val, path+[root.val], ret)\n",
    "        return ret"
   ]
  },
  {
   "cell_type": "markdown",
   "metadata": {},
   "source": [
    "### 5. 437 - path sum III\n",
    "Find the number of paths that sum to a given value.  \n",
    "The path does not need to start or end at the root or a leaf, but it must go downwards (traveling only from parent nodes to child nodes).\n",
    "\n",
    "**idea** recursive, use a dict to store the sum from root to current node through current path  \n",
    "if current node sum - previous node sum = sum, count + 1  \n",
    "REMEMBER to go back to parent's dict"
   ]
  },
  {
   "cell_type": "code",
   "execution_count": 6,
   "metadata": {
    "collapsed": true
   },
   "outputs": [],
   "source": [
    "class Solution(object):\n",
    "    def pathSum(self, root, sum):\n",
    "        \"\"\"\n",
    "        :type root: TreeNode\n",
    "        :type sum: int\n",
    "        :rtype: int\n",
    "        \"\"\"\n",
    "        self.cnt = 0\n",
    "        return self.helper(root, sum, {0: 1}, 0)\n",
    "        # {0:1} if this path starts from root\n",
    "    \n",
    "    def helper(self, root, sum, cur, cursum):\n",
    "        if not root: return 0   \n",
    "        cursum = cursum + root.val\n",
    "        self.cnt += cur.get(cursum-sum, 0)\n",
    "        cur[cursum] = cur.get(cursum, 0) + 1\n",
    "        self.helper(root.left, sum, cur, cursum)\n",
    "        if root.left:\n",
    "            cur[cursum+root.left.val] = cur.get(cursum+root.left.val) - 1\n",
    "        self.helper(root.right, sum, cur, cursum)\n",
    "        if root.right:\n",
    "            cur[cursum+root.right.val] = cur.get(cursum+root.right.val) - 1\n",
    "        return self.cnt"
   ]
  },
  {
   "cell_type": "markdown",
   "metadata": {},
   "source": [
    "## reference & value pass\n",
    "reference pass: pointer, always modify the same thing  \n",
    "value pass: number"
   ]
  }
 ],
 "metadata": {
  "kernelspec": {
   "display_name": "Python 2",
   "language": "python",
   "name": "python2"
  },
  "language_info": {
   "codemirror_mode": {
    "name": "ipython",
    "version": 2
   },
   "file_extension": ".py",
   "mimetype": "text/x-python",
   "name": "python",
   "nbconvert_exporter": "python",
   "pygments_lexer": "ipython2",
   "version": "2.7.14"
  }
 },
 "nbformat": 4,
 "nbformat_minor": 2
}
