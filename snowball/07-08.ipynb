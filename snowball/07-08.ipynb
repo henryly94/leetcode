{
 "cells": [
  {
   "cell_type": "markdown",
   "metadata": {},
   "source": [
    "## 1. 129 - sum root to leaf numbers\n",
    "Find the total sum of all root-to-leaf numbers.\n",
    "\n",
    "**idea** dfs recursion, top-down  \n",
    "sum = sum*10 + node.val  \n",
    "\n",
    "For every step, we ONLY CARE whether this node is leaf node  \n",
    "if is leaf, add path sum to result  \n",
    "if not, do node.left / node.right"
   ]
  },
  {
   "cell_type": "code",
   "execution_count": 3,
   "metadata": {
    "collapsed": true
   },
   "outputs": [],
   "source": [
    "class Solution(object):\n",
    "    def sumNumbers(self, root):\n",
    "        \"\"\"\n",
    "        :type root: TreeNode\n",
    "        :rtype: int\n",
    "        \"\"\"\n",
    "        if not root: return 0\n",
    "        self.ret = 0\n",
    "        def helper(root, pathsum):  \n",
    "        # value can not be passed as a parameter\n",
    "            pathsum = pathsum*10 + root.val\n",
    "            if not root.left and not root.right:\n",
    "                self.ret += pathsum\n",
    "            if root.left:\n",
    "                helper(root.left, pathsum)\n",
    "            if root.right:\n",
    "                helper(root.right, pathsum)\n",
    "        helper(root, 0)\n",
    "        return self.ret"
   ]
  },
  {
   "cell_type": "markdown",
   "metadata": {},
   "source": [
    "## 2. 130 - surrounded regions\n",
    "flip all the \"O\" surrounded by \"X\" to \"X\"\n",
    "\n",
    "**idea** dfs  \n",
    "loop through the whole board   \n",
    "if there is a path to boarder, do not flip, else flip  \n",
    "\n",
    "only FATHER recursion knows the right choice  \n",
    "flip all the kid recursion with father recursion at one time if needed  \n",
    "\n",
    "remember to use SET() (dict) to store hasbeen  \n",
    "hasbeen: global  \n",
    "been: local for every board (i,j)"
   ]
  },
  {
   "cell_type": "code",
   "execution_count": 1,
   "metadata": {
    "collapsed": true
   },
   "outputs": [],
   "source": [
    "class Solution(object):\n",
    "    def solve(self, board):\n",
    "        \"\"\"\n",
    "        :type board: List[List[str]]\n",
    "        :rtype: void Do not return anything, modify board in-place instead.\n",
    "        \"\"\"\n",
    "        if not board: return\n",
    "        self.m, self.n = len(board), len(board[0])\n",
    "        hasbeen = set()  \n",
    "        # set: search O(1)\n",
    "        for i in range(self.m):\n",
    "            for j in range(self.n):\n",
    "                # we know the right choice for (i,j)\n",
    "                # we change the value of all the SEEN points in self.findPath(i,j,board,seen)\n",
    "                # (i,j) and seen are handled, no need to be processed again\n",
    "                if (i, j) in hasbeen: continue\n",
    "                seen = set()\n",
    "                # seen and hasbeen only have 'O'\n",
    "                if not self.findPath(i, j, board, seen):\n",
    "                    for p, q in seen:\n",
    "                        board[p][q] = 'X'\n",
    "                hasbeen |= seen  # union set                \n",
    "            \n",
    "    def findPath(self, i, j, board, seen):\n",
    "        # True: we have path to boarder\n",
    "        # False: we are surrounded\n",
    "        if board[i][j] == 'X': return False\n",
    "        if (i,j) not in seen:\n",
    "            seen.add((i,j))\n",
    "            if i == 0 or i == self.m-1 or j == 0 or j == self.n-1:\n",
    "                return True\n",
    "            return (self.findPath(i-1,j,board,seen) or self.findPath(i+1,j,board,seen) or self.findPath(i,j-1,board,seen) or self.findPath(i,j+1,board,seen))\n",
    "        return False\n",
    "    "
   ]
  },
  {
   "cell_type": "markdown",
   "metadata": {},
   "source": [
    "## 3. 221 - maximal square\n",
    "Given a 2D binary matrix filled with 0's and 1's, find the largest square containing only 1's and return its area.\n",
    "\n",
    "**idea** dp  \n",
    "for every 2 $\\times$ 2 square, side length of (1,1) is min[(0,0),(1,0),(0,1)] + 1  \n",
    "\n",
    "open a new matrix (need extra space) /  \n",
    "change the matrix in-place (need to change str to int)"
   ]
  },
  {
   "cell_type": "code",
   "execution_count": 2,
   "metadata": {
    "collapsed": true
   },
   "outputs": [],
   "source": [
    "class Solution(object):\n",
    "    def maximalSquare(self, matrix):\n",
    "        \"\"\"\n",
    "        :type matrix: List[List[str]]\n",
    "        :rtype: int\n",
    "        \"\"\"\n",
    "        if not matrix: return 0\n",
    "        m, n = len(matrix), len(matrix[0])\n",
    "        for i in range(1,m):\n",
    "            for j in range(1,n):\n",
    "                if int(matrix[i][j]) == 1:\n",
    "                    matrix[i][j] = min([int(matrix[i-1][j-1]), int(matrix[i-1][j]), int(matrix[i][j-1])]) + 1\n",
    "        # can track the max value in loop\n",
    "        return max([max([int(matrix[i][j]) for j in range(n)]) for i in range(m)]) ** 2"
   ]
  }
 ],
 "metadata": {
  "kernelspec": {
   "display_name": "Python 2",
   "language": "python",
   "name": "python2"
  },
  "language_info": {
   "codemirror_mode": {
    "name": "ipython",
    "version": 2
   },
   "file_extension": ".py",
   "mimetype": "text/x-python",
   "name": "python",
   "nbconvert_exporter": "python",
   "pygments_lexer": "ipython2",
   "version": "2.7.14"
  }
 },
 "nbformat": 4,
 "nbformat_minor": 2
}
