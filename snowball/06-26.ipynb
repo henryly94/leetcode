{
 "cells": [
  {
   "cell_type": "markdown",
   "metadata": {},
   "source": [
    "## 1. 81 - search in rotated sorted array II\n",
    "rotated sorted list may contain duplicates\n",
    "\n",
    "**idea** \n",
    "There must be at least ONE OERED part  \n",
    "Difference: left may equals to mid, there might be no part is order, we move left until it's not equal"
   ]
  },
  {
   "cell_type": "code",
   "execution_count": 1,
   "metadata": {
    "collapsed": true
   },
   "outputs": [],
   "source": [
    "class Solution(object):\n",
    "    def search(self, nums, target):\n",
    "        \"\"\"\n",
    "        :type nums: List[int]\n",
    "        :type target: int\n",
    "        :rtype: bool\n",
    "        \"\"\"\n",
    "        l, r = 0, len(nums)-1\n",
    "        \n",
    "        while l <= r:\n",
    "            mid = (l+r) / 2 \n",
    "            \n",
    "            if nums[l] == target or nums[mid] == target or nums[r] == target:\n",
    "                return True\n",
    "            \n",
    "            # tricky part\n",
    "            while l < mid and nums[l] == nums[mid]:\n",
    "                l += 1\n",
    "                \n",
    "            if nums[l] <= nums[mid]:\n",
    "                if nums[l] < target < nums[mid]:\n",
    "                    r = mid - 1\n",
    "                else:\n",
    "                    l = mid + 1\n",
    "                    \n",
    "            else:\n",
    "                if nums[mid] < target < nums[r]:\n",
    "                    l = mid + 1\n",
    "                else:\n",
    "                    r = mid - 1\n",
    "                    \n",
    "        return False"
   ]
  },
  {
   "cell_type": "markdown",
   "metadata": {},
   "source": [
    "### 2. 83 - remove duplicates from sorted list\n",
    "linked list \n",
    "\n",
    "**idea** pass all the duplicated node"
   ]
  },
  {
   "cell_type": "code",
   "execution_count": 2,
   "metadata": {
    "collapsed": true
   },
   "outputs": [],
   "source": [
    "class Solution(object):\n",
    "    def deleteDuplicates(self, head):\n",
    "        \"\"\"\n",
    "        :type head: ListNode\n",
    "        :rtype: ListNode\n",
    "        \"\"\"\n",
    "        if head is None:\n",
    "            return head\n",
    "        curr = head  # head is preserved for sure\n",
    "        while curr.next:  \n",
    "        # until curr is the second last node\n",
    "        # check if it's equal to the last node\n",
    "            if curr.next.val == curr.val:\n",
    "                curr.next = curr.next.next\n",
    "            else:\n",
    "                curr = curr.next\n",
    "        return head"
   ]
  },
  {
   "cell_type": "markdown",
   "metadata": {},
   "source": [
    "## 3. 82 - remove duplicates from sorted list II\n",
    "leaving only distinct values\n",
    "\n",
    "**idea** check if curr value is unique  \n",
    "pass all the nodes that is not distinct"
   ]
  },
  {
   "cell_type": "code",
   "execution_count": 3,
   "metadata": {
    "collapsed": true
   },
   "outputs": [],
   "source": [
    "class Solution(object):\n",
    "    def deleteDuplicates(self, head):\n",
    "        \"\"\"\n",
    "        :type head: ListNode\n",
    "        :rtype: ListNode\n",
    "        \"\"\"\n",
    "        pre = start = ListNode(float('-inf'))  \n",
    "        # dummy: return, pre: all the positions ahead of it is ready\n",
    "        curr = start.next = head  \n",
    "        # curr is one position ahead of pre\n",
    "        \n",
    "        while curr and curr.next:  \n",
    "        # loop until second last node\n",
    "        \n",
    "            if curr.next.val != curr.val  and curr.val != pre.val:  \n",
    "            # if curr is unique, add it to list\n",
    "                pre.next = curr\n",
    "                pre = pre.next\n",
    "                \n",
    "            tmp = curr.val  # store current value\n",
    "            while curr and curr.val == tmp:  # pass the duplicates\n",
    "                if curr.next:\n",
    "                    curr = curr.next\n",
    "                else:\n",
    "                    curr = None  # handle the end point\n",
    "        pre.next = curr  # add end point\n",
    "        return start.next"
   ]
  },
  {
   "cell_type": "markdown",
   "metadata": {},
   "source": [
    "## 4. 86 - partition list\n",
    "Given a linked list and a value x, partition it such that all nodes less than x come before nodes greater than or equal to x.  \n",
    "You should preserve the original relative order of the nodes in each of the two partitions.  \n",
    "Input: head = 1->4->3->2->5->2, x = 3  \n",
    "Output: 1->2->2->4->3->5\n",
    "\n",
    "**idea** two pointers, one for smaller value, another for larger or equal value  \n",
    "add larger part to smaller part"
   ]
  },
  {
   "cell_type": "code",
   "execution_count": 4,
   "metadata": {
    "collapsed": true
   },
   "outputs": [],
   "source": [
    "class Solution(object):\n",
    "    def partition(self, head, x):\n",
    "        \"\"\"\n",
    "        :type head: ListNode\n",
    "        :type x: int\n",
    "        :rtype: ListNode\n",
    "        \"\"\"\n",
    "        s = hs = ListNode(0)\n",
    "        b = hb = ListNode(0)\n",
    "        curr = head\n",
    "        while curr:  # loop until the last node\n",
    "            if curr.val < x:\n",
    "                s.next = curr\n",
    "                s = curr\n",
    "            else:\n",
    "                b.next = curr\n",
    "                b = curr\n",
    "            curr = curr.next\n",
    "        b.next = None\n",
    "        s.next = hb.next\n",
    "        return hs.next"
   ]
  },
  {
   "cell_type": "markdown",
   "metadata": {},
   "source": [
    "### 5. 88 - merge sorted array\n",
    "Given two sorted integer arrays nums1 and nums2, merge nums2 into nums1 as one sorted array.  \n",
    "Input:  \n",
    "nums1 = [1,2,3,0,0,0], m = 3  \n",
    "nums2 = [2,5,6],       n = 3  \n",
    "Output: [1,2,2,3,5,6]\n",
    "\n",
    "**idea** reversely  \n",
    "remember to fill the rest part of nums2 (if any)"
   ]
  },
  {
   "cell_type": "code",
   "execution_count": 5,
   "metadata": {
    "collapsed": true
   },
   "outputs": [],
   "source": [
    "class Solution(object):\n",
    "    def merge(self, nums1, m, nums2, n):\n",
    "        \"\"\"\n",
    "        :type nums1: List[int]\n",
    "        :type m: int\n",
    "        :type nums2: List[int]\n",
    "        :type n: int\n",
    "        :rtype: void Do not return anything, modify nums1 in-place instead.\n",
    "        \"\"\"\n",
    "        i, j, N = m-1, n-1, m+n-1\n",
    "        while i >= 0 and j >= 0:\n",
    "            if nums1[i] >= nums2[j]:\n",
    "                nums1[N] = nums1[i]\n",
    "                i -= 1\n",
    "            else:\n",
    "                nums1[N] = nums2[j]\n",
    "                j -= 1\n",
    "            N -= 1\n",
    "        if i < 0:\n",
    "            nums1[:j+1] = nums2[:j+1]"
   ]
  },
  {
   "cell_type": "markdown",
   "metadata": {},
   "source": [
    "## 6. 89 - gray code\n",
    "The gray code is a binary numeral system where two successive values differ in only one bit.  \n",
    "Given a non-negative integer n representing the total number of bits in the code, print the sequence of gray code. A gray code sequence must begin with 0.  \n",
    "Input: 2  \n",
    "Output: [0,1,3,2]  \n",
    "Explanation:  \n",
    "00 - 0  \n",
    "01 - 1  \n",
    "11 - 3  \n",
    "10 - 2   "
   ]
  },
  {
   "cell_type": "markdown",
   "metadata": {},
   "source": [
    "## recursive\n",
    "1. initial status\n",
    "2. from k-1 to k, do **one step** at a time\n",
    "3. stop condition"
   ]
  },
  {
   "cell_type": "code",
   "execution_count": 6,
   "metadata": {
    "collapsed": true
   },
   "outputs": [],
   "source": [
    "class Solution(object):\n",
    "    def grayCode(self, n):\n",
    "        \"\"\"\n",
    "        :type n: int\n",
    "        :rtype: List[int]\n",
    "        \"\"\"\n",
    "        res = [0]\n",
    "        def helper(arr, k):\n",
    "            if k > 0:\n",
    "                helper(arr, k-1)\n",
    "                # exclusive disjunction with 1: 0>>>1,1>>>0, with 0: not change\n",
    "                # (1<<k-1) there is a 1 in position -k\n",
    "                # do oen step on the result of last step(arr[-1])\n",
    "                arr.append(arr[-1] ^ (1 << (k-1)))\n",
    "                helper(arr, k-1)\n",
    "        helper(res, n)\n",
    "        return res"
   ]
  },
  {
   "cell_type": "markdown",
   "metadata": {},
   "source": [
    "**idea**             \n",
    "1. we change from position -1 to 2\n",
    "2. turn 0 to 1 in first postion\n",
    "3. do the changes reversely from 2 to -1"
   ]
  },
  {
   "cell_type": "code",
   "execution_count": 7,
   "metadata": {
    "collapsed": true
   },
   "outputs": [],
   "source": [
    "class Solution(object):\n",
    "    def grayCode(self, n):\n",
    "        \"\"\"\n",
    "        :type n: int\n",
    "        :rtype: List[int]\n",
    "        \"\"\"\n",
    "        ans = [0]\n",
    "        for i in range(n):\n",
    "            head = 1 << i  # first position has 1\n",
    "            ans = ans + [head+code for code in ans[::-1]]\n",
    "        return ans"
   ]
  }
 ],
 "metadata": {
  "kernelspec": {
   "display_name": "Python 2",
   "language": "python",
   "name": "python2"
  },
  "language_info": {
   "codemirror_mode": {
    "name": "ipython",
    "version": 2
   },
   "file_extension": ".py",
   "mimetype": "text/x-python",
   "name": "python",
   "nbconvert_exporter": "python",
   "pygments_lexer": "ipython2",
   "version": "2.7.14"
  }
 },
 "nbformat": 4,
 "nbformat_minor": 2
}
