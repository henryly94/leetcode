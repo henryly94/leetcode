{
 "cells": [
  {
   "cell_type": "markdown",
   "metadata": {},
   "source": [
    "## 1. 9 - palindrome number\n",
    "Determine whether an integer is a palindrome. An integer is a palindrome when it reads the same backward as forward.\n",
    "\n",
    "**idea** reversed number = number?  \n",
    "if number is negative, it can't be palindrome  \n",
    "do not change the original parameter  \n",
    "use a single number y to store reversed number"
   ]
  },
  {
   "cell_type": "code",
   "execution_count": 1,
   "metadata": {
    "collapsed": true
   },
   "outputs": [],
   "source": [
    "class Solution(object):\n",
    "    def isPalindrome(self, x):\n",
    "        \"\"\"\n",
    "        :type x: int\n",
    "        :rtype: bool\n",
    "        \"\"\"\n",
    "        if x < 0: return False\n",
    "        y,y0 = 0,x\n",
    "        while y0 > 0:\n",
    "            y = y*10 + y0%10  #reversed number\n",
    "            y0 = y0//10  #remove the last digit\n",
    "        return y == x  #whether the reversed number = number"
   ]
  },
  {
   "cell_type": "markdown",
   "metadata": {},
   "source": [
    "## 2. 3 - longest substring without repeating characters\n",
    "Given a string, find the length of the longest substring without repeating characters.\n",
    "\n",
    "**idea** use a dict to store the last location of a letter\n",
    "1. move end pointer to next letter  \n",
    "2. determine whether it has occurred before, if so, move start pointer  \n",
    "3. renew the dict and maxlen"
   ]
  },
  {
   "cell_type": "code",
   "execution_count": 3,
   "metadata": {
    "collapsed": true
   },
   "outputs": [],
   "source": [
    "class Solution(object):\n",
    "    def lengthOfLongestSubstring(self, s):\n",
    "        \"\"\"\n",
    "        :type s: str\n",
    "        :rtype: int\n",
    "        \"\"\"\n",
    "        start,end,maxlen = 0,0,0\n",
    "        d = {}\n",
    "        while end < len(s):\n",
    "            if s[end] in d and d[s[end]] >= start:\n",
    "                start = d[s[end]] + 1\n",
    "            d[s[end]] = end\n",
    "            maxlen = max(maxlen,end-start+1)\n",
    "            end += 1\n",
    "        return maxlen"
   ]
  },
  {
   "cell_type": "markdown",
   "metadata": {},
   "source": [
    "## 3. 27 - remove element\n",
    "remove all instances of a specific value in-place and return the new length\n",
    "\n",
    "**idea** record the new location of every single letter, make nums[new location] = value"
   ]
  },
  {
   "cell_type": "code",
   "execution_count": 2,
   "metadata": {
    "collapsed": true
   },
   "outputs": [],
   "source": [
    "class Solution(object):\n",
    "    def removeElement(self, nums, val):\n",
    "        \"\"\"\n",
    "        :type nums: List[int]\n",
    "        :type val: int\n",
    "        :rtype: int\n",
    "        \"\"\"\n",
    "        x = 0\n",
    "        for num in nums:\n",
    "            if num != val: \n",
    "                nums[x] = num\n",
    "                x += 1\n",
    "        return x"
   ]
  },
  {
   "cell_type": "markdown",
   "metadata": {},
   "source": [
    "## 4. 15 - 3Sum\n",
    "Find all unique triplets in the array which gives the sum of zero.\n",
    "**idea** \n",
    "1. sort the array  \n",
    "2. loop through the array, make i the **smallest** element  \n",
    "3. use two pointers - left start from i+1 and right from -1  \n",
    "4. determine whether sum of these three =0 or >0 or <0\n",
    "5. pass same value of i,l,r"
   ]
  },
  {
   "cell_type": "code",
   "execution_count": 4,
   "metadata": {
    "collapsed": true
   },
   "outputs": [],
   "source": [
    "class Solution(object):\n",
    "    def threeSum(self, nums):\n",
    "        \"\"\"\n",
    "        :type nums: List[int]\n",
    "        :rtype: List[List[int]]\n",
    "        \"\"\"\n",
    "        nums.sort()\n",
    "        output = []\n",
    "        for i in range(len(nums)-2):\n",
    "            if i > 0 and nums[i] == nums[i-1]: continue \n",
    "            #i>0, pass the same value of i\n",
    "            l, r = i+1, len(nums)-1  \n",
    "            #i must be the smallest one\n",
    "            while l < r:\n",
    "                if nums[l] + nums[i] + nums[r] == 0:\n",
    "                    output.append([nums[l], nums[i], nums[r]])\n",
    "                    while l < r and nums[l] == nums[l+1]: \n",
    "                        #add l<r in the inner while\n",
    "                        #pass the same value of l\n",
    "                        l += 1\n",
    "                    while l < r and nums[r] == nums[r-1]:\n",
    "                        r -= 1\n",
    "                    #if they are all unique, move l and r at the same time\n",
    "                    l += 1\n",
    "                    r -= 1 \n",
    "                elif nums[l] + nums[i] + nums[r] > 0:\n",
    "                    #duplicate doesn't matter if it doesn't equal 0\n",
    "                    r -= 1\n",
    "                else:\n",
    "                    l += 1\n",
    "        return output"
   ]
  }
 ],
 "metadata": {
  "kernelspec": {
   "display_name": "Python 2",
   "language": "python",
   "name": "python2"
  },
  "language_info": {
   "codemirror_mode": {
    "name": "ipython",
    "version": 2
   },
   "file_extension": ".py",
   "mimetype": "text/x-python",
   "name": "python",
   "nbconvert_exporter": "python",
   "pygments_lexer": "ipython2",
   "version": "2.7.14"
  }
 },
 "nbformat": 4,
 "nbformat_minor": 2
}
