{
 "cells": [
  {
   "cell_type": "markdown",
   "metadata": {},
   "source": [
    "## 1. 139 - word break\n",
    "\n",
    "Given a non-empty string s and a dictionary wordDict containing a list of non-empty words, determine if s can be segmented into a space-separated sequence of one or more dictionary words.\n",
    "\n",
    "**idea** dp  \n",
    "subproblem: is there a valid break ending in position i?  \n",
    "every step at position j: is there a valid break ending in postion i and s[i:j] is in list"
   ]
  },
  {
   "cell_type": "code",
   "execution_count": 19,
   "metadata": {},
   "outputs": [],
   "source": [
    "class Solution(object):\n",
    "    def wordBreak(self, s, wordDict):\n",
    "        \"\"\"\n",
    "        :type s: str\n",
    "        :type wordDict: List[str]\n",
    "        :rtype: bool\n",
    "        \"\"\"\n",
    "        # ending in position 0 must be true, since the first word in wordDict is valid\n",
    "        flag = [True] * (len(s)+1)  \n",
    "        # start judging from words ending in position 1\n",
    "        for i in range(1,len(s)+1):\n",
    "            flag[i] = any((flag[j] and s[j:i] in wordDict) for j in range(i))\n",
    "        return flag[-1]"
   ]
  },
  {
   "cell_type": "markdown",
   "metadata": {
    "collapsed": true
   },
   "source": [
    "## 2. 142 - linked list cycle II\n",
    "Given a linked list, return the node where the cycle begins. If there is no cycle, return null.\n",
    "\n",
    "**idea**  \n",
    "use a set to store seen elements  \n",
    "return the first element that occur twice"
   ]
  },
  {
   "cell_type": "code",
   "execution_count": 20,
   "metadata": {
    "collapsed": true
   },
   "outputs": [],
   "source": [
    "class Solution(object):\n",
    "    def detectCycle(self, head):\n",
    "        \"\"\"\n",
    "        :type head: ListNode\n",
    "        :rtype: ListNode\n",
    "        \"\"\"\n",
    "        if not head: return None\n",
    "        seen = set()\n",
    "        while head and head not in seen:\n",
    "            seen.add(head)\n",
    "            head = head.next\n",
    "        return head  # include None or the first element occur twice"
   ]
  },
  {
   "cell_type": "markdown",
   "metadata": {},
   "source": [
    "** idea ** constant space solution  \n",
    "two pointers: slow and fast, stop when they meet  \n",
    "third pointer: move with slow pointer, they will meet at the position we want  \n",
    "\n",
    "suppose a (cycle start point) b (slow & fast meet) n-a (rest cycle)  \n",
    "slow and fast: 2(a + b) = a + b + kn  >> a + b = kn  \n",
    "slow and pt: pt: a = kn - b to start point, slow: kn - b (equals to -b) back to start point"
   ]
  },
  {
   "cell_type": "code",
   "execution_count": 21,
   "metadata": {
    "collapsed": true
   },
   "outputs": [],
   "source": [
    "class Solution(object):\n",
    "    def detectCycle(self, head):\n",
    "        \"\"\"\n",
    "        :type head: ListNode\n",
    "        :rtype: ListNode\n",
    "        \"\"\"\n",
    "        if not head: return None\n",
    "        \n",
    "        slow, fast = head, head.next\n",
    "        # while fast and fast.next\n",
    "        while fast and fast.next and slow is not fast:\n",
    "            slow = slow.next\n",
    "            fast = fast.next.next\n",
    "        if not fast: return None\n",
    "        if not fast.next: return None\n",
    "        \n",
    "        # let pt and slow to be in the same stage\n",
    "        pt = head\n",
    "        slow = slow.next\n",
    "        while pt is not slow:\n",
    "            pt = pt.next\n",
    "            slow = slow.next\n",
    "            \n",
    "        return pt"
   ]
  },
  {
   "cell_type": "markdown",
   "metadata": {},
   "source": [
    "## 3. 143 - Reorder List\n",
    "Given a singly linked list L: L0→L1→…→Ln-1→Ln,\n",
    "reorder it to: L0→Ln→L1→Ln-1→L2→Ln-2→…  \n",
    "You may not modify the values in the list's nodes, only nodes itself may be changed.\n",
    "\n",
    "** idea**  \n",
    "find the mid point, cut it into two parts  \n",
    "reverse the second part  \n",
    "merge two parts together"
   ]
  },
  {
   "cell_type": "code",
   "execution_count": null,
   "metadata": {
    "collapsed": true
   },
   "outputs": [],
   "source": [
    "class Solution(object):\n",
    "    def reorderList(self, head):\n",
    "        \"\"\"\n",
    "        :type head: ListNode\n",
    "        :rtype: void Do not return anything, modify head in-place instead.\n",
    "        \"\"\"\n",
    "#         if not head: return \n",
    "        \n",
    "        dummy = ListNode(0)\n",
    "        dummy.next = head\n",
    "        slow, fast = dummy, dummy\n",
    "        while fast and fast.next:\n",
    "            slow = slow.next\n",
    "            fast = fast.next.next\n",
    "        newhead = slow.next\n",
    "        slow.next = None\n",
    "        \n",
    "        newhead = self.reverseList(newhead, prev=None)\n",
    "        \n",
    "        # insert newhead into oldhead list\n",
    "        pt, oldhead = head, head\n",
    "        while pt and newhead:\n",
    "            oldhead = pt.next\n",
    "            pt.next = newhead\n",
    "            tmp = newhead.next\n",
    "            newhead.next = oldhead\n",
    "            newhead = tmp\n",
    "            pt = pt.next.next\n",
    "          \n",
    "        # merge two lists, one from old, one from new...\n",
    "#         pt, oldhead = head, head.next\n",
    "#         while pt and newhead:\n",
    "#             pt.next = newhead\n",
    "#             newhead = newhead.next\n",
    "#             pt = pt.next\n",
    "#             if pt and oldhead:\n",
    "#                 pt.next = oldhead\n",
    "#                 oldhead = oldhead.next\n",
    "#                 pt = pt.next\n",
    "        \n",
    "    def reverseList(self, head, prev=None):\n",
    "        if not head: return prev\n",
    "        next = head.next\n",
    "        head.next = prev\n",
    "        return self.reverseList(next, head)"
   ]
  },
  {
   "cell_type": "markdown",
   "metadata": {},
   "source": [
    "## 4. 147 - Insertion Sort List\n",
    "\n",
    "**idea** insertion sort  \n",
    "for each element, find the right place ahead of it  \n",
    "1. tail: elements ahead of tail is sorted  \n",
    "2. cur = tail.next: is the element we are handling right now\n",
    "3. pt: from start to tail, insert cur into pt and pt.next\n",
    "4. compare tail with cur beforehand (efficiency)"
   ]
  },
  {
   "cell_type": "code",
   "execution_count": 22,
   "metadata": {
    "collapsed": true
   },
   "outputs": [],
   "source": [
    "class Solution(object):\n",
    "    def insertionSortList(self, head):\n",
    "        \"\"\"\n",
    "        :type head: ListNode\n",
    "        :rtype: ListNode\n",
    "        \"\"\"\n",
    "        dummy = ListNode(float('-inf'))\n",
    "        dummy.next = head\n",
    "        tail = dummy\n",
    "        while tail.next: ### !\n",
    "            cur = tail.next\n",
    "            if cur.val > tail.val:\n",
    "                tail = cur\n",
    "            else:   \n",
    "                pt = dummy\n",
    "                while pt is not tail and cur.val > pt.next.val:\n",
    "                    pt = pt.next\n",
    "                # move cur, tail is not changed\n",
    "                tail.next = cur.next\n",
    "                # insert cur before pt.next\n",
    "                cur.next = pt.next\n",
    "                # insert cur after pt\n",
    "                pt.next = cur               \n",
    "        return dummy.next"
   ]
  }
 ],
 "metadata": {
  "kernelspec": {
   "display_name": "Python 2",
   "language": "python",
   "name": "python2"
  },
  "language_info": {
   "codemirror_mode": {
    "name": "ipython",
    "version": 2
   },
   "file_extension": ".py",
   "mimetype": "text/x-python",
   "name": "python",
   "nbconvert_exporter": "python",
   "pygments_lexer": "ipython2",
   "version": "2.7.14"
  }
 },
 "nbformat": 4,
 "nbformat_minor": 2
}
