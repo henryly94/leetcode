{
 "cells": [
  {
   "cell_type": "markdown",
   "metadata": {},
   "source": [
    "## 1. 387 - first unique character in a string"
   ]
  },
  {
   "cell_type": "markdown",
   "metadata": {},
   "source": [
    "**idea** use a dict to store the count of each char  \n",
    "find the chars whose count == 1  \n",
    "return the min index of the chars"
   ]
  },
  {
   "cell_type": "code",
   "execution_count": 1,
   "metadata": {
    "collapsed": true
   },
   "outputs": [],
   "source": [
    "class Solution(object):\n",
    "    def firstUniqChar(self, s):\n",
    "        \"\"\"\n",
    "        :type s: str\n",
    "        :rtype: int\n",
    "        \"\"\"\n",
    "        # s.count(c)\n",
    "        d = {}\n",
    "        for c in s:\n",
    "            if c not in d:\n",
    "                d[c] = 1\n",
    "            else:\n",
    "                d[c] += 1\n",
    "        # all unique char: if s.count(c) == 1\n",
    "        l = [k for k,v in d.items() if v == 1]\n",
    "        if l != []:\n",
    "            return min(s.find(c) for c in l)\n",
    "            # store c.index in a dict O(1)\n",
    "        return -1"
   ]
  },
  {
   "cell_type": "code",
   "execution_count": 9,
   "metadata": {
    "collapsed": true
   },
   "outputs": [],
   "source": [
    "class Solution(object):\n",
    "    def firstUniqChar(self, s):\n",
    "        \"\"\"\n",
    "        :type s: str\n",
    "        :rtype: int\n",
    "        \"\"\"    \n",
    "        return min([s.index(c) for c in set(s) if s.count(c) == 1] or [-1])"
   ]
  },
  {
   "cell_type": "markdown",
   "metadata": {},
   "source": [
    "## 2. 198 - house robber\n",
    "rob several houses to get the biggest value, can't rob adjacent houses.\n",
    "\n",
    "**idea**  \n",
    "f(0) = nums[0]  \n",
    "f(1) = max(nums[0],nums[1])  \n",
    "f(n) = max(f(n-2)+nums[n], f(n-1))"
   ]
  },
  {
   "cell_type": "code",
   "execution_count": 10,
   "metadata": {
    "collapsed": true
   },
   "outputs": [],
   "source": [
    "class Solution(object):\n",
    "    def rob(self, nums):\n",
    "        \"\"\"\n",
    "        :type nums: List[int]\n",
    "        :rtype: int\n",
    "        \"\"\"\n",
    "        last, now = 0, 0\n",
    "        for i in nums:\n",
    "            last, now = now, max(last+i,now)\n",
    "        return now"
   ]
  },
  {
   "cell_type": "markdown",
   "metadata": {},
   "source": [
    "## 3. 412 - fizz buzz\n",
    "Write a program that outputs the string representation of numbers from 1 to n.  \n",
    "But for multiples of three it should output “Fizz” instead of the number and for the multiples of five output “Buzz”. For numbers which are multiples of both three and five output “FizzBuzz”."
   ]
  },
  {
   "cell_type": "code",
   "execution_count": 18,
   "metadata": {
    "collapsed": true
   },
   "outputs": [],
   "source": [
    "class Solution(object):\n",
    "    def fizzBuzz(self, n):\n",
    "        \"\"\"\n",
    "        :type n: int\n",
    "        :rtype: List[str]\n",
    "        \"\"\"\n",
    "        l = [str(x) for x in range(1,n+1)]\n",
    "        for i in range(1,n+1):\n",
    "            if i % 3 == 0: l[i-1] = 'Fizz'\n",
    "            elif i % 5 == 0: l[i-1] = 'Buzz'\n",
    "            if i % 15 == 0: l[i-1] = 'FizzBuzz'\n",
    "        return l"
   ]
  },
  {
   "cell_type": "markdown",
   "metadata": {},
   "source": [
    "## 4. 28 - implement strStr()\n",
    "Return the index of the first occurrence of needle in haystack, or -1 if needle is not part of haystack.  \n",
    "Input: haystack = \"hello\", needle = \"ll\"  \n",
    "Output: 2"
   ]
  },
  {
   "cell_type": "markdown",
   "metadata": {},
   "source": [
    "**idea** loop through haystack, to see if there is a needle"
   ]
  },
  {
   "cell_type": "code",
   "execution_count": 22,
   "metadata": {
    "collapsed": true
   },
   "outputs": [],
   "source": [
    "class Solution(object):\n",
    "    def strStr(self, haystack, needle):\n",
    "        \"\"\"\n",
    "        :type haystack: str\n",
    "        :type needle: str\n",
    "        :rtype: int\n",
    "        \"\"\"\n",
    "        for i in range(len(haystack)-len(needle)+1):\n",
    "            if haystack[i:i+len(needle)] == needle:\n",
    "                return i\n",
    "        return -1"
   ]
  },
  {
   "cell_type": "markdown",
   "metadata": {},
   "source": [
    "## 5. 14 - longest common prefix"
   ]
  },
  {
   "cell_type": "markdown",
   "metadata": {},
   "source": [
    "**idea** find the first index makes different prefix, return the former one  \n",
    "just compare with strs[0]"
   ]
  },
  {
   "cell_type": "code",
   "execution_count": 26,
   "metadata": {
    "collapsed": true
   },
   "outputs": [],
   "source": [
    "class Solution(object):\n",
    "    def longestCommonPrefix(self, strs):\n",
    "        \"\"\"\n",
    "        :type strs: List[str]\n",
    "        :rtype: str\n",
    "        \"\"\"\n",
    "        if strs == []: return \"\"\n",
    "        n = min(len(s) for s in strs)\n",
    "        for i in range(1,n+1):\n",
    "            for s in strs:\n",
    "                if s[:i] != strs[0][:i]:\n",
    "                # if s[i] != strs[0][i]:\n",
    "                    return strs[0][:i-1] if i > 0 else \"\"\n",
    "        return strs[0][:n]"
   ]
  }
 ],
 "metadata": {
  "kernelspec": {
   "display_name": "Python 3",
   "language": "python",
   "name": "python3"
  },
  "language_info": {
   "codemirror_mode": {
    "name": "ipython",
    "version": 3
   },
   "file_extension": ".py",
   "mimetype": "text/x-python",
   "name": "python",
   "nbconvert_exporter": "python",
   "pygments_lexer": "ipython3",
   "version": "3.5.4"
  }
 },
 "nbformat": 4,
 "nbformat_minor": 2
}
