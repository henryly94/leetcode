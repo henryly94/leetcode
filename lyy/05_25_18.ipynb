{
 "cells": [
  {
   "cell_type": "markdown",
   "metadata": {},
   "source": [
    "# 4. Median of Two Sorted Arrays\n",
    "\n",
    "There are two sorted arrays **nums1** and **nums2** of size m and n respectively.\n",
    "\n",
    "Find the median of the two sorted arrays. The overall run time complexity should be O(log (m+n))."
   ]
  },
  {
   "cell_type": "code",
   "execution_count": 59,
   "metadata": {},
   "outputs": [],
   "source": [
    "class Solution(object):\n",
    "    def findMedianSortedArrays(self, nums1, nums2):\n",
    "        \"\"\"\n",
    "        :type nums1: List[int]\n",
    "        :type nums2: List[int]\n",
    "        :rtype: float\n",
    "        \"\"\"\n",
    "        m, n = len(nums1), len(nums2)\n",
    "        head1, head2 = 0, 0\n",
    "        discard = 0\n",
    "        target = (m+n) / 2\n",
    "        while discard < target and head1 < m and head2 < n:\n",
    "            mid1 = (head1 + m-1) / 2\n",
    "            mid2 = (head2 + n-1) / 2\n",
    "            if nums1[mid1] >= nums2[mid2]:\n",
    "                discard += mid2 - head2\n",
    "                head2 = mid2 + 1\n",
    "            else:\n",
    "                discard += mid1 - head1\n",
    "                head1 = mid1 + 1\n",
    "            print nums1[head1:], nums2[head2:]\n",
    "            \n",
    "        \n",
    "            "
   ]
  },
  {
   "cell_type": "code",
   "execution_count": 60,
   "metadata": {},
   "outputs": [
    {
     "name": "stdout",
     "output_type": "stream",
     "text": [
      "[3] [2]\n",
      "[3] []\n"
     ]
    }
   ],
   "source": [
    "test = Solution()\n",
    "test.findMedianSortedArrays(\n",
    "    [1, 3],\n",
    "    [2]\n",
    ")"
   ]
  }
 ],
 "metadata": {
  "kernelspec": {
   "display_name": "Python 2",
   "language": "python",
   "name": "python2"
  },
  "language_info": {
   "codemirror_mode": {
    "name": "ipython",
    "version": 2
   },
   "file_extension": ".py",
   "mimetype": "text/x-python",
   "name": "python",
   "nbconvert_exporter": "python",
   "pygments_lexer": "ipython2",
   "version": "2.7.10"
  }
 },
 "nbformat": 4,
 "nbformat_minor": 2
}
