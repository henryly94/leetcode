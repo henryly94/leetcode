{
 "cells": [
  {
   "cell_type": "markdown",
   "metadata": {},
   "source": [
    "# 4. Median of Two Sorted Arrays\n",
    "\n",
    "## Description:\n",
    "\n",
    "There are two sorted arrays **nums1** and **nums2** of size m and n respectively.\n",
    "\n",
    "Find the median of the two sorted arrays. The overall run time complexity should be O(log (m+n)).\n",
    "\n",
    "## Thought\n",
    "\n",
    "- Equivalent to find the Kth small element. K = (m + n + 1) / 2 | (m + n + 2) / 2\n",
    "- To find the Kth elements, only need to eliminate front K-1 element\n",
    "- Everytime, we can eliminate at most K/2 from one of the list by:\n",
    "    - Comparing the K/2th element of two list\n",
    "    - Assuming A\\[K/2\\] is smaller, then every element in front of it can be eliminate\n",
    "    - Since every element among them can only greater than at most K/2 + (K/2-1) = K-1 element\n",
    "- By eliminate a subset of one list, we get two new list, and a new K.\n",
    "- Recursively do the process until K turn to 1. Then we can compare the head of two lilst\n",
    "   "
   ]
  },
  {
   "cell_type": "code",
   "execution_count": 83,
   "metadata": {},
   "outputs": [],
   "source": [
    "class Solution(object):\n",
    "    def findMedianSortedArrays(self, nums1, nums2):\n",
    "        \"\"\"\n",
    "        :type nums1: List[int]\n",
    "        :type nums2: List[int]\n",
    "        :rtype: float\n",
    "        \"\"\"\n",
    "        t1 = (len(nums1) + len(nums2) + 1) / 2\n",
    "        t2 = (len(nums1) + len(nums2) + 2) / 2\n",
    "        \n",
    "        def getK(A, B, k):\n",
    "            if len(A) > len(B):\n",
    "                return getK(B, A, k)\n",
    "            if len(A) == 0:\n",
    "                return B[k-1]\n",
    "            if k == 1:\n",
    "                return min(A[0], B[0])\n",
    "            i = min(len(A), k/2)\n",
    "            j = min(len(B), k/2)\n",
    "            if A[i-1] < B[j-1]:\n",
    "                return getK(A[i:], B, k-i)\n",
    "            else:\n",
    "                return getK(A, B[j:], k-j)\n",
    "        return (getK(nums1, nums2, t1) + getK(nums1, nums2, t2)) * 0.5"
   ]
  },
  {
   "cell_type": "markdown",
   "metadata": {},
   "source": [
    "# Test"
   ]
  },
  {
   "cell_type": "code",
   "execution_count": 82,
   "metadata": {},
   "outputs": [
    {
     "name": "stdout",
     "output_type": "stream",
     "text": [
      "2.5\n",
      "1.0\n",
      "3.5\n"
     ]
    }
   ],
   "source": [
    "test = Solution()\n",
    "print test.findMedianSortedArrays(\n",
    "    [1, 2],\n",
    "    [3, 4]\n",
    ")\n",
    "\n",
    "print test.findMedianSortedArrays(\n",
    "    [1, 1, 1],\n",
    "    [1, 1, 1]\n",
    ")\n",
    "\n",
    "print test.findMedianSortedArrays(\n",
    "    [1],\n",
    "    [2, 3, 4, 5, 6]\n",
    ")"
   ]
  }
 ],
 "metadata": {
  "kernelspec": {
   "display_name": "Python 2",
   "language": "python",
   "name": "python2"
  },
  "language_info": {
   "codemirror_mode": {
    "name": "ipython",
    "version": 2
   },
   "file_extension": ".py",
   "mimetype": "text/x-python",
   "name": "python",
   "nbconvert_exporter": "python",
   "pygments_lexer": "ipython2",
   "version": "2.7.10"
  }
 },
 "nbformat": 4,
 "nbformat_minor": 2
}
